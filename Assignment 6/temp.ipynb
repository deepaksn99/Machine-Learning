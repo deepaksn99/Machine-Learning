{
 "cells": [
  {
   "cell_type": "markdown",
   "metadata": {},
   "source": [
    "## Q1 (a)"
   ]
  },
  {
   "cell_type": "code",
   "execution_count": 1,
   "metadata": {},
   "outputs": [],
   "source": [
    "import matplotlib.pyplot as plt\n",
    "from sklearn.model_selection import train_test_split\n",
    "import numpy as np\n",
    "from sklearn.datasets import load_iris\n",
    "import pandas as pd\n",
    "from sklearn.utils import shuffle"
   ]
  },
  {
   "cell_type": "code",
   "execution_count": 2,
   "metadata": {},
   "outputs": [],
   "source": [
    "X = load_iris()['data']\n",
    "y = load_iris()['target']\n",
    "df = pd.DataFrame(X)\n",
    "\n",
    "df = df[[0,3]]\n",
    "\n",
    "dataset = np.array(df)\n",
    "df['y'] = pd.Series(y)"
   ]
  },
  {
   "cell_type": "code",
   "execution_count": 3,
   "metadata": {},
   "outputs": [],
   "source": [
    "def compute_gaussian(x, mean, variance):\n",
    "    val = (1/np.sqrt(2*np.pi*variance))*np.exp(-((x-mean)**2)/(2*variance))\n",
    "    return val"
   ]
  },
  {
   "cell_type": "code",
   "execution_count": 4,
   "metadata": {},
   "outputs": [],
   "source": [
    "\n",
    "\"\"\"\n",
    "    Defining the helper functions here\n",
    "\"\"\"\n",
    "def gaussian_naive_bayes(X,y):\n",
    "    number_classes = {}\n",
    "    for i in y:\n",
    "        if i not in number_classes:\n",
    "            number_classes[i]=1\n",
    "        else:\n",
    "            number_classes[i]+=1\n",
    "    normalise = 0\n",
    "    for i in number_classes:\n",
    "        normalise+=number_classes[i]\n",
    "    for i in number_classes:\n",
    "        number_classes[i]/=normalise\n",
    "    mean = {i:0  for i in number_classes}\n",
    "    variance = {i:0 for i in number_classes}\n",
    "    for label in number_classes:\n",
    "        new_arr = [0 for i in range(len(X[0]))]\n",
    "        var_arr = [0 for i in range(len(X[0]))]\n",
    "        count = 0\n",
    "        for j in range(len(y)):\n",
    "            if y[j] == label:\n",
    "                count+=1\n",
    "                for k in range(len(new_arr)):\n",
    "                    new_arr[k]+=X[j][k]\n",
    "                    var_arr[k]+=X[j][k]**2\n",
    "        for i in range(len(new_arr)):\n",
    "            new_arr[i]/=count\n",
    "            var_arr[i]/=count\n",
    "        mean[label] = np.array(new_arr)\n",
    "        var_compute = []\n",
    "        for i in range(len(new_arr)):\n",
    "            var_compute.append(var_arr[i] - new_arr[i]**2)\n",
    "        variance[label] = np.array(var_compute)\n",
    "    return mean, variance\n",
    "\n",
    "def predict(mean, variance, X_test, y_test,active=False,result=True):\n",
    "    predicted = [-1 for i in range(len(X_test))]\n",
    "    prob_values = []\n",
    "    for i in range(len(X_test)):\n",
    "        current_sample = X_test[i]\n",
    "        new_arr = []\n",
    "        for label in mean:\n",
    "            val = 0\n",
    "            for j in range(len(X_test[i])):\n",
    "                val+=np.log((compute_gaussian(X_test[i][j],mean[label][j],variance[label][j])))\n",
    "            new_arr.append((val,label))\n",
    "        new_arr = sorted(new_arr,key=lambda x: x[0])\n",
    "        predicted[i] = new_arr[len(new_arr)-1][1]\n",
    "        prob_values.append((new_arr[len(new_arr)-1][0],new_arr[len(new_arr)-1][1],i))\n",
    "    #print(predicted)\n",
    "    if result==True:\n",
    "        counter = 0\n",
    "        for i in range(len(y_test)):\n",
    "            if y_test[i]==predicted[i]:\n",
    "                counter+=1\n",
    "        print(\"Accuracy of Naive Bayes is,\",counter/len(y_test)*100,\"%\")\n",
    "    if active==False:\n",
    "        return np.array(predicted)\n",
    "    else:\n",
    "        return np.array(predicted),prob_values"
   ]
  },
  {
   "cell_type": "code",
   "execution_count": 5,
   "metadata": {},
   "outputs": [
    {
     "name": "stdout",
     "output_type": "stream",
     "text": [
      "Accuracy of Naive Bayes is, 98.0 %\n"
     ]
    }
   ],
   "source": [
    "df_new = shuffle(df)\n",
    "train = df_new[:100]\n",
    "test = df_new[100:]\n",
    "X_train = np.array(train[[0,3]])\n",
    "y_train =  np.array(train['y'])\n",
    "X_test =  np.array(test[[0,3]])\n",
    "y_test =  np.array(test['y'])\n",
    "mean_train, variance_train = gaussian_naive_bayes(X_train,y_train)\n",
    "predicted_labels = predict(mean_train,variance_train,X_test,y_test)"
   ]
  },
  {
   "cell_type": "markdown",
   "metadata": {},
   "source": [
    "## Q1 (b) (i)"
   ]
  },
  {
   "cell_type": "code",
   "execution_count": 6,
   "metadata": {},
   "outputs": [],
   "source": [
    "x_min, x_max = df[0].values.min() - .5, df[0].max() + .5\n",
    "y_min, y_max = df[3].min() - .5, df[3].max() + .5\n",
    "h = 0.1  # step size in the mesh\n",
    "xx, yy = np.meshgrid(np.arange(x_min, x_max, h), np.arange(y_min, y_max, h))\n",
    "Z = predict(mean_train,variance_train,np.c_[xx.ravel(), yy.ravel()],y_test,result=False)\n",
    "\n",
    "# Put the result into a color plot\n",
    "Z = Z.reshape(xx.shape)"
   ]
  },
  {
   "cell_type": "code",
   "execution_count": 7,
   "metadata": {
    "scrolled": true
   },
   "outputs": [
    {
     "name": "stdout",
     "output_type": "stream",
     "text": [
      "Accuracy of Naive Bayes is, 86.0 %\n",
      "Accuracy of Naive Bayes is, 90.0 %\n",
      "Accuracy of Naive Bayes is, 92.0 %\n",
      "Accuracy of Naive Bayes is, 92.0 %\n",
      "Accuracy of Naive Bayes is, 92.0 %\n",
      "Accuracy of Naive Bayes is, 92.0 %\n",
      "Accuracy of Naive Bayes is, 92.0 %\n",
      "Accuracy of Naive Bayes is, 92.0 %\n",
      "Accuracy of Naive Bayes is, 92.0 %\n",
      "Accuracy of Naive Bayes is, 92.0 %\n",
      "Accuracy of Naive Bayes is, 92.0 %\n",
      "Accuracy of Naive Bayes is, 92.0 %\n",
      "Accuracy of Naive Bayes is, 92.0 %\n",
      "Accuracy of Naive Bayes is, 92.0 %\n",
      "Accuracy of Naive Bayes is, 92.0 %\n",
      "Accuracy of Naive Bayes is, 92.0 %\n",
      "Accuracy of Naive Bayes is, 92.0 %\n",
      "Accuracy of Naive Bayes is, 92.0 %\n",
      "Accuracy of Naive Bayes is, 92.0 %\n",
      "Accuracy of Naive Bayes is, 92.0 %\n",
      "Accuracy of Naive Bayes is, 92.0 %\n",
      "Accuracy of Naive Bayes is, 92.0 %\n",
      "Accuracy of Naive Bayes is, 92.0 %\n",
      "Accuracy of Naive Bayes is, 92.0 %\n",
      "Accuracy of Naive Bayes is, 92.0 %\n"
     ]
    }
   ],
   "source": [
    "df_new = shuffle(df)\n",
    "train_set = df_new[:15]\n",
    "pool_set = df_new[15:100]\n",
    "test_set = df_new[100:]\n",
    "X_train = np.array(train_set[[0,3]])\n",
    "y_train =  np.array(train_set['y'])\n",
    "X_test =  np.array(test_set[[0,3]])\n",
    "y_test =  np.array(test_set['y'])\n",
    "X_pool = np.array(pool_set[[0,3]])\n",
    "y_pool = np.array(pool_set['y'])\n",
    "\n",
    "mean_train, variance_train = gaussian_naive_bayes(X_train, y_train)\n",
    "accuracy_active = []\n",
    "for itr in range(25):\n",
    "    _, prob = predict(mean_train,variance_train,X_pool,y_pool,active=True,result = False)\n",
    "    new_arr = (sorted(prob,key = lambda x:x[0]))\n",
    "    #print(index)\n",
    "    index = new_arr[0][2]\n",
    "    X_train = np.vstack([X_train, X_pool[index]])\n",
    "    y_train = list(y_train)\n",
    "    y_train.append(y_pool[index])\n",
    "    y_train = np.array(y_train)\n",
    "    X_pool = np.delete(X_pool,index,0)\n",
    "    y_pool = np.delete(y_pool,index)\n",
    "    mean_train, variance_train = gaussian_naive_bayes(X_train, y_train)\n",
    "    predicted_labels = predict(mean_train,variance_train,X_test,y_test)\n",
    "    counter = 0\n",
    "    for i in range(len(y_test)):\n",
    "        if y_test[i]==predicted_labels[i]:\n",
    "            counter+=1\n",
    "    accuracy_active.append(counter/len(y_test)*100)\n",
    "    Z = predict(mean_train, variance_train, np.c_[xx.ravel(), yy.ravel()],y_test,result = False)\n",
    "    Z = Z.reshape(xx.shape)\n",
    "    plt.figure(figsize = (9,6))\n",
    "    plt.scatter(X_train[:,0], X_train[:,1], c= y_train, \n",
    "            edgecolors='k', s=250, cmap=plt.cm.Paired )\n",
    "    plt.pcolormesh(xx, yy, Z, cmap=plt.cm.Paired, alpha=0.2)\n",
    "    plt.xlabel('Petal Width')\n",
    "    plt.ylabel('Sepal Length')\n",
    "    plt.title('Boundary Change as Active Learning goes on.. Note the added datapoints - '+str(itr))\n",
    "    plt.savefig('GIF/'+'00'+str(itr)+'.png')\n",
    "    plt.close()"
   ]
  },
  {
   "cell_type": "markdown",
   "metadata": {},
   "source": [
    "## Q1 (b) (ii)"
   ]
  },
  {
   "cell_type": "code",
   "execution_count": 8,
   "metadata": {},
   "outputs": [
    {
     "data": {
      "text/html": [
       "<img src=\"image.gif\"/>"
      ],
      "text/plain": [
       "<IPython.core.display.Image object>"
      ]
     },
     "execution_count": 8,
     "metadata": {},
     "output_type": "execute_result"
    }
   ],
   "source": [
    "from IPython.display import Image\n",
    "Image(url='image.gif')"
   ]
  },
  {
   "cell_type": "markdown",
   "metadata": {},
   "source": [
    "A much faster GIF is uploaded [here](https://drive.google.com/file/d/1J3UFvih944jwCcIzy6vgJF6oiVgTz5J4/view?usp=sharing)."
   ]
  },
  {
   "cell_type": "markdown",
   "metadata": {},
   "source": [
    "## Q1 (b) (iii)"
   ]
  },
  {
   "cell_type": "code",
   "execution_count": 9,
   "metadata": {},
   "outputs": [],
   "source": [
    "seed_ = [i for i in range(5)]\n",
    "overall = {i:[0 for j in range(10)] for i in range(5)}\n",
    "for sd in seed_:\n",
    "    train_set = df_new[:15]\n",
    "    pool_set = df_new[15:100]\n",
    "    test_set = df_new[100:]\n",
    "    X_train = np.array(train_set[[0,3]])\n",
    "    y_train =  np.array(train_set['y'])\n",
    "    X_test =  np.array(test_set[[0,3]])\n",
    "    y_test =  np.array(test_set['y'])\n",
    "    X_pool = np.array(pool_set[[0,3]])\n",
    "    y_pool = np.array(pool_set['y'])\n",
    "    np.random.seed(sd)\n",
    "    random_accuracy  = []\n",
    "    for itr in range(10):\n",
    "        index = np.random.randint(0,len(X_pool))\n",
    "        X_train = np.vstack([X_train, X_pool[index]])\n",
    "        y_train = list(y_train)\n",
    "        y_train.append(y_pool[index])\n",
    "        y_train = np.array(y_train)\n",
    "        X_pool = np.delete(X_pool,index,0)\n",
    "        y_pool = np.delete(y_pool,index)\n",
    "        mean_train, variance_train = gaussian_naive_bayes(X_train, y_train)\n",
    "        predicted_labels = predict(mean_train,variance_train,X_test,y_test,result=False)\n",
    "        counter = 0\n",
    "        for i in range(len(y_test)):\n",
    "            if y_test[i]==predicted_labels[i]:\n",
    "                counter+=1\n",
    "        random_accuracy.append(counter/len(y_test)*100)\n",
    "        overall[sd][itr]=(np.array(random_accuracy).mean())"
   ]
  },
  {
   "cell_type": "code",
   "execution_count": 10,
   "metadata": {},
   "outputs": [],
   "source": [
    "mean_random = [0 for i in range(10)]\n",
    "for i in range(10):\n",
    "    for j in overall:\n",
    "        mean_random[i]+=overall[j][i]\n",
    "for i in range(10):\n",
    "    mean_random[i]/=5\n",
    "mean_variance = [0 for i in range(10)]\n",
    "random_variance = [0 for i in range(10)]\n",
    "for i in range(len(random_variance)):\n",
    "    sum_1 = 0\n",
    "    for j in overall:\n",
    "        sum_1+=overall[j][i]**2\n",
    "    sum_1/=5\n",
    "    sum_1 = sum_1 - mean_random[i]**2\n",
    "    sum_1 = np.sqrt(sum_1)\n",
    "    random_variance[i] = sum_1"
   ]
  },
  {
   "cell_type": "code",
   "execution_count": 11,
   "metadata": {},
   "outputs": [
    {
     "name": "stdout",
     "output_type": "stream",
     "text": [
      "The Five Seeds are the columns\n",
      "The columns represent the accuracy, with respect to number of samples\n"
     ]
    },
    {
     "data": {
      "text/html": [
       "<div>\n",
       "<style scoped>\n",
       "    .dataframe tbody tr th:only-of-type {\n",
       "        vertical-align: middle;\n",
       "    }\n",
       "\n",
       "    .dataframe tbody tr th {\n",
       "        vertical-align: top;\n",
       "    }\n",
       "\n",
       "    .dataframe thead th {\n",
       "        text-align: right;\n",
       "    }\n",
       "</style>\n",
       "<table border=\"1\" class=\"dataframe\">\n",
       "  <thead>\n",
       "    <tr style=\"text-align: right;\">\n",
       "      <th></th>\n",
       "      <th>0</th>\n",
       "      <th>1</th>\n",
       "      <th>2</th>\n",
       "      <th>3</th>\n",
       "      <th>4</th>\n",
       "    </tr>\n",
       "  </thead>\n",
       "  <tbody>\n",
       "    <tr>\n",
       "      <th>0</th>\n",
       "      <td>86.000000</td>\n",
       "      <td>88.000000</td>\n",
       "      <td>86.000000</td>\n",
       "      <td>88.000000</td>\n",
       "      <td>88.000000</td>\n",
       "    </tr>\n",
       "    <tr>\n",
       "      <th>1</th>\n",
       "      <td>86.000000</td>\n",
       "      <td>88.000000</td>\n",
       "      <td>87.000000</td>\n",
       "      <td>90.000000</td>\n",
       "      <td>87.000000</td>\n",
       "    </tr>\n",
       "    <tr>\n",
       "      <th>2</th>\n",
       "      <td>86.000000</td>\n",
       "      <td>86.666667</td>\n",
       "      <td>86.666667</td>\n",
       "      <td>90.666667</td>\n",
       "      <td>88.000000</td>\n",
       "    </tr>\n",
       "    <tr>\n",
       "      <th>3</th>\n",
       "      <td>86.000000</td>\n",
       "      <td>87.000000</td>\n",
       "      <td>86.500000</td>\n",
       "      <td>90.500000</td>\n",
       "      <td>88.500000</td>\n",
       "    </tr>\n",
       "    <tr>\n",
       "      <th>4</th>\n",
       "      <td>86.400000</td>\n",
       "      <td>87.200000</td>\n",
       "      <td>86.400000</td>\n",
       "      <td>90.400000</td>\n",
       "      <td>88.400000</td>\n",
       "    </tr>\n",
       "    <tr>\n",
       "      <th>5</th>\n",
       "      <td>87.333333</td>\n",
       "      <td>87.333333</td>\n",
       "      <td>86.666667</td>\n",
       "      <td>90.000000</td>\n",
       "      <td>88.666667</td>\n",
       "    </tr>\n",
       "    <tr>\n",
       "      <th>6</th>\n",
       "      <td>88.000000</td>\n",
       "      <td>87.428571</td>\n",
       "      <td>86.857143</td>\n",
       "      <td>90.000000</td>\n",
       "      <td>88.857143</td>\n",
       "    </tr>\n",
       "    <tr>\n",
       "      <th>7</th>\n",
       "      <td>88.250000</td>\n",
       "      <td>87.750000</td>\n",
       "      <td>87.500000</td>\n",
       "      <td>89.750000</td>\n",
       "      <td>89.000000</td>\n",
       "    </tr>\n",
       "    <tr>\n",
       "      <th>8</th>\n",
       "      <td>88.666667</td>\n",
       "      <td>88.222222</td>\n",
       "      <td>88.000000</td>\n",
       "      <td>89.555556</td>\n",
       "      <td>89.111111</td>\n",
       "    </tr>\n",
       "    <tr>\n",
       "      <th>9</th>\n",
       "      <td>89.000000</td>\n",
       "      <td>88.600000</td>\n",
       "      <td>88.400000</td>\n",
       "      <td>89.600000</td>\n",
       "      <td>89.200000</td>\n",
       "    </tr>\n",
       "  </tbody>\n",
       "</table>\n",
       "</div>"
      ],
      "text/plain": [
       "           0          1          2          3          4\n",
       "0  86.000000  88.000000  86.000000  88.000000  88.000000\n",
       "1  86.000000  88.000000  87.000000  90.000000  87.000000\n",
       "2  86.000000  86.666667  86.666667  90.666667  88.000000\n",
       "3  86.000000  87.000000  86.500000  90.500000  88.500000\n",
       "4  86.400000  87.200000  86.400000  90.400000  88.400000\n",
       "5  87.333333  87.333333  86.666667  90.000000  88.666667\n",
       "6  88.000000  87.428571  86.857143  90.000000  88.857143\n",
       "7  88.250000  87.750000  87.500000  89.750000  89.000000\n",
       "8  88.666667  88.222222  88.000000  89.555556  89.111111\n",
       "9  89.000000  88.600000  88.400000  89.600000  89.200000"
      ]
     },
     "execution_count": 11,
     "metadata": {},
     "output_type": "execute_result"
    }
   ],
   "source": [
    "import pandas as pd\n",
    "print('The Five Seeds are the columns')\n",
    "print('The columns represent the accuracy, with respect to number of samples')\n",
    "df = pd.DataFrame(overall)\n",
    "df"
   ]
  },
  {
   "cell_type": "code",
   "execution_count": 12,
   "metadata": {},
   "outputs": [
    {
     "data": {
      "text/plain": [
       "Text(0.5, 1.0, 'Accuracy vs Number of Points Queried')"
      ]
     },
     "execution_count": 12,
     "metadata": {},
     "output_type": "execute_result"
    },
    {
     "data": {
      "image/png": "[encoded data removed]",
      "text/plain": [
       "<Figure size 432x288 with 1 Axes>"
      ]
     },
     "metadata": {
      "needs_background": "light"
     },
     "output_type": "display_data"
    }
   ],
   "source": [
    "# plt.scatter()\n",
    "#plt.ylim((60,100))\n",
    "plt.plot([i+1 for i in range(10)],accuracy_active[:10],marker='.',label='Active Learning',c='r')\n",
    "plt.errorbar([i+1 for i in range(10)],mean_random,random_variance,marker='^',label='Random Sampling',c='black')\n",
    "plt.legend(loc='best')\n",
    "plt.xlabel('Number of points queried')\n",
    "plt.ylabel('Accuracy in Percentage')\n",
    "plt.title('Accuracy vs Number of Points Queried')"
   ]
  },
  {
   "cell_type": "markdown",
   "metadata": {},
   "source": [
    "### A few changes that could be observed.\n",
    "* As we increase the number of data points, clearly active learning and random begin competing. Though, in the above plot active learning beats random, it is usually not the case.\n",
    "* Also, it was observed that there is a lot of dependence on the initial way of shuffling the dataset.\n",
    "* Kindly note that there were cases when active learning *failed* to beat random.\n",
    "* Note that the accuracy increasing in random is not *unexpected*. It is, in fact, as expected since ultimately the algorithm gets to see more of the data. This was a uniform trend across all the runs that I have done thus far."
   ]
  }
 ],
 "metadata": {
  "kernelspec": {
   "display_name": "Python 3",
   "language": "python",
   "name": "python3"
  },
  "language_info": {
   "codemirror_mode": {
    "name": "ipython",
    "version": 3
   },
   "file_extension": ".py",
   "mimetype": "text/x-python",
   "name": "python",
   "nbconvert_exporter": "python",
   "pygments_lexer": "ipython3",
   "version": "3.6.8"
  }
 },
 "nbformat": 4,
 "nbformat_minor": 2
}
