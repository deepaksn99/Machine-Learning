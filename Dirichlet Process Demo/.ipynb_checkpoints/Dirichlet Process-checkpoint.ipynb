{
 "cells": [
  {
   "cell_type": "markdown",
   "metadata": {},
   "source": [
    "## Probability and Statistics - The Pillars of modern day Machine Learning"
   ]
  },
  {
   "cell_type": "code",
   "execution_count": 1,
   "metadata": {},
   "outputs": [],
   "source": [
    "from scipy.stats import dirichlet"
   ]
  },
  {
   "cell_type": "code",
   "execution_count": 3,
   "metadata": {},
   "outputs": [],
   "source": [
    "dirichlet?"
   ]
  },
  {
   "cell_type": "markdown",
   "metadata": {},
   "source": [
    "$f(x) = \\frac{1}{\\mathrm{B}(\\boldsymbol\\alpha)} \\prod_{i=1}^K x_i^{\\alpha_i - 1}$<br><br>\n",
    "$\n",
    "    \\mathrm{B}(\\boldsymbol\\alpha) = \\frac{\\prod_{i=1}^K \\Gamma(\\alpha_i)}\n",
    "                                 {\\Gamma\\bigl(\\sum_{i=1}^K \\alpha_i\\bigr)}\n",
    "$\n",
    "\n",
    "Notes\n",
    "-----\n",
    "Each :math:`$\\alpha$` entry must be positive. The distribution has only\n",
    "support on the simplex defined by\n",
    "\n",
    ".. math::\n",
    "    $\\sum_{i=1}^{K} x_i \\le 1$\n",
    "\n",
    "\n",
    "The probability density function for `dirichlet` is\n",
    "\n",
    ".. math::\n",
    "$f(x) = \\frac{1}{\\mathrm{B}(\\boldsymbol\\alpha)} \\prod_{i=1}^K x_i^{\\alpha_i - 1}$\n",
    "\n",
    "where\n",
    "\n",
    ".. math::\n",
    "\n",
    "$\\mathrm{B}(\\boldsymbol\\alpha) = \\frac{\\prod_{i=1}^K \\Gamma(\\alpha_i)}\n",
    "                                 {\\Gamma\\bigl(\\sum_{i=1}^K \\alpha_i\\bigr)}$\n",
    "\n",
    "$\\boldsymbol\\alpha=(\\alpha_1,\\ldots,\\alpha_K)$`, the\n",
    "concentration parameters and :math:`K` is the dimension of the space\n",
    "where :math:`x` takes values.\n",
    "\n",
    "Note that the dirichlet interface is somewhat inconsistent.\n",
    "The array returned by the rvs function is transposed\n",
    "with respect to the format expected by the pdf and logpdf"
   ]
  },
  {
   "cell_type": "code",
   "execution_count": 4,
   "metadata": {},
   "outputs": [
    {
     "name": "stdout",
     "output_type": "stream",
     "text": [
      "                          alpha: 0.1\n",
      "              element-wise mean: [0.2 0.2 0.6]\n",
      "element-wise standard deviation: [0.38 0.38 0.47]\n",
      "\n",
      "                          alpha: 1\n",
      "              element-wise mean: [0.2 0.2 0.6]\n",
      "element-wise standard deviation: [0.29 0.28 0.35]\n",
      "\n",
      "                          alpha: 10\n",
      "              element-wise mean: [0.2 0.2 0.6]\n",
      "element-wise standard deviation: [0.12 0.12 0.15]\n",
      "\n",
      "                          alpha: 100\n",
      "              element-wise mean: [0.2 0.2 0.6]\n",
      "element-wise standard deviation: [0.04 0.04 0.05]\n",
      "\n",
      "                          alpha: 1000\n",
      "              element-wise mean: [0.2 0.2 0.6]\n",
      "element-wise standard deviation: [0.01 0.01 0.02]\n",
      "\n"
     ]
    }
   ],
   "source": [
    "import numpy as np\n",
    "from scipy.stats import dirichlet\n",
    "np.set_printoptions(precision=2)\n",
    "\n",
    "def stats(scale_factor, G0=[.2, .2, .6], N=10000):\n",
    "    samples = dirichlet(alpha = scale_factor * np.array(G0)).rvs(N)\n",
    "    print(\"                          alpha:\", scale_factor)\n",
    "    print(\"              element-wise mean:\", samples.mean(axis=0))\n",
    "    print(\"element-wise standard deviation:\", samples.std(axis=0))\n",
    "    print()\n",
    "    \n",
    "for scale in [0.1, 1, 10, 100, 1000]:\n",
    "    stats(scale)"
   ]
  },
  {
   "cell_type": "code",
   "execution_count": 5,
   "metadata": {},
   "outputs": [],
   "source": [
    "import matplotlib.pyplot as plt"
   ]
  },
  {
   "cell_type": "code",
   "execution_count": 6,
   "metadata": {},
   "outputs": [],
   "source": [
    "x = [i*(i-1)/2 for i in range(1,1000)]"
   ]
  },
  {
   "cell_type": "code",
   "execution_count": 31,
   "metadata": {},
   "outputs": [],
   "source": [
    "e = 0.1"
   ]
  },
  {
   "cell_type": "code",
   "execution_count": 32,
   "metadata": {},
   "outputs": [],
   "source": [
    "p = np.linspace(0.1,1,25)"
   ]
  },
  {
   "cell_type": "code",
   "execution_count": 37,
   "metadata": {},
   "outputs": [
    {
     "data": {
      "text/plain": [
       "[<matplotlib.lines.Line2D at 0x7f8ca6636f28>]"
      ]
     },
     "execution_count": 37,
     "metadata": {},
     "output_type": "execute_result"
    },
    {
     "data": {
      "image/png": "[encoded data removed]",
      "text/plain": [
       "<Figure size 432x288 with 1 Axes>"
      ]
     },
     "metadata": {
      "needs_background": "light"
     },
     "output_type": "display_data"
    }
   ],
   "source": [
    "def f(eps,n,p):\n",
    "    temp = 1-p\n",
    "    val = (n)*(n-1)/2\n",
    "    return temp/((eps**2)*val*p)\n",
    "y = [f(e,5,i) for i in p]\n",
    "plt.plot(p,y)"
   ]
  },
  {
   "cell_type": "code",
   "execution_count": 36,
   "metadata": {},
   "outputs": [
    {
     "data": {
      "text/plain": [
       "[<matplotlib.lines.Line2D at 0x7f8ca665a978>]"
      ]
     },
     "execution_count": 36,
     "metadata": {},
     "output_type": "execute_result"
    },
    {
     "data": {
      "image/png": "[encoded data removed]",
      "text/plain": [
       "<Figure size 432x288 with 1 Axes>"
      ]
     },
     "metadata": {
      "needs_background": "light"
     },
     "output_type": "display_data"
    }
   ],
   "source": []
  },
  {
   "cell_type": "code",
   "execution_count": 38,
   "metadata": {},
   "outputs": [],
   "source": [
    "import networkx as nx"
   ]
  },
  {
   "cell_type": "code",
   "execution_count": 39,
   "metadata": {},
   "outputs": [],
   "source": [
    "G = nx.random_geometric_graph?"
   ]
  },
  {
   "cell_type": "code",
   "execution_count": 40,
   "metadata": {},
   "outputs": [],
   "source": [
    "G = nx.erdos_renyi_graph?"
   ]
  },
  {
   "cell_type": "code",
   "execution_count": 49,
   "metadata": {},
   "outputs": [
    {
     "name": "stdout",
     "output_type": "stream",
     "text": [
      "99 124.75\n",
      "1395 1383.5909090909092\n",
      "2684 2642.4318181818185\n",
      "3955 3901.272727272727\n",
      "5099 5160.113636363637\n",
      "6320 6418.954545454546\n",
      "7620 7677.795454545455\n",
      "8981 8936.636363636364\n",
      "10357 10195.477272727274\n",
      "11392 11454.318181818182\n",
      "12792 12713.159090909092\n",
      "13966 13972.0\n",
      "15042 15230.84090909091\n",
      "16517 16489.681818181816\n",
      "17796 17748.522727272728\n",
      "18952 19007.363636363636\n",
      "20538 20266.204545454548\n",
      "21267 21525.045454545456\n",
      "22671 22783.886363636364\n",
      "24068 24042.727272727276\n",
      "25230 25301.568181818184\n",
      "26575 26560.409090909092\n",
      "28027 27819.25\n",
      "28900 29078.09090909091\n",
      "30365 30336.93181818182\n",
      "31676 31595.772727272724\n",
      "33006 32854.61363636363\n",
      "34307 34113.454545454544\n",
      "35286 35372.295454545456\n",
      "36731 36631.13636363637\n",
      "37599 37889.97727272727\n",
      "39351 39148.818181818184\n",
      "40166 40407.659090909096\n",
      "41699 41666.5\n",
      "42964 42925.34090909091\n",
      "44152 44184.18181818182\n",
      "45650 45443.02272727273\n",
      "46769 46701.86363636364\n",
      "47694 47960.70454545455\n",
      "48956 49219.54545454546\n",
      "50602 50478.38636363637\n",
      "51563 51737.22727272727\n",
      "52893 52996.068181818184\n",
      "54556 54254.90909090909\n",
      "55839 55513.75\n",
      "56759 56772.59090909091\n",
      "58126 58031.43181818182\n",
      "59469 59290.27272727273\n",
      "60589 60549.11363636364\n",
      "61675 61807.95454545455\n",
      "62870 63066.79545454545\n",
      "64102 64325.63636363637\n",
      "65558 65584.47727272726\n",
      "66960 66843.31818181819\n",
      "67939 68102.15909090909\n",
      "69523 69361.0\n",
      "70180 70619.84090909091\n",
      "71974 71878.68181818182\n",
      "72817 73137.52272727274\n",
      "74705 74396.36363636365\n",
      "75568 75655.20454545454\n",
      "76980 76914.04545454547\n",
      "78239 78172.88636363637\n",
      "79550 79431.72727272728\n",
      "80448 80690.56818181819\n",
      "81975 81949.40909090909\n",
      "83251 83208.25\n",
      "84806 84467.09090909091\n",
      "85792 85725.93181818182\n",
      "87243 86984.77272727272\n",
      "88430 88243.61363636365\n",
      "89513 89502.45454545454\n",
      "90597 90761.29545454546\n",
      "92198 92020.13636363637\n",
      "93319 93278.97727272728\n",
      "94459 94537.81818181819\n",
      "95726 95796.6590909091\n",
      "96941 97055.5\n",
      "98386 98314.34090909093\n",
      "99646 99573.18181818182\n",
      "100673 100832.02272727274\n",
      "101821 102090.86363636365\n",
      "103464 103349.70454545454\n",
      "104469 104608.54545454546\n",
      "105744 105867.38636363637\n",
      "107157 107126.22727272728\n",
      "108402 108385.06818181818\n",
      "109649 109643.9090909091\n",
      "110993 110902.75\n",
      "112114 112161.59090909091\n",
      "113550 113420.43181818182\n",
      "114676 114679.27272727274\n",
      "115803 115938.11363636365\n",
      "117146 117196.95454545456\n",
      "118493 118455.79545454546\n",
      "119765 119714.63636363638\n",
      "120904 120973.47727272728\n",
      "122189 122232.31818181818\n",
      "123394 123491.1590909091\n",
      "124750 124750.0\n"
     ]
    }
   ],
   "source": [
    "for p in np.linspace(0.001,1,100):\n",
    "    G = nx.erdos_renyi_graph(500,p)\n",
    "    print(G.number_of_edges(), p*124750)"
   ]
  },
  {
   "cell_type": "code",
   "execution_count": 42,
   "metadata": {},
   "outputs": [
    {
     "data": {
      "text/plain": [
       "74835"
      ]
     },
     "execution_count": 42,
     "metadata": {},
     "output_type": "execute_result"
    }
   ],
   "source": [
    "G.number_of_edges()"
   ]
  },
  {
   "cell_type": "code",
   "execution_count": 48,
   "metadata": {},
   "outputs": [
    {
     "data": {
      "text/plain": [
       "124750.0"
      ]
     },
     "execution_count": 48,
     "metadata": {},
     "output_type": "execute_result"
    }
   ],
   "source": [
    "500*499/2\n"
   ]
  }
 ],
 "metadata": {
  "kernelspec": {
   "display_name": "Python 3",
   "language": "python",
   "name": "python3"
  },
  "language_info": {
   "codemirror_mode": {
    "name": "ipython",
    "version": 3
   },
   "file_extension": ".py",
   "mimetype": "text/x-python",
   "name": "python",
   "nbconvert_exporter": "python",
   "pygments_lexer": "ipython3",
   "version": "3.6.8"
  }
 },
 "nbformat": 4,
 "nbformat_minor": 2
}
