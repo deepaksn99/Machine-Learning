{
 "cells": [
  {
   "cell_type": "markdown",
   "metadata": {},
   "source": [
    "## Machine Learning - Assignment 1\n",
    "Submitted by S Deepak Narayanan, 16110142, B.Tech (CSE)"
   ]
  },
  {
   "cell_type": "code",
   "execution_count": 1,
   "metadata": {},
   "outputs": [],
   "source": [
    "import numpy as np \n",
    "import pandas as pd\n",
    "from math import log\n",
    "from sklearn.model_selection import train_test_split"
   ]
  },
  {
   "cell_type": "markdown",
   "metadata": {},
   "source": [
    "### Q2 (a) Discrete Feature Discrete Output Decision Tree for Classification\n",
    "Note - Please rename output variable to be 'Class' in your dataset for this implementation to work"
   ]
  },
  {
   "cell_type": "code",
   "execution_count": 2,
   "metadata": {},
   "outputs": [],
   "source": [
    "def entropy(target):\n",
    "    freq = {}\n",
    "    for elem in target:\n",
    "        if elem not in freq:\n",
    "            freq[elem]=1/len(target)\n",
    "        else: \n",
    "            freq[elem]+=1/len(target)\n",
    "    _sum = [-freq[i]*np.log2(freq[i]) for i in freq]\n",
    "    return sum(_sum)\n",
    "\n",
    "def info_gain(data,attributes):\n",
    "    entropy_dataset = entropy(data['Class'])\n",
    "    entr_val = {}\n",
    "    infg = {}\n",
    "    for attr in attributes:\n",
    "        freq = {}\n",
    "        for i in data[attr]:\n",
    "            if i not in freq:\n",
    "                freq[i]=1/len(data[attr])\n",
    "            else:\n",
    "                freq[i]+=1/len(data[attr])\n",
    "        keys = list(freq.keys())\n",
    "        entr = {}\n",
    "        for i in keys:\n",
    "            temp = len(data[data[attr]==i])\n",
    "            entr[i] = temp/len(data)*entropy(data[data[attr]==i]['Class'])\n",
    "        entr_val[attr] = sum(list(entr.values()))\n",
    "        infg[attr] = entropy_dataset - entr_val[attr]\n",
    "    return max(infg, key = infg.get)\n",
    "\n",
    "def dtree(dataset,data,attributes,parent):\n",
    "    \n",
    "    attribute = [i for i in attributes]\n",
    "    \n",
    "    if len(data['Class'].unique())<=1:\n",
    "        return (list(data['Class'].unique())[0])\n",
    "    elif len(data)==0:\n",
    "        return np.unique(data['Class'])[np.argmax(np.unique(data['Class'],return_counts=True)[1])]\n",
    "    elif len(attribute)==0:\n",
    "        return parent\n",
    "    else:\n",
    "        parent = np.unique(data['Class'])[np.argmax(np.unique(data['Class'],return_counts=True)[1])]\n",
    "        \n",
    "    best = info_gain(data,attribute)\n",
    "    tree = {best:{}}\n",
    "    attribute.remove(best)\n",
    "    for ndata in data[best].unique():\n",
    "        new_data = data[data[best]==ndata]\n",
    "        subtree = dtree(dataset,new_data,attribute,parent)\n",
    "        tree[best][ndata]=subtree\n",
    "    return tree  "
   ]
  },
  {
   "cell_type": "markdown",
   "metadata": {},
   "source": [
    "### Sample Prediction of Tennis Dataset using the above code"
   ]
  },
  {
   "cell_type": "code",
   "execution_count": 3,
   "metadata": {},
   "outputs": [
    {
     "data": {
      "text/html": [
       "<div>\n",
       "<style scoped>\n",
       "    .dataframe tbody tr th:only-of-type {\n",
       "        vertical-align: middle;\n",
       "    }\n",
       "\n",
       "    .dataframe tbody tr th {\n",
       "        vertical-align: top;\n",
       "    }\n",
       "\n",
       "    .dataframe thead th {\n",
       "        text-align: right;\n",
       "    }\n",
       "</style>\n",
       "<table border=\"1\" class=\"dataframe\">\n",
       "  <thead>\n",
       "    <tr style=\"text-align: right;\">\n",
       "      <th></th>\n",
       "      <th>outlook</th>\n",
       "      <th>temp</th>\n",
       "      <th>humidity</th>\n",
       "      <th>windy</th>\n",
       "      <th>Class</th>\n",
       "    </tr>\n",
       "  </thead>\n",
       "  <tbody>\n",
       "    <tr>\n",
       "      <th>0</th>\n",
       "      <td>Sunny</td>\n",
       "      <td>Hot</td>\n",
       "      <td>High</td>\n",
       "      <td>Weak</td>\n",
       "      <td>No</td>\n",
       "    </tr>\n",
       "    <tr>\n",
       "      <th>1</th>\n",
       "      <td>Sunny</td>\n",
       "      <td>Hot</td>\n",
       "      <td>High</td>\n",
       "      <td>Strong</td>\n",
       "      <td>No</td>\n",
       "    </tr>\n",
       "    <tr>\n",
       "      <th>2</th>\n",
       "      <td>Overcast</td>\n",
       "      <td>Hot</td>\n",
       "      <td>High</td>\n",
       "      <td>Weak</td>\n",
       "      <td>Yes</td>\n",
       "    </tr>\n",
       "    <tr>\n",
       "      <th>3</th>\n",
       "      <td>Rain</td>\n",
       "      <td>Mild</td>\n",
       "      <td>High</td>\n",
       "      <td>Weak</td>\n",
       "      <td>Yes</td>\n",
       "    </tr>\n",
       "    <tr>\n",
       "      <th>4</th>\n",
       "      <td>Rain</td>\n",
       "      <td>Cool</td>\n",
       "      <td>Normal</td>\n",
       "      <td>Weak</td>\n",
       "      <td>Yes</td>\n",
       "    </tr>\n",
       "    <tr>\n",
       "      <th>5</th>\n",
       "      <td>Rain</td>\n",
       "      <td>Cool</td>\n",
       "      <td>Normal</td>\n",
       "      <td>Strong</td>\n",
       "      <td>No</td>\n",
       "    </tr>\n",
       "    <tr>\n",
       "      <th>6</th>\n",
       "      <td>Overcast</td>\n",
       "      <td>Cool</td>\n",
       "      <td>Normal</td>\n",
       "      <td>Strong</td>\n",
       "      <td>Yes</td>\n",
       "    </tr>\n",
       "    <tr>\n",
       "      <th>7</th>\n",
       "      <td>Sunny</td>\n",
       "      <td>Mild</td>\n",
       "      <td>High</td>\n",
       "      <td>Weak</td>\n",
       "      <td>No</td>\n",
       "    </tr>\n",
       "    <tr>\n",
       "      <th>8</th>\n",
       "      <td>Sunny</td>\n",
       "      <td>Cool</td>\n",
       "      <td>Normal</td>\n",
       "      <td>Weak</td>\n",
       "      <td>Yes</td>\n",
       "    </tr>\n",
       "    <tr>\n",
       "      <th>9</th>\n",
       "      <td>Rain</td>\n",
       "      <td>Mild</td>\n",
       "      <td>Normal</td>\n",
       "      <td>Weak</td>\n",
       "      <td>Yes</td>\n",
       "    </tr>\n",
       "    <tr>\n",
       "      <th>10</th>\n",
       "      <td>Sunny</td>\n",
       "      <td>Mild</td>\n",
       "      <td>Normal</td>\n",
       "      <td>Strong</td>\n",
       "      <td>Yes</td>\n",
       "    </tr>\n",
       "    <tr>\n",
       "      <th>11</th>\n",
       "      <td>Overcast</td>\n",
       "      <td>Mild</td>\n",
       "      <td>High</td>\n",
       "      <td>Strong</td>\n",
       "      <td>Yes</td>\n",
       "    </tr>\n",
       "    <tr>\n",
       "      <th>12</th>\n",
       "      <td>Overcast</td>\n",
       "      <td>Hot</td>\n",
       "      <td>Normal</td>\n",
       "      <td>Weak</td>\n",
       "      <td>Yes</td>\n",
       "    </tr>\n",
       "    <tr>\n",
       "      <th>13</th>\n",
       "      <td>Rain</td>\n",
       "      <td>Mild</td>\n",
       "      <td>High</td>\n",
       "      <td>Strong</td>\n",
       "      <td>No</td>\n",
       "    </tr>\n",
       "  </tbody>\n",
       "</table>\n",
       "</div>"
      ],
      "text/plain": [
       "     outlook  temp humidity   windy Class\n",
       "0      Sunny   Hot     High    Weak    No\n",
       "1      Sunny   Hot     High  Strong    No\n",
       "2   Overcast   Hot     High    Weak   Yes\n",
       "3       Rain  Mild     High    Weak   Yes\n",
       "4       Rain  Cool   Normal    Weak   Yes\n",
       "5       Rain  Cool   Normal  Strong    No\n",
       "6   Overcast  Cool   Normal  Strong   Yes\n",
       "7      Sunny  Mild     High    Weak    No\n",
       "8      Sunny  Cool   Normal    Weak   Yes\n",
       "9       Rain  Mild   Normal    Weak   Yes\n",
       "10     Sunny  Mild   Normal  Strong   Yes\n",
       "11  Overcast  Mild     High  Strong   Yes\n",
       "12  Overcast   Hot   Normal    Weak   Yes\n",
       "13      Rain  Mild     High  Strong    No"
      ]
     },
     "execution_count": 3,
     "metadata": {},
     "output_type": "execute_result"
    }
   ],
   "source": [
    "dt = pd.read_csv('tennis.csv')\n",
    "dt = dt.drop(['Day'],axis = 1)\n",
    "attrb = list(dt.columns)\n",
    "attrb.remove('Class')\n",
    "dt"
   ]
  },
  {
   "cell_type": "code",
   "execution_count": 4,
   "metadata": {},
   "outputs": [
    {
     "data": {
      "text/plain": [
       "{'outlook': {'Sunny': {'humidity': {'High': 'No', 'Normal': 'Yes'}},\n",
       "  'Overcast': 'Yes',\n",
       "  'Rain': {'windy': {'Weak': 'Yes', 'Strong': 'No'}}}}"
      ]
     },
     "execution_count": 4,
     "metadata": {},
     "output_type": "execute_result"
    }
   ],
   "source": [
    "dtree(dt,dt,attrb,None)"
   ]
  },
  {
   "cell_type": "markdown",
   "metadata": {},
   "source": [
    "### Q2 (a) continued"
   ]
  },
  {
   "cell_type": "code",
   "execution_count": 62,
   "metadata": {},
   "outputs": [
    {
     "data": {
      "text/html": [
       "<div>\n",
       "<style scoped>\n",
       "    .dataframe tbody tr th:only-of-type {\n",
       "        vertical-align: middle;\n",
       "    }\n",
       "\n",
       "    .dataframe tbody tr th {\n",
       "        vertical-align: top;\n",
       "    }\n",
       "\n",
       "    .dataframe thead th {\n",
       "        text-align: right;\n",
       "    }\n",
       "</style>\n",
       "<table border=\"1\" class=\"dataframe\">\n",
       "  <thead>\n",
       "    <tr style=\"text-align: right;\">\n",
       "      <th></th>\n",
       "      <th>c1</th>\n",
       "      <th>c2</th>\n",
       "      <th>c3</th>\n",
       "      <th>c4</th>\n",
       "      <th>Class</th>\n",
       "    </tr>\n",
       "  </thead>\n",
       "  <tbody>\n",
       "    <tr>\n",
       "      <th>0</th>\n",
       "      <td>5.1</td>\n",
       "      <td>3.5</td>\n",
       "      <td>1.4</td>\n",
       "      <td>0.2</td>\n",
       "      <td>Iris-setosa</td>\n",
       "    </tr>\n",
       "    <tr>\n",
       "      <th>1</th>\n",
       "      <td>4.9</td>\n",
       "      <td>3.0</td>\n",
       "      <td>1.4</td>\n",
       "      <td>0.2</td>\n",
       "      <td>Iris-setosa</td>\n",
       "    </tr>\n",
       "    <tr>\n",
       "      <th>2</th>\n",
       "      <td>4.7</td>\n",
       "      <td>3.2</td>\n",
       "      <td>1.3</td>\n",
       "      <td>0.2</td>\n",
       "      <td>Iris-setosa</td>\n",
       "    </tr>\n",
       "    <tr>\n",
       "      <th>3</th>\n",
       "      <td>4.6</td>\n",
       "      <td>3.1</td>\n",
       "      <td>1.5</td>\n",
       "      <td>0.2</td>\n",
       "      <td>Iris-setosa</td>\n",
       "    </tr>\n",
       "    <tr>\n",
       "      <th>4</th>\n",
       "      <td>5.0</td>\n",
       "      <td>3.6</td>\n",
       "      <td>1.4</td>\n",
       "      <td>0.2</td>\n",
       "      <td>Iris-setosa</td>\n",
       "    </tr>\n",
       "    <tr>\n",
       "      <th>5</th>\n",
       "      <td>5.4</td>\n",
       "      <td>3.9</td>\n",
       "      <td>1.7</td>\n",
       "      <td>0.4</td>\n",
       "      <td>Iris-setosa</td>\n",
       "    </tr>\n",
       "    <tr>\n",
       "      <th>6</th>\n",
       "      <td>4.6</td>\n",
       "      <td>3.4</td>\n",
       "      <td>1.4</td>\n",
       "      <td>0.3</td>\n",
       "      <td>Iris-setosa</td>\n",
       "    </tr>\n",
       "    <tr>\n",
       "      <th>7</th>\n",
       "      <td>5.0</td>\n",
       "      <td>3.4</td>\n",
       "      <td>1.5</td>\n",
       "      <td>0.2</td>\n",
       "      <td>Iris-setosa</td>\n",
       "    </tr>\n",
       "    <tr>\n",
       "      <th>8</th>\n",
       "      <td>4.4</td>\n",
       "      <td>2.9</td>\n",
       "      <td>1.4</td>\n",
       "      <td>0.2</td>\n",
       "      <td>Iris-setosa</td>\n",
       "    </tr>\n",
       "    <tr>\n",
       "      <th>9</th>\n",
       "      <td>4.9</td>\n",
       "      <td>3.1</td>\n",
       "      <td>1.5</td>\n",
       "      <td>0.1</td>\n",
       "      <td>Iris-setosa</td>\n",
       "    </tr>\n",
       "  </tbody>\n",
       "</table>\n",
       "</div>"
      ],
      "text/plain": [
       "    c1   c2   c3   c4        Class\n",
       "0  5.1  3.5  1.4  0.2  Iris-setosa\n",
       "1  4.9  3.0  1.4  0.2  Iris-setosa\n",
       "2  4.7  3.2  1.3  0.2  Iris-setosa\n",
       "3  4.6  3.1  1.5  0.2  Iris-setosa\n",
       "4  5.0  3.6  1.4  0.2  Iris-setosa\n",
       "5  5.4  3.9  1.7  0.4  Iris-setosa\n",
       "6  4.6  3.4  1.4  0.3  Iris-setosa\n",
       "7  5.0  3.4  1.5  0.2  Iris-setosa\n",
       "8  4.4  2.9  1.4  0.2  Iris-setosa\n",
       "9  4.9  3.1  1.5  0.1  Iris-setosa"
      ]
     },
     "execution_count": 62,
     "metadata": {},
     "output_type": "execute_result"
    }
   ],
   "source": [
    "\n",
    "df = pd.read_csv('iris.csv')\n",
    "arr = np.array(df)\n",
    "df.head(10)\n"
   ]
  },
  {
   "cell_type": "markdown",
   "metadata": {},
   "source": [
    "### Q2 (a)  Continuous Features Discrete Output Decision Tree for Classification\n"
   ]
  },
  {
   "cell_type": "code",
   "execution_count": 65,
   "metadata": {},
   "outputs": [],
   "source": [
    "## Iris Dataset Classification\n",
    "def gini(splits,classes):\n",
    "    total_rows = 0\n",
    "    final = 0\n",
    "    for i in range(len(splits)):\n",
    "        total_rows+=len(splits[i])\n",
    "    final = 0\n",
    "    for split in splits:\n",
    "        if len(split)==0:\n",
    "            continue\n",
    "        gscore = 0\n",
    "        for cls in classes:\n",
    "            p = [row[-1] for row in split].count(cls)/len(split)\n",
    "            gscore+=p*p\n",
    "        final+= (1-gscore)*(len(split)/total_rows)\n",
    "    return final\n",
    "## This needs to be done very carefully\n",
    "## Binary Splits\n",
    "def divide_data(dataset,feature,threshold):\n",
    "    new_data1 = []\n",
    "    new_data2 = []\n",
    "    for elem in dataset:\n",
    "        if elem[feature]<threshold:\n",
    "            new_data1.append(elem)\n",
    "        else:\n",
    "            new_data2.append(elem)\n",
    "    return new_data1, new_data2\n",
    "\n",
    "def best_split(dataset,classes):\n",
    "    best_so_far = np.inf\n",
    "    best_splits = 0\n",
    "    feature = np.inf\n",
    "    value_split = 1000\n",
    "    for i in range(len(dataset[0])-1):\n",
    "        for elem in dataset:\n",
    "            splits = divide_data(dataset,i,elem[i])\n",
    "            gscore = gini(splits,classes)\n",
    "            if gscore<best_so_far:\n",
    "                best_so_far = gscore\n",
    "                best_splits = splits\n",
    "                feature = i\n",
    "                value_split = elem[i]\n",
    "    return {'split':best_splits,'Feature':feature,'Value':value_split}\n",
    "\n",
    "\n",
    "def leaf_node(split):\n",
    "    cls = [elem[-1] for elem in split]\n",
    "    # Take Majority Vote\n",
    "    count = {}\n",
    "    for i in cls:\n",
    "        if i not in count:\n",
    "            count[i]=1\n",
    "        else:\n",
    "            count[i]+=1\n",
    "    return max(count, key = count.get)\n",
    "\n",
    "def partition(node, maxdepth, minsize, depth):\n",
    "    ## Each partition from above gives a node in essence.\n",
    "    lchild, rchild = node['split']\n",
    "    if not lchild or not rchild:\n",
    "        node['left']= leaf_node(lchild+rchild)\n",
    "        node['right'] = leaf_node(lchild+rchild)\n",
    "        return\n",
    "    if depth>maxdepth:\n",
    "        node['left'] = leaf_node(lchild)\n",
    "        node['right'] = leaf_node(rchild)\n",
    "        return\n",
    "    if len(lchild)<=minsize:\n",
    "        node['left'] = leaf_node(lchild)\n",
    "    else:\n",
    "        node['left'] = best_split(lchild,cls)\n",
    "        partition(node['left'],maxdepth,minsize, depth+1)\n",
    "    if len(rchild)<=minsize:\n",
    "        node['right'] = leaf_node(rchild)\n",
    "    else:\n",
    "        node['right'] = best_split(rchild,cls)\n",
    "        partition(node['right'],maxdepth,minsize,depth+1)\n",
    "        \n",
    "\n",
    "def tree_iris(dataset, maxdepth, minsize):\n",
    "    root = best_split(dataset,cls)\n",
    "    partition(root,maxdepth,minsize,1)\n",
    "    ## Printing the made Decision Tree\n",
    "    return root\n",
    "\n",
    "def predict(node, row):\n",
    "    if row[node['Feature']] < node['Value']:\n",
    "        if isinstance(node['left'], dict):\n",
    "            return predict(node['left'], row)\n",
    "        else:\n",
    "            return node['left']\n",
    "    else:\n",
    "        if isinstance(node['right'], dict):\n",
    "            return predict(node['right'], row)\n",
    "        else:\n",
    "            return node['right']\n",
    "\n",
    "def class_aggregate(dataset):\n",
    "    temp = []\n",
    "    for i in range(len(dataset)):\n",
    "        temp.append(dataset[i][-1])\n",
    "    temp = np.unique(np.array(temp))\n",
    "    return temp\n",
    "\n",
    "cls = class_aggregate(np.array(df))\n",
    "\n",
    "def val_replace(cls,dataset):\n",
    "    for i in range(len(cls)):\n",
    "        dataset = dataset.replace(cls[i],i)\n",
    "    return dataset\n",
    "\n",
    "df = val_replace(cls,df)\n",
    "\n",
    "def accurate(test,tree):\n",
    "    temp = 0\n",
    "    for i in test:\n",
    "        val = predict(tree,i)\n",
    "        if i[-1]==val:\n",
    "            temp+=1\n",
    "    return temp/len(test)*100"
   ]
  },
  {
   "cell_type": "markdown",
   "metadata": {},
   "source": [
    "### Q2 (b) with accuracy below\n",
    "Note: I have kept minimum number of samples to 0; This means we try to split even when we have only one data sample.\n",
    "\n",
    "Also the first part is without shuffling - we get an accuracy of 73.33 percent for a tree depth of 2."
   ]
  },
  {
   "cell_type": "code",
   "execution_count": 66,
   "metadata": {},
   "outputs": [
    {
     "data": {
      "text/plain": [
       "73.33333333333333"
      ]
     },
     "execution_count": 66,
     "metadata": {},
     "output_type": "execute_result"
    }
   ],
   "source": [
    "train = np.array(df)[:105]\n",
    "test = np.array(df)[105:]\n",
    "tree_cls = tree_iris(train,2,0)\n",
    "accurate(test,tree_cls)"
   ]
  },
  {
   "cell_type": "markdown",
   "metadata": {},
   "source": [
    "### Q2 (c) 5 Fold Cross Validation below\n",
    "Note - I have implemented without shuffling. "
   ]
  },
  {
   "cell_type": "code",
   "execution_count": 26,
   "metadata": {},
   "outputs": [],
   "source": [
    "def kfold_cross_validation(dataset):\n",
    "    for i in range(5):\n",
    "        test = dataset[30*i:30*(i+1)]\n",
    "        if 30*(i+1)+120<=150:\n",
    "            train = dataset[30*(i+1):]\n",
    "        else:\n",
    "            train1 = dataset[0:30*(i+1)-30]\n",
    "            train2 = dataset[30*(i+1):]\n",
    "            train = np.append(train1,train2,axis=0)\n",
    "        tree = tree_iris(train,4,0)\n",
    "        print(accurate(test,tree))"
   ]
  },
  {
   "cell_type": "code",
   "execution_count": 27,
   "metadata": {},
   "outputs": [
    {
     "name": "stdout",
     "output_type": "stream",
     "text": [
      "100.0\n",
      "96.66666666666667\n",
      "83.33333333333334\n",
      "90.0\n",
      "76.66666666666667\n"
     ]
    }
   ],
   "source": [
    "kfold_cross_validation(np.array(df))"
   ]
  },
  {
   "cell_type": "markdown",
   "metadata": {},
   "source": [
    "The average cross validation accuracy is 88.664 %"
   ]
  },
  {
   "cell_type": "markdown",
   "metadata": {},
   "source": [
    "### Q2(c) Nested Cross Validation "
   ]
  },
  {
   "cell_type": "code",
   "execution_count": 28,
   "metadata": {},
   "outputs": [
    {
     "name": "stdout",
     "output_type": "stream",
     "text": [
      "Accuracy is, 100.0  for iteration 1 . The depth of the optimal tree is  1\n",
      "Accuracy is, 100.0  for iteration 2 . The depth of the optimal tree is  1\n",
      "Accuracy is, 83.33333333333334  for iteration 3 . The depth of the optimal tree is  2\n",
      "Accuracy is, 90.0  for iteration 4 . The depth of the optimal tree is  1\n",
      "Accuracy is, 83.33333333333334  for iteration 5 . The depth of the optimal tree is  1\n"
     ]
    }
   ],
   "source": [
    "def nested_cross_validation(dataset):\n",
    "    for i in range(5):\n",
    "        test = dataset[30*i:30*(i+1)]\n",
    "        if 30*(i+1)+120<=150:\n",
    "            train = dataset[30*(i+1):]\n",
    "        else:\n",
    "            train1 = dataset[0:30*(i+1)-30]\n",
    "            train2 = dataset[30*(i+1):]\n",
    "            train = np.append(train1,train2,axis=0)\n",
    "        accuracy_validation = {}\n",
    "        for depth in range(1,11):\n",
    "            s = 0\n",
    "            for j in range(4):\n",
    "                validation = train[30*j:30*(j+1)]\n",
    "                train_1 = train[30*(j+1):]\n",
    "                train_2 = train[0:30*(j+1)-30]\n",
    "                train_ = np.append(train_1,train_2,axis = 0)\n",
    "                tree = tree_iris(train_,depth,0)\n",
    "                s+=(accurate(validation,tree))\n",
    "            accuracy_validation[depth] = s/4\n",
    "        value = max(accuracy_validation, key = accuracy_validation.get)\n",
    "        tree = tree_iris(train,value,0)\n",
    "        print(\"Accuracy is,\",accurate(test,tree), \" for iteration\",i+1, \". The depth of the optimal tree is \",value)\n",
    "nested_cross_validation(np.array(df))"
   ]
  },
  {
   "cell_type": "markdown",
   "metadata": {},
   "source": [
    "* The average accuracy after performing nested cross-validation is, 91.334 %.\n",
    "* As we can see from above, the optimal depth is somewhere in between 1 and 2, as it gives the highest accuracy on the validation data for each held out test set."
   ]
  },
  {
   "cell_type": "markdown",
   "metadata": {},
   "source": [
    "### Q4 \n",
    "#### Comparing Scikit-Learn Tree and Custom Implementation"
   ]
  },
  {
   "cell_type": "code",
   "execution_count": 30,
   "metadata": {},
   "outputs": [
    {
     "name": "stdout",
     "output_type": "stream",
     "text": [
      "97.36842105263158 percent accuracy is obtained using in-built scikit learn implementation.\n",
      "91.334 % is the average accuracy obtained using cross validation\n"
     ]
    }
   ],
   "source": [
    "## Classification Task\n",
    "from sklearn import tree\n",
    "temp = np.array(df)\n",
    "X = []\n",
    "y = []\n",
    "for i in range(len(temp)):\n",
    "    X.append(temp[i][:4])\n",
    "    y.append(temp[i][-1])\n",
    "X_train, X_test, y_train, y_test = train_test_split(X,y,random_state = 42)\n",
    "clf = tree.DecisionTreeClassifier(max_depth=2)\n",
    "clf = clf.fit(X_train,y_train)\n",
    "## Accuracy Part\n",
    "count = 0\n",
    "predicted = clf.predict(X_test)\n",
    "for i in range(len(predicted)):\n",
    "    if predicted[i]==y_test[i]:\n",
    "        count+=1\n",
    "print(count/len(X_test)*100, \"percent accuracy is obtained using in-built scikit learn implementation.\")\n",
    "print(\"91.334 % is the average accuracy obtained using cross validation\")"
   ]
  },
  {
   "cell_type": "markdown",
   "metadata": {},
   "source": [
    "### Q3 Continuous Regression using Decision Tree\n",
    "* Kindly rename the value of the to be predicted value as y.\n",
    "* Also, the dataset fed into all the functions is a Pandas DataFrame"
   ]
  },
  {
   "cell_type": "code",
   "execution_count": 31,
   "metadata": {},
   "outputs": [],
   "source": [
    "def reducestd(data,attributes):\n",
    "    var = {}\n",
    "    for attr in attributes:\n",
    "        freq = {}\n",
    "        for i in data[attr]:\n",
    "            if i not in freq:\n",
    "                freq[i]=1/len(data[attr])\n",
    "            else:\n",
    "                freq[i]+=1/len(data[attr])\n",
    "        keys = list(freq.keys())\n",
    "        st = 0\n",
    "        for i in keys:\n",
    "            temp = (data[data[attr]==i])\n",
    "            st+=np.std(temp['y'])*len(temp)/len(data)\n",
    "        var[attr]=st\n",
    "    return min(var,key = var.get)\n",
    "\n",
    "def dtreereg(dataset,data,attributes,min_examples,parent):\n",
    "    \"\"\"\n",
    "        If we don't simply have enough training data, \n",
    "        we do this. \n",
    "    \"\"\"\n",
    "    if len(data)<=min_examples:\n",
    "        return data['y'].mean()\n",
    "    elif len(data)==0:\n",
    "        return dataset['y'].mean()\n",
    "    elif len(attributes)==0:\n",
    "        return parent\n",
    "    else:\n",
    "        parent = data['y'].mean()\n",
    "        best = reducestd(data,attributes)\n",
    "        tree = {best:{}}\n",
    "        attributes.remove(best)\n",
    "        subtree_basis = [i for i in data[best].unique()]\n",
    "        for nnode in subtree_basis:\n",
    "            new_data = data.where(data[best]==nnode).dropna()\n",
    "            subtree = dtreereg(dataset,new_data,attributes, min_examples,parent)\n",
    "            tree[best][nnode] = subtree\n",
    "    return tree\n",
    "\n",
    "def regressor_predict(tree,instance):\n",
    "    for index in tree.keys():\n",
    "        if index in instance:\n",
    "            try:\n",
    "                potential = tree[index][instance[index]]\n",
    "            except:\n",
    "                return df_reg['y'].mean()\n",
    "            potential =tree[index][instance[index]]  # Avoid referencement error\n",
    "            if type(potential) == dict:\n",
    "                return regressor_predict(potential, instance)\n",
    "            else:\n",
    "                return potential"
   ]
  },
  {
   "cell_type": "code",
   "execution_count": 85,
   "metadata": {},
   "outputs": [],
   "source": [
    "df_reg = pd.read_excel('realestate.xlsx')\n",
    "df_reg = df_reg.drop(['No'],axis = 1)\n",
    "df_reg.head()\n",
    "df_reg = df_reg.dropna()\n",
    "attb = list(df_reg.columns)\n",
    "attb.remove('y')"
   ]
  },
  {
   "cell_type": "code",
   "execution_count": 86,
   "metadata": {},
   "outputs": [],
   "source": [
    "train, test = train_test_split(df_reg,test_size = 0.3, random_state = 42)"
   ]
  },
  {
   "cell_type": "code",
   "execution_count": 87,
   "metadata": {},
   "outputs": [],
   "source": [
    "tree_reg = dtreereg(train,train,attb,4,None)"
   ]
  },
  {
   "cell_type": "code",
   "execution_count": 88,
   "metadata": {},
   "outputs": [],
   "source": [
    "err = np.zeros(len(test))\n",
    "y_pred = np.zeros(len(test))\n",
    "for i in range(len(test)):\n",
    "    val = regressor_predict(tree_reg,test.iloc[i])\n",
    "    y_pred[i] = val\n",
    "    err[i] = test.iloc[i]['y'] - val"
   ]
  },
  {
   "cell_type": "markdown",
   "metadata": {},
   "source": [
    "#### Two Metrics have been used for this example. \n",
    "These include \n",
    "1. RMSE\n",
    "2. Absolute Mean Error\n"
   ]
  },
  {
   "cell_type": "code",
   "execution_count": 53,
   "metadata": {},
   "outputs": [
    {
     "name": "stdout",
     "output_type": "stream",
     "text": [
      "RMSE 10.324941104363576\n",
      "RMSE - STDDEV 13.25090872729112\n",
      "MAE 7.62896745398927\n",
      "MAE STDDEV 6.957245460277299\n"
     ]
    }
   ],
   "source": [
    "## RMSE\n",
    "print(\"RMSE\",((err**2).mean())**0.5)\n",
    "## RMSE Standard Deviatiot\n",
    "print(\"RMSE - STDDEV\",((err**2).std())**0.5)\n",
    "## MAE\n",
    "temp = np.sum(np.abs(err))/len(err)\n",
    "print(\"MAE\",temp)\n",
    "## MAE STDDEV\n",
    "temp = np.abs(err).std()\n",
    "print(\"MAE STDDEV\",temp)"
   ]
  },
  {
   "cell_type": "markdown",
   "metadata": {},
   "source": [
    "### Q4 Comparison of MAE"
   ]
  },
  {
   "cell_type": "code",
   "execution_count": 54,
   "metadata": {},
   "outputs": [
    {
     "name": "stdout",
     "output_type": "stream",
     "text": [
      "MAE and STDDEV are  6.077737226277373 5.891986763269349\n"
     ]
    }
   ],
   "source": [
    "### Regression Task - Scikit Learn\n",
    "from sklearn.metrics import mean_absolute_error\n",
    "reg =  tree.DecisionTreeRegressor()\n",
    "columns = list(df_reg.columns)\n",
    "columns.remove('y')\n",
    "X = df_reg[columns]\n",
    "y = df_reg['y']\n",
    "X_train, X_test, y_train, y_test = train_test_split(X,y,test_size = 0.33,random_state = 42)\n",
    "reg.fit(X_train,y_train)\n",
    "pred = reg.predict(X_test)\n",
    "print(\"MAE and STDDEV are \",mean_absolute_error(pred, y_test), np.std(np.abs(pred-y_test)))"
   ]
  },
  {
   "cell_type": "markdown",
   "metadata": {},
   "source": [
    "### Q5 Visualisation\n",
    "1. Code referred from [here](https://stackoverflow.com/questions/13688410/dictionary-object-to-decision-tree-in-pydot)"
   ]
  },
  {
   "cell_type": "code",
   "execution_count": 44,
   "metadata": {},
   "outputs": [
    {
     "ename": "TypeError",
     "evalue": "ufunc 'add' did not contain a loop with signature matching types dtype('<U32') dtype('<U32') dtype('<U32')",
     "output_type": "error",
     "traceback": [
      "\u001b[0;31m---------------------------------------------------------------------------\u001b[0m",
      "\u001b[0;31mTypeError\u001b[0m                                 Traceback (most recent call last)",
      "\u001b[0;32m<ipython-input-44-973a6fa27fbf>\u001b[0m in \u001b[0;36m<module>\u001b[0;34m()\u001b[0m\n\u001b[1;32m     31\u001b[0m \u001b[0;34m\u001b[0m\u001b[0m\n\u001b[1;32m     32\u001b[0m \u001b[0mgraph\u001b[0m \u001b[0;34m=\u001b[0m \u001b[0mpydot\u001b[0m\u001b[0;34m.\u001b[0m\u001b[0mDot\u001b[0m\u001b[0;34m(\u001b[0m\u001b[0mgraph_type\u001b[0m\u001b[0;34m=\u001b[0m\u001b[0;34m'graph'\u001b[0m\u001b[0;34m)\u001b[0m\u001b[0;34m\u001b[0m\u001b[0m\n\u001b[0;32m---> 33\u001b[0;31m \u001b[0mvisit\u001b[0m\u001b[0;34m(\u001b[0m\u001b[0mmenu\u001b[0m\u001b[0;34m)\u001b[0m\u001b[0;34m\u001b[0m\u001b[0m\n\u001b[0m\u001b[1;32m     34\u001b[0m \u001b[0mgraph\u001b[0m\u001b[0;34m.\u001b[0m\u001b[0mwrite_png\u001b[0m\u001b[0;34m(\u001b[0m\u001b[0;34m'1.png'\u001b[0m\u001b[0;34m)\u001b[0m\u001b[0;34m\u001b[0m\u001b[0m\n",
      "\u001b[0;32m<ipython-input-44-973a6fa27fbf>\u001b[0m in \u001b[0;36mvisit\u001b[0;34m(node, parent)\u001b[0m\n\u001b[1;32m     24\u001b[0m             \u001b[0;32mif\u001b[0m \u001b[0mparent\u001b[0m\u001b[0;34m:\u001b[0m\u001b[0;34m\u001b[0m\u001b[0m\n\u001b[1;32m     25\u001b[0m                 \u001b[0mdraw\u001b[0m\u001b[0;34m(\u001b[0m\u001b[0mparent\u001b[0m\u001b[0;34m,\u001b[0m \u001b[0mk\u001b[0m\u001b[0;34m)\u001b[0m\u001b[0;34m\u001b[0m\u001b[0m\n\u001b[0;32m---> 26\u001b[0;31m             \u001b[0mvisit\u001b[0m\u001b[0;34m(\u001b[0m\u001b[0mv\u001b[0m\u001b[0;34m,\u001b[0m \u001b[0mk\u001b[0m\u001b[0;34m)\u001b[0m\u001b[0;34m\u001b[0m\u001b[0m\n\u001b[0m\u001b[1;32m     27\u001b[0m         \u001b[0;32melse\u001b[0m\u001b[0;34m:\u001b[0m\u001b[0;34m\u001b[0m\u001b[0m\n\u001b[1;32m     28\u001b[0m             \u001b[0mdraw\u001b[0m\u001b[0;34m(\u001b[0m\u001b[0mparent\u001b[0m\u001b[0;34m,\u001b[0m \u001b[0mk\u001b[0m\u001b[0;34m)\u001b[0m\u001b[0;34m\u001b[0m\u001b[0m\n",
      "\u001b[0;32m<ipython-input-44-973a6fa27fbf>\u001b[0m in \u001b[0;36mvisit\u001b[0;34m(node, parent)\u001b[0m\n\u001b[1;32m     28\u001b[0m             \u001b[0mdraw\u001b[0m\u001b[0;34m(\u001b[0m\u001b[0mparent\u001b[0m\u001b[0;34m,\u001b[0m \u001b[0mk\u001b[0m\u001b[0;34m)\u001b[0m\u001b[0;34m\u001b[0m\u001b[0m\n\u001b[1;32m     29\u001b[0m             \u001b[0;31m# drawing the label using a distinct name\u001b[0m\u001b[0;34m\u001b[0m\u001b[0;34m\u001b[0m\u001b[0m\n\u001b[0;32m---> 30\u001b[0;31m             \u001b[0mdraw\u001b[0m\u001b[0;34m(\u001b[0m\u001b[0mk\u001b[0m\u001b[0;34m,\u001b[0m \u001b[0mk\u001b[0m\u001b[0;34m+\u001b[0m\u001b[0;34m'_'\u001b[0m\u001b[0;34m+\u001b[0m\u001b[0mv\u001b[0m\u001b[0;34m)\u001b[0m\u001b[0;34m\u001b[0m\u001b[0m\n\u001b[0m\u001b[1;32m     31\u001b[0m \u001b[0;34m\u001b[0m\u001b[0m\n\u001b[1;32m     32\u001b[0m \u001b[0mgraph\u001b[0m \u001b[0;34m=\u001b[0m \u001b[0mpydot\u001b[0m\u001b[0;34m.\u001b[0m\u001b[0mDot\u001b[0m\u001b[0;34m(\u001b[0m\u001b[0mgraph_type\u001b[0m\u001b[0;34m=\u001b[0m\u001b[0;34m'graph'\u001b[0m\u001b[0;34m)\u001b[0m\u001b[0;34m\u001b[0m\u001b[0m\n",
      "\u001b[0;31mTypeError\u001b[0m: ufunc 'add' did not contain a loop with signature matching types dtype('<U32') dtype('<U32') dtype('<U32')"
     ]
    }
   ],
   "source": [
    "import pydot\n",
    "\n",
    "menu = {'dinner':\n",
    "            {'chicken':'good',\n",
    "             'beef':'average',\n",
    "             'vegetarian':{\n",
    "                   'tofu':'good',\n",
    "                   'salad':{\n",
    "                            'caeser':'bad',\n",
    "                            'italian':'average'}\n",
    "                   },\n",
    "             'pork':'bad'}\n",
    "        }\n",
    "menu = tree_reg\n",
    "def draw(parent_name, child_name):\n",
    "    edge = pydot.Edge(parent_name, child_name)\n",
    "    graph.add_edge(edge)\n",
    "\n",
    "def visit(node, parent=None):\n",
    "    for k,v in node.items():\n",
    "        if isinstance(v, dict):\n",
    "            # We start with the root node whose parent is None\n",
    "            # we don't want to graph the None node\n",
    "            if parent:\n",
    "                draw(parent, k)\n",
    "            visit(v, k)\n",
    "        else:\n",
    "            draw(parent, k)\n",
    "            # drawing the label using a distinct name\n",
    "            draw(k, k+'_'+v)\n",
    "\n",
    "graph = pydot.Dot(graph_type='graph')\n",
    "visit(menu)\n",
    "graph.write_png('1.png')"
   ]
  },
  {
   "cell_type": "markdown",
   "metadata": {},
   "source": [
    "## Q7\n",
    "\n",
    "### The theoretical running time is O(mnlogn), where n is the number of samples and m is the number of features"
   ]
  },
  {
   "cell_type": "code",
   "execution_count": 112,
   "metadata": {},
   "outputs": [],
   "source": [
    "mn_learn = []\n",
    "mn_test = []"
   ]
  },
  {
   "cell_type": "code",
   "execution_count": 113,
   "metadata": {},
   "outputs": [],
   "source": [
    "import random\n",
    "import string\n",
    "import time"
   ]
  },
  {
   "cell_type": "markdown",
   "metadata": {},
   "source": [
    "I stopped the below execution intermittently. The Results are plotted below. This was because it was taking really long and I couldn't run any other processes concurrently."
   ]
  },
  {
   "cell_type": "code",
   "execution_count": null,
   "metadata": {},
   "outputs": [
    {
     "name": "stdout",
     "output_type": "stream",
     "text": [
      "2\n",
      "3\n"
     ]
    }
   ],
   "source": [
    "mnl = []\n",
    "mnt = []\n",
    "for m in range(2,100):\n",
    "    print(m)\n",
    "    for n in range(100,200):\n",
    "        df_mn = pd.DataFrame(np.random.randn(n, m))\n",
    "        start_time  = time.time()\n",
    "        attb = list(df_mn.columns)\n",
    "#         print(attb)\n",
    "        tmp = max(attb)\n",
    "        attb.remove(tmp)\n",
    "        attb.append('y')\n",
    "#         print(attb)\n",
    "        df_mn.columns = attb\n",
    "#         print(df_mn.columns)\n",
    "        attb.remove('y')\n",
    "        train, test = train_test_split(df_mn,test_size = 0.33,random_state=42)\n",
    "        start_time = time.time()\n",
    "        _ = dtreereg(train,train,attb,4,None)\n",
    "        mnl.append(time.time() - start_time)\n",
    "        start_time  = time.time()\n",
    "        for i in range(len(test)):\n",
    "            val = test.iloc[i]\n",
    "            regressor_predict(_,instance=val)\n",
    "        mnt.append(time.time() - start_time)"
   ]
  },
  {
   "cell_type": "code",
   "execution_count": 121,
   "metadata": {},
   "outputs": [
    {
     "data": {
      "text/plain": [
       "Text(0, 0.5, 'Time in seconds for training')"
      ]
     },
     "execution_count": 121,
     "metadata": {},
     "output_type": "execute_result"
    },
    {
     "data": {
      "image/png": "[encoded data removed]",
      "text/plain": [
       "<Figure size 432x288 with 1 Axes>"
      ]
     },
     "metadata": {
      "needs_background": "light"
     },
     "output_type": "display_data"
    }
   ],
   "source": [
    "plt.plot([i for i in range(len(mn_learn))],[i for i in mn_learn])\n",
    "plt.xlabel('M and N varied together over 1552 iterations (N - 2 to 10, M from 100 to 1000)')\n",
    "plt.ylabel('Time in seconds for training')"
   ]
  },
  {
   "cell_type": "code",
   "execution_count": 123,
   "metadata": {},
   "outputs": [
    {
     "data": {
      "text/plain": [
       "Text(0.5, 1.0, 'DT as used for the housing price problem')"
      ]
     },
     "execution_count": 123,
     "metadata": {},
     "output_type": "execute_result"
    },
    {
     "data": {
      "image/png": "[encoded data removed]",
      "text/plain": [
       "<Figure size 432x288 with 1 Axes>"
      ]
     },
     "metadata": {
      "needs_background": "light"
     },
     "output_type": "display_data"
    }
   ],
   "source": [
    "plt.plot([i for i in range(len(mn_test))],[i for i in mn_test])\n",
    "plt.xlabel(plt.xlabel('M and N varied together over 1552 iterations (N - 2 to 10, M from 100 to 1000)'))\n",
    "plt.ylabel('Time for Test (seconds)')\n",
    "plt.title('DT as used for the housing price problem')"
   ]
  },
  {
   "cell_type": "markdown",
   "metadata": {},
   "source": [
    "Theoretically, we should expect an almost linear increase as it grows as O(mnlogn), where m is number of features and n is the number of samples. This is because logn grows slower than any polynomial in n."
   ]
  },
  {
   "cell_type": "markdown",
   "metadata": {},
   "source": [
    "## Q6"
   ]
  },
  {
   "cell_type": "code",
   "execution_count": null,
   "metadata": {},
   "outputs": [],
   "source": []
  }
 ],
 "metadata": {
  "kernelspec": {
   "display_name": "Python 3",
   "language": "python",
   "name": "python3"
  },
  "language_info": {
   "codemirror_mode": {
    "name": "ipython",
    "version": 3
   },
   "file_extension": ".py",
   "mimetype": "text/x-python",
   "name": "python",
   "nbconvert_exporter": "python",
   "pygments_lexer": "ipython3",
   "version": "3.6.6"
  }
 },
 "nbformat": 4,
 "nbformat_minor": 2
}
