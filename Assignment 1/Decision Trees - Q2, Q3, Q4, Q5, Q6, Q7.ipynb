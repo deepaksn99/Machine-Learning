{
 "cells": [
  {
   "cell_type": "markdown",
   "metadata": {},
   "source": [
    "## Machine Learning - Assignment 1\n",
    "Submitted by S Deepak Narayanan, 16110142, B.Tech (CSE)"
   ]
  },
  {
   "cell_type": "code",
   "execution_count": 1,
   "metadata": {},
   "outputs": [],
   "source": [
    "import numpy as np \n",
    "import pandas as pd\n",
    "from math import log\n",
    "from sklearn.model_selection import train_test_split"
   ]
  },
  {
   "cell_type": "markdown",
   "metadata": {},
   "source": [
    "### Q2 (a) Discrete Feature Discrete Output Decision Tree for Classification\n",
    "Note - Please rename output variable to be 'Class' in your dataset for this implementation to work"
   ]
  },
  {
   "cell_type": "code",
   "execution_count": 2,
   "metadata": {},
   "outputs": [],
   "source": [
    "def entropy(target):\n",
    "    freq = {}\n",
    "    for elem in target:\n",
    "        if elem not in freq:\n",
    "            freq[elem]=1/len(target)\n",
    "        else: \n",
    "            freq[elem]+=1/len(target)\n",
    "    _sum = [-freq[i]*np.log2(freq[i]) for i in freq]\n",
    "    return sum(_sum)\n",
    "\n",
    "def info_gain(data,attributes):\n",
    "    entropy_dataset = entropy(data['Class'])\n",
    "    entr_val = {}\n",
    "    infg = {}\n",
    "    for attr in attributes:\n",
    "        freq = {}\n",
    "        for i in data[attr]:\n",
    "            if i not in freq:\n",
    "                freq[i]=1/len(data[attr])\n",
    "            else:\n",
    "                freq[i]+=1/len(data[attr])\n",
    "        keys = list(freq.keys())\n",
    "        entr = {}\n",
    "        for i in keys:\n",
    "            temp = len(data[data[attr]==i])\n",
    "            entr[i] = temp/len(data)*entropy(data[data[attr]==i]['Class'])\n",
    "        entr_val[attr] = sum(list(entr.values()))\n",
    "        infg[attr] = entropy_dataset - entr_val[attr]\n",
    "    return max(infg, key = infg.get)\n",
    "\n",
    "def dtree(dataset,data,attributes,parent):\n",
    "    \n",
    "    attribute = [i for i in attributes]\n",
    "    \n",
    "    if len(data['Class'].unique())<=1:\n",
    "        return (list(data['Class'].unique())[0])\n",
    "    elif len(data)==0:\n",
    "        return np.unique(data['Class'])[np.argmax(np.unique(data['Class'],return_counts=True)[1])]\n",
    "    elif len(attribute)==0:\n",
    "        return parent\n",
    "    else:\n",
    "        parent = np.unique(data['Class'])[np.argmax(np.unique(data['Class'],return_counts=True)[1])]\n",
    "        \n",
    "    best = info_gain(data,attribute)\n",
    "    tree = {best:{}}\n",
    "    attribute.remove(best)\n",
    "    for ndata in data[best].unique():\n",
    "        new_data = data[data[best]==ndata]\n",
    "        subtree = dtree(dataset,new_data,attribute,parent)\n",
    "        tree[best][ndata]=subtree\n",
    "    return tree  "
   ]
  },
  {
   "cell_type": "markdown",
   "metadata": {},
   "source": [
    "### Sample Prediction of Tennis Dataset using the above code"
   ]
  },
  {
   "cell_type": "code",
   "execution_count": 3,
   "metadata": {},
   "outputs": [
    {
     "data": {
      "text/html": [
       "<div>\n",
       "<style scoped>\n",
       "    .dataframe tbody tr th:only-of-type {\n",
       "        vertical-align: middle;\n",
       "    }\n",
       "\n",
       "    .dataframe tbody tr th {\n",
       "        vertical-align: top;\n",
       "    }\n",
       "\n",
       "    .dataframe thead th {\n",
       "        text-align: right;\n",
       "    }\n",
       "</style>\n",
       "<table border=\"1\" class=\"dataframe\">\n",
       "  <thead>\n",
       "    <tr style=\"text-align: right;\">\n",
       "      <th></th>\n",
       "      <th>outlook</th>\n",
       "      <th>temp</th>\n",
       "      <th>humidity</th>\n",
       "      <th>windy</th>\n",
       "      <th>Class</th>\n",
       "    </tr>\n",
       "  </thead>\n",
       "  <tbody>\n",
       "    <tr>\n",
       "      <th>0</th>\n",
       "      <td>Sunny</td>\n",
       "      <td>Hot</td>\n",
       "      <td>High</td>\n",
       "      <td>Weak</td>\n",
       "      <td>No</td>\n",
       "    </tr>\n",
       "    <tr>\n",
       "      <th>1</th>\n",
       "      <td>Sunny</td>\n",
       "      <td>Hot</td>\n",
       "      <td>High</td>\n",
       "      <td>Strong</td>\n",
       "      <td>No</td>\n",
       "    </tr>\n",
       "    <tr>\n",
       "      <th>2</th>\n",
       "      <td>Overcast</td>\n",
       "      <td>Hot</td>\n",
       "      <td>High</td>\n",
       "      <td>Weak</td>\n",
       "      <td>Yes</td>\n",
       "    </tr>\n",
       "    <tr>\n",
       "      <th>3</th>\n",
       "      <td>Rain</td>\n",
       "      <td>Mild</td>\n",
       "      <td>High</td>\n",
       "      <td>Weak</td>\n",
       "      <td>Yes</td>\n",
       "    </tr>\n",
       "    <tr>\n",
       "      <th>4</th>\n",
       "      <td>Rain</td>\n",
       "      <td>Cool</td>\n",
       "      <td>Normal</td>\n",
       "      <td>Weak</td>\n",
       "      <td>Yes</td>\n",
       "    </tr>\n",
       "    <tr>\n",
       "      <th>5</th>\n",
       "      <td>Rain</td>\n",
       "      <td>Cool</td>\n",
       "      <td>Normal</td>\n",
       "      <td>Strong</td>\n",
       "      <td>No</td>\n",
       "    </tr>\n",
       "    <tr>\n",
       "      <th>6</th>\n",
       "      <td>Overcast</td>\n",
       "      <td>Cool</td>\n",
       "      <td>Normal</td>\n",
       "      <td>Strong</td>\n",
       "      <td>Yes</td>\n",
       "    </tr>\n",
       "    <tr>\n",
       "      <th>7</th>\n",
       "      <td>Sunny</td>\n",
       "      <td>Mild</td>\n",
       "      <td>High</td>\n",
       "      <td>Weak</td>\n",
       "      <td>No</td>\n",
       "    </tr>\n",
       "    <tr>\n",
       "      <th>8</th>\n",
       "      <td>Sunny</td>\n",
       "      <td>Cool</td>\n",
       "      <td>Normal</td>\n",
       "      <td>Weak</td>\n",
       "      <td>Yes</td>\n",
       "    </tr>\n",
       "    <tr>\n",
       "      <th>9</th>\n",
       "      <td>Rain</td>\n",
       "      <td>Mild</td>\n",
       "      <td>Normal</td>\n",
       "      <td>Weak</td>\n",
       "      <td>Yes</td>\n",
       "    </tr>\n",
       "    <tr>\n",
       "      <th>10</th>\n",
       "      <td>Sunny</td>\n",
       "      <td>Mild</td>\n",
       "      <td>Normal</td>\n",
       "      <td>Strong</td>\n",
       "      <td>Yes</td>\n",
       "    </tr>\n",
       "    <tr>\n",
       "      <th>11</th>\n",
       "      <td>Overcast</td>\n",
       "      <td>Mild</td>\n",
       "      <td>High</td>\n",
       "      <td>Strong</td>\n",
       "      <td>Yes</td>\n",
       "    </tr>\n",
       "    <tr>\n",
       "      <th>12</th>\n",
       "      <td>Overcast</td>\n",
       "      <td>Hot</td>\n",
       "      <td>Normal</td>\n",
       "      <td>Weak</td>\n",
       "      <td>Yes</td>\n",
       "    </tr>\n",
       "    <tr>\n",
       "      <th>13</th>\n",
       "      <td>Rain</td>\n",
       "      <td>Mild</td>\n",
       "      <td>High</td>\n",
       "      <td>Strong</td>\n",
       "      <td>No</td>\n",
       "    </tr>\n",
       "  </tbody>\n",
       "</table>\n",
       "</div>"
      ],
      "text/plain": [
       "     outlook  temp humidity   windy Class\n",
       "0      Sunny   Hot     High    Weak    No\n",
       "1      Sunny   Hot     High  Strong    No\n",
       "2   Overcast   Hot     High    Weak   Yes\n",
       "3       Rain  Mild     High    Weak   Yes\n",
       "4       Rain  Cool   Normal    Weak   Yes\n",
       "5       Rain  Cool   Normal  Strong    No\n",
       "6   Overcast  Cool   Normal  Strong   Yes\n",
       "7      Sunny  Mild     High    Weak    No\n",
       "8      Sunny  Cool   Normal    Weak   Yes\n",
       "9       Rain  Mild   Normal    Weak   Yes\n",
       "10     Sunny  Mild   Normal  Strong   Yes\n",
       "11  Overcast  Mild     High  Strong   Yes\n",
       "12  Overcast   Hot   Normal    Weak   Yes\n",
       "13      Rain  Mild     High  Strong    No"
      ]
     },
     "execution_count": 3,
     "metadata": {},
     "output_type": "execute_result"
    }
   ],
   "source": [
    "dt = pd.read_csv('tennis.csv')\n",
    "dt = dt.drop(['Day'],axis = 1)\n",
    "attrb = list(dt.columns)\n",
    "attrb.remove('Class')\n",
    "dt"
   ]
  },
  {
   "cell_type": "code",
   "execution_count": 4,
   "metadata": {},
   "outputs": [
    {
     "data": {
      "text/plain": [
       "{'outlook': {'Sunny': {'humidity': {'High': 'No', 'Normal': 'Yes'}},\n",
       "  'Overcast': 'Yes',\n",
       "  'Rain': {'windy': {'Weak': 'Yes', 'Strong': 'No'}}}}"
      ]
     },
     "execution_count": 4,
     "metadata": {},
     "output_type": "execute_result"
    }
   ],
   "source": [
    "dtree(dt,dt,attrb,None)"
   ]
  },
  {
   "cell_type": "markdown",
   "metadata": {},
   "source": [
    "### Q2 (a) continued"
   ]
  },
  {
   "cell_type": "code",
   "execution_count": 5,
   "metadata": {},
   "outputs": [],
   "source": [
    "df = pd.read_csv('iris.csv')\n",
    "arr = np.array(df)\n",
    "df.head(10)\n",
    "\n",
    "def class_aggregate(dataset):\n",
    "    temp = []\n",
    "    for i in range(len(dataset)):\n",
    "        temp.append(dataset[i][-1])\n",
    "    temp = np.unique(np.array(temp))\n",
    "    return temp\n",
    "\n",
    "cls = class_aggregate(np.array(df))\n",
    "\n",
    "def val_replace(cls,dataset):\n",
    "    for i in range(len(cls)):\n",
    "        dataset = dataset.replace(cls[i],i)\n",
    "    return dataset\n",
    "\n",
    "df = val_replace(cls,df)"
   ]
  },
  {
   "cell_type": "markdown",
   "metadata": {},
   "source": [
    "### Q2 (a)  Continuous Features Discrete Output Decision Tree for Classification\n"
   ]
  },
  {
   "cell_type": "code",
   "execution_count": 6,
   "metadata": {},
   "outputs": [],
   "source": [
    "## Iris Dataset Classification\n",
    "def gini(splits,classes):\n",
    "    total_rows = 0\n",
    "    final = 0\n",
    "    for i in range(len(splits)):\n",
    "        total_rows+=len(splits[i])\n",
    "    final = 0\n",
    "    for split in splits:\n",
    "        if len(split)==0:\n",
    "            continue\n",
    "        gscore = 0\n",
    "        for cls in classes:\n",
    "            p = [row[-1] for row in split].count(cls)/len(split)\n",
    "            gscore+=p*p\n",
    "        final+= (1-gscore)*(len(split)/total_rows)\n",
    "    return final\n",
    "## This needs to be done very carefully\n",
    "## Binary Splits\n",
    "def divide_data(dataset,feature,threshold):\n",
    "    new_data1 = []\n",
    "    new_data2 = []\n",
    "    for elem in dataset:\n",
    "        if elem[feature]<threshold:\n",
    "            new_data1.append(elem)\n",
    "        else:\n",
    "            new_data2.append(elem)\n",
    "    return new_data1, new_data2\n",
    "\n",
    "def best_split(dataset,classes):\n",
    "    best_so_far = np.inf\n",
    "    best_splits = 0\n",
    "    feature = np.inf\n",
    "    value_split = 1000\n",
    "    for i in range(len(dataset[0])-1):\n",
    "        for elem in dataset:\n",
    "            splits = divide_data(dataset,i,elem[i])\n",
    "            gscore = gini(splits,classes)\n",
    "            if gscore<best_so_far:\n",
    "                best_so_far = gscore\n",
    "                best_splits = splits\n",
    "                feature = i\n",
    "                value_split = elem[i]\n",
    "    return {'split':best_splits,'Feature':feature,'Value':value_split}\n",
    "\n",
    "\n",
    "def leaf_node(split):\n",
    "    cls = [elem[-1] for elem in split]\n",
    "    # Take Majority Vote\n",
    "    count = {}\n",
    "    for i in cls:\n",
    "        if i not in count:\n",
    "            count[i]=1\n",
    "        else:\n",
    "            count[i]+=1\n",
    "    return max(count, key = count.get)\n",
    "\n",
    "def partition(node, maxdepth, minsize, depth):\n",
    "    ## Each partition from above gives a node in essence.\n",
    "    lchild, rchild = node['split']\n",
    "    if not lchild or not rchild:\n",
    "        node['left']= leaf_node(lchild+rchild)\n",
    "        node['right'] = leaf_node(lchild+rchild)\n",
    "        return\n",
    "    if depth>maxdepth:\n",
    "        node['left'] = leaf_node(lchild)\n",
    "        node['right'] = leaf_node(rchild)\n",
    "        return\n",
    "    if len(lchild)<=minsize:\n",
    "        node['left'] = leaf_node(lchild)\n",
    "    else:\n",
    "        node['left'] = best_split(lchild,cls)\n",
    "        partition(node['left'],maxdepth,minsize, depth+1)\n",
    "    if len(rchild)<=minsize:\n",
    "        node['right'] = leaf_node(rchild)\n",
    "    else:\n",
    "        node['right'] = best_split(rchild,cls)\n",
    "        partition(node['right'],maxdepth,minsize,depth+1)\n",
    "        \n",
    "\n",
    "def tree_iris(dataset, maxdepth, minsize):\n",
    "    root = best_split(dataset,cls)\n",
    "    partition(root,maxdepth,minsize,1)\n",
    "    ## Printing the made Decision Tree\n",
    "    return root\n",
    "\n",
    "def predict(node, row):\n",
    "    if row[node['Feature']] < node['Value']:\n",
    "        if isinstance(node['left'], dict):\n",
    "            return predict(node['left'], row)\n",
    "        else:\n",
    "            return node['left']\n",
    "    else:\n",
    "        if isinstance(node['right'], dict):\n",
    "            return predict(node['right'], row)\n",
    "        else:\n",
    "            return node['right']\n",
    "\n",
    "def class_aggregate(dataset):\n",
    "    temp = []\n",
    "    for i in range(len(dataset)):\n",
    "        temp.append(dataset[i][-1])\n",
    "    temp = np.unique(np.array(temp))\n",
    "    return temp\n",
    "\n",
    "cls = class_aggregate(np.array(df))\n",
    "\n",
    "def val_replace(cls,dataset):\n",
    "    for i in range(len(cls)):\n",
    "        dataset = dataset.replace(cls[i],i)\n",
    "    return dataset\n",
    "\n",
    "df = val_replace(cls,df)\n",
    "\n",
    "def accurate(test,tree):\n",
    "    temp = 0\n",
    "    for i in test:\n",
    "        val = predict(tree,i)\n",
    "        if i[-1]==val:\n",
    "            temp+=1\n",
    "    return temp/len(test)*100"
   ]
  },
  {
   "cell_type": "markdown",
   "metadata": {},
   "source": [
    "### Q2 (b) with accuracy below\n",
    "Note: I have kept minimum number of samples to 0; This means we try to split even when we have only one data sample.\n",
    "\n",
    "Also the first part is without shuffling - we get an accuracy of 73.33 percent for a tree depth of 2."
   ]
  },
  {
   "cell_type": "code",
   "execution_count": 7,
   "metadata": {},
   "outputs": [
    {
     "data": {
      "text/plain": [
       "73.33333333333333"
      ]
     },
     "execution_count": 7,
     "metadata": {},
     "output_type": "execute_result"
    }
   ],
   "source": [
    "train = np.array(df)[:105]\n",
    "test = np.array(df)[105:]\n",
    "tree_cls = tree_iris(train,2,0)\n",
    "accurate(test,tree_cls)"
   ]
  },
  {
   "cell_type": "markdown",
   "metadata": {},
   "source": [
    "### Q2 (c) 5 Fold Cross Validation below\n",
    "Note - I have implemented without shuffling. "
   ]
  },
  {
   "cell_type": "code",
   "execution_count": 8,
   "metadata": {},
   "outputs": [],
   "source": [
    "def kfold_cross_validation(dataset):\n",
    "    for i in range(5):\n",
    "        test = dataset[30*i:30*(i+1)]\n",
    "        if 30*(i+1)+120<=150:\n",
    "            train = dataset[30*(i+1):]\n",
    "        else:\n",
    "            train1 = dataset[0:30*(i+1)-30]\n",
    "            train2 = dataset[30*(i+1):]\n",
    "            train = np.append(train1,train2,axis=0)\n",
    "        tree = tree_iris(train,4,0)\n",
    "        print(accurate(test,tree))"
   ]
  },
  {
   "cell_type": "code",
   "execution_count": 9,
   "metadata": {},
   "outputs": [
    {
     "name": "stdout",
     "output_type": "stream",
     "text": [
      "100.0\n",
      "96.66666666666667\n",
      "83.33333333333334\n",
      "90.0\n",
      "76.66666666666667\n"
     ]
    }
   ],
   "source": [
    "kfold_cross_validation(np.array(df))"
   ]
  },
  {
   "cell_type": "markdown",
   "metadata": {},
   "source": [
    "The average cross validation accuracy is 88.664 %"
   ]
  },
  {
   "cell_type": "markdown",
   "metadata": {},
   "source": [
    "### Q2(c) Nested Cross Validation "
   ]
  },
  {
   "cell_type": "code",
   "execution_count": 10,
   "metadata": {},
   "outputs": [
    {
     "name": "stdout",
     "output_type": "stream",
     "text": [
      "Accuracy is, 100.0  for iteration 1 . The depth of the optimal tree is  1\n",
      "Accuracy is, 100.0  for iteration 2 . The depth of the optimal tree is  1\n",
      "Accuracy is, 83.33333333333334  for iteration 3 . The depth of the optimal tree is  2\n",
      "Accuracy is, 90.0  for iteration 4 . The depth of the optimal tree is  1\n",
      "Accuracy is, 83.33333333333334  for iteration 5 . The depth of the optimal tree is  1\n"
     ]
    }
   ],
   "source": [
    "def nested_cross_validation(dataset):\n",
    "    for i in range(5):\n",
    "        test = dataset[30*i:30*(i+1)]\n",
    "        if 30*(i+1)+120<=150:\n",
    "            train = dataset[30*(i+1):]\n",
    "        else:\n",
    "            train1 = dataset[0:30*(i+1)-30]\n",
    "            train2 = dataset[30*(i+1):]\n",
    "            train = np.append(train1,train2,axis=0)\n",
    "        accuracy_validation = {}\n",
    "        for depth in range(1,11):\n",
    "            s = 0\n",
    "            for j in range(4):\n",
    "                validation = train[30*j:30*(j+1)]\n",
    "                train_1 = train[30*(j+1):]\n",
    "                train_2 = train[0:30*(j+1)-30]\n",
    "                train_ = np.append(train_1,train_2,axis = 0)\n",
    "                tree = tree_iris(train_,depth,0)\n",
    "                s+=(accurate(validation,tree))\n",
    "            accuracy_validation[depth] = s/4\n",
    "        value = max(accuracy_validation, key = accuracy_validation.get)\n",
    "        tree = tree_iris(train,value,0)\n",
    "        print(\"Accuracy is,\",accurate(test,tree), \" for iteration\",i+1, \". The depth of the optimal tree is \",value)\n",
    "nested_cross_validation(np.array(df))"
   ]
  },
  {
   "cell_type": "markdown",
   "metadata": {},
   "source": [
    "* The average accuracy after performing nested cross-validation is, 91.334 %.\n",
    "* As we can see from above, the optimal depth is somewhere in between 1 and 2, as it gives the highest accuracy on the validation data for each held out test set."
   ]
  },
  {
   "cell_type": "markdown",
   "metadata": {},
   "source": [
    "### Q4 \n",
    "#### Comparing Scikit-Learn Tree and Custom Implementation"
   ]
  },
  {
   "cell_type": "code",
   "execution_count": 11,
   "metadata": {},
   "outputs": [
    {
     "name": "stdout",
     "output_type": "stream",
     "text": [
      "97.36842105263158 percent accuracy is obtained using in-built scikit learn implementation.\n",
      "91.334 % is the average accuracy obtained using cross validation\n"
     ]
    }
   ],
   "source": [
    "## Classification Task\n",
    "from sklearn import tree\n",
    "temp = np.array(df)\n",
    "X = []\n",
    "y = []\n",
    "for i in range(len(temp)):\n",
    "    X.append(temp[i][:4])\n",
    "    y.append(temp[i][-1])\n",
    "X_train, X_test, y_train, y_test = train_test_split(X,y,random_state = 42)\n",
    "clf = tree.DecisionTreeClassifier(max_depth=2)\n",
    "clf = clf.fit(X_train,y_train)\n",
    "## Accuracy Part\n",
    "count = 0\n",
    "predicted = clf.predict(X_test)\n",
    "for i in range(len(predicted)):\n",
    "    if predicted[i]==y_test[i]:\n",
    "        count+=1\n",
    "print(count/len(X_test)*100, \"percent accuracy is obtained using in-built scikit learn implementation.\")\n",
    "print(\"91.334 % is the average accuracy obtained using cross validation\")"
   ]
  },
  {
   "cell_type": "markdown",
   "metadata": {},
   "source": [
    "### Q3 Continuous Regression using Decision Tree\n",
    "* Kindly rename the value of the to be predicted value as y.\n",
    "* Also, the dataset fed into all the functions is a Pandas DataFrame"
   ]
  },
  {
   "cell_type": "code",
   "execution_count": 12,
   "metadata": {},
   "outputs": [],
   "source": [
    "def reducestd(data,attributes):\n",
    "    var = {}\n",
    "    for attr in attributes:\n",
    "        freq = {}\n",
    "        for i in data[attr]:\n",
    "            if i not in freq:\n",
    "                freq[i]=1/len(data[attr])\n",
    "            else:\n",
    "                freq[i]+=1/len(data[attr])\n",
    "        keys = list(freq.keys())\n",
    "        st = 0\n",
    "        for i in keys:\n",
    "            temp = (data[data[attr]==i])\n",
    "            st+=np.std(temp['y'])*len(temp)/len(data)\n",
    "        var[attr]=st\n",
    "    return min(var,key = var.get)\n",
    "\n",
    "def dtreereg(dataset,data,attributes,min_examples,parent):\n",
    "    \"\"\"\n",
    "        If we don't simply have enough training data, \n",
    "        we do this. \n",
    "    \"\"\"\n",
    "    if len(data)<=min_examples:\n",
    "        return data['y'].mean()\n",
    "    elif len(data)==0:\n",
    "        return dataset['y'].mean()\n",
    "    elif len(attributes)==0:\n",
    "        return parent\n",
    "    else:\n",
    "        parent = data['y'].mean()\n",
    "        best = reducestd(data,attributes)\n",
    "        tree = {best:{}}\n",
    "        attributes.remove(best)\n",
    "        subtree_basis = [i for i in data[best].unique()]\n",
    "        for nnode in subtree_basis:\n",
    "            new_data = data.where(data[best]==nnode).dropna()\n",
    "            subtree = dtreereg(dataset,new_data,attributes, min_examples,parent)\n",
    "            tree[best][nnode] = subtree\n",
    "    return tree\n",
    "\n",
    "def regressor_predict(tree,instance):\n",
    "    for index in tree.keys():\n",
    "        if index in instance:\n",
    "            try:\n",
    "                potential = tree[index][instance[index]]\n",
    "            except:\n",
    "                return df_reg['y'].mean()\n",
    "            potential =tree[index][instance[index]]  # Avoid referencement error\n",
    "            if type(potential) == dict:\n",
    "                return regressor_predict(potential, instance)\n",
    "            else:\n",
    "                return potential"
   ]
  },
  {
   "cell_type": "code",
   "execution_count": 13,
   "metadata": {},
   "outputs": [],
   "source": [
    "df_reg = pd.read_excel('realestate.xlsx')\n",
    "df_reg = df_reg.drop(['No'],axis = 1)\n",
    "df_reg.head()\n",
    "df_reg = df_reg.dropna()\n",
    "attb = list(df_reg.columns)\n",
    "attb.remove('y')"
   ]
  },
  {
   "cell_type": "code",
   "execution_count": 14,
   "metadata": {},
   "outputs": [],
   "source": [
    "train, test = train_test_split(df_reg,test_size = 0.3, random_state = 42)"
   ]
  },
  {
   "cell_type": "code",
   "execution_count": 15,
   "metadata": {},
   "outputs": [],
   "source": [
    "tree_reg = dtreereg(train,train,attb,4,None)"
   ]
  },
  {
   "cell_type": "code",
   "execution_count": 16,
   "metadata": {},
   "outputs": [],
   "source": [
    "err = np.zeros(len(test))\n",
    "y_pred = np.zeros(len(test))\n",
    "for i in range(len(test)):\n",
    "    val = regressor_predict(tree_reg,test.iloc[i])\n",
    "    y_pred[i] = val\n",
    "    err[i] = test.iloc[i]['y'] - val"
   ]
  },
  {
   "cell_type": "markdown",
   "metadata": {},
   "source": [
    "#### Two Metrics have been used for this example. \n",
    "These include \n",
    "1. RMSE\n",
    "2. Absolute Mean Error\n"
   ]
  },
  {
   "cell_type": "code",
   "execution_count": 17,
   "metadata": {},
   "outputs": [
    {
     "name": "stdout",
     "output_type": "stream",
     "text": [
      "RMSE 10.324941104363576\n",
      "RMSE - STDDEV 13.25090872729112\n",
      "MAE 7.62896745398927\n",
      "MAE STDDEV 6.957245460277299\n"
     ]
    }
   ],
   "source": [
    "## RMSE\n",
    "print(\"RMSE\",((err**2).mean())**0.5)\n",
    "## RMSE Standard Deviatiot\n",
    "print(\"RMSE - STDDEV\",((err**2).std())**0.5)\n",
    "## MAE\n",
    "temp = np.sum(np.abs(err))/len(err)\n",
    "print(\"MAE\",temp)\n",
    "## MAE STDDEV\n",
    "temp = np.abs(err).std()\n",
    "print(\"MAE STDDEV\",temp)"
   ]
  },
  {
   "cell_type": "markdown",
   "metadata": {},
   "source": [
    "### Q4 Comparison of MAE"
   ]
  },
  {
   "cell_type": "code",
   "execution_count": 18,
   "metadata": {},
   "outputs": [
    {
     "name": "stdout",
     "output_type": "stream",
     "text": [
      "MAE and STDDEV are  6.168978102189782 5.900705547900533\n"
     ]
    }
   ],
   "source": [
    "### Regression Task - Scikit Learn\n",
    "from sklearn.metrics import mean_absolute_error\n",
    "reg =  tree.DecisionTreeRegressor()\n",
    "columns = list(df_reg.columns)\n",
    "columns.remove('y')\n",
    "X = df_reg[columns]\n",
    "y = df_reg['y']\n",
    "X_train, X_test, y_train, y_test = train_test_split(X,y,test_size = 0.33,random_state = 42)\n",
    "reg.fit(X_train,y_train)\n",
    "pred = reg.predict(X_test)\n",
    "print(\"MAE and STDDEV are \",mean_absolute_error(pred, y_test), np.std(np.abs(pred-y_test)))"
   ]
  },
  {
   "cell_type": "markdown",
   "metadata": {},
   "source": [
    "### Q5 \n",
    "#### Below is the classifier learnt on IRIS Dataset by Scikit - Learn.\n",
    "#### Following that is the Decision Tree that the model implemented created. The code is directly taken from [here](https://machinelearningmastery.com/implement-decision-tree-algorithm-scratch-python/), from where I had based my above implementation too."
   ]
  },
  {
   "cell_type": "code",
   "execution_count": 19,
   "metadata": {},
   "outputs": [
    {
     "data": {
      "image/png": "[encoded data removed]",
      "text/plain": [
       "<IPython.core.display.Image object>"
      ]
     },
     "execution_count": 19,
     "metadata": {},
     "output_type": "execute_result"
    }
   ],
   "source": [
    "### INBUILT Classification\n",
    "from sklearn.tree import export_graphviz\n",
    "from IPython.display import Image  \n",
    "from io import StringIO\n",
    "import pydot\n",
    "dot_data = StringIO()  \n",
    "export_graphviz(clf, out_file=dot_data,  \n",
    "                       \n",
    "                     filled=True, rounded=True,  \n",
    "                     special_characters=True)  \n",
    "graph = pydot.graph_from_dot_data(dot_data.getvalue())  [0]\n",
    "Image(graph.create_png())\n"
   ]
  },
  {
   "cell_type": "code",
   "execution_count": 20,
   "metadata": {},
   "outputs": [
    {
     "name": "stdout",
     "output_type": "stream",
     "text": [
      "[X3 < 3.000]\n",
      " [X1 < 5.100]\n",
      "  [X1 < 4.900]\n",
      "  [X1 < 5.100]\n",
      " [X3 < 5.100]\n",
      "  [X1 < 7.000]\n",
      "  [X4 < 1.800]\n"
     ]
    }
   ],
   "source": [
    "def print_tree(node, depth=0):\n",
    "    if isinstance(node, dict):\n",
    "        print('%s[X%d < %.3f]' % ((depth*' ', (node['Feature']+1), node['Value'])))\n",
    "        print_tree(node['left'], depth+1)\n",
    "        print_tree(node['right'], depth+1)\n",
    "print_tree(tree_cls)"
   ]
  },
  {
   "cell_type": "markdown",
   "metadata": {},
   "source": [
    "## Q7\n",
    "\n",
    "### The theoretical running time is O(mnlogn), where n is the number of samples and m is the number of features"
   ]
  },
  {
   "cell_type": "code",
   "execution_count": 112,
   "metadata": {},
   "outputs": [],
   "source": [
    "mn_learn = []\n",
    "mn_test = []"
   ]
  },
  {
   "cell_type": "code",
   "execution_count": 113,
   "metadata": {},
   "outputs": [],
   "source": [
    "import random\n",
    "import string\n",
    "import time"
   ]
  },
  {
   "cell_type": "markdown",
   "metadata": {},
   "source": [
    "I stopped the below execution intermittently. The Results are plotted below. This was because it was taking really long and I couldn't run any other processes concurrently. I am attaching a small sample and plots below."
   ]
  },
  {
   "cell_type": "code",
   "execution_count": 125,
   "metadata": {},
   "outputs": [
    {
     "name": "stdout",
     "output_type": "stream",
     "text": [
      "2\n",
      "3\n",
      "4\n",
      "5\n",
      "6\n",
      "7\n",
      "8\n",
      "9\n"
     ]
    }
   ],
   "source": [
    "mnl = []\n",
    "mnt = []\n",
    "for m in range(2,10):\n",
    "    print(m)\n",
    "    for n in range(100,120):\n",
    "        df_mn = pd.DataFrame(np.random.randn(n, m))\n",
    "        start_time  = time.time()\n",
    "        attb = list(df_mn.columns)\n",
    "#         print(attb)\n",
    "        tmp = max(attb)\n",
    "        attb.remove(tmp)\n",
    "        attb.append('y')\n",
    "#         print(attb)\n",
    "        df_mn.columns = attb\n",
    "#         print(df_mn.columns)\n",
    "        attb.remove('y')\n",
    "        train, test = train_test_split(df_mn,test_size = 0.33,random_state=42)\n",
    "        start_time = time.time()\n",
    "        _ = dtreereg(train,train,attb,4,None)\n",
    "        mnl.append(time.time() - start_time)\n",
    "        start_time  = time.time()\n",
    "        for i in range(len(test)):\n",
    "            val = test.iloc[i]\n",
    "            regressor_predict(_,instance=val)\n",
    "        mnt.append(time.time() - start_time)"
   ]
  },
  {
   "cell_type": "code",
   "execution_count": 143,
   "metadata": {},
   "outputs": [
    {
     "data": {
      "text/plain": [
       "Text(0.5, 1.0, ' M varied from 2 to 10, N from 100 to 120 - Time vs # of times trained and tested')"
      ]
     },
     "execution_count": 143,
     "metadata": {},
     "output_type": "execute_result"
    },
    {
     "data": {
      "image/png": "[encoded data removed]",
      "text/plain": [
       "<Figure size 432x288 with 1 Axes>"
      ]
     },
     "metadata": {
      "needs_background": "light"
     },
     "output_type": "display_data"
    }
   ],
   "source": [
    "plt.plot(mnt)\n",
    "plt.title(' M varied from 2 to 10, N from 100 to 120 - Time vs # of times trained and tested')"
   ]
  },
  {
   "cell_type": "code",
   "execution_count": 144,
   "metadata": {},
   "outputs": [
    {
     "data": {
      "text/plain": [
       "Text(0.5, 1.0, ' M varied from 2 to 10, N from 100 to 120 - Time vs # of times trained and tested')"
      ]
     },
     "execution_count": 144,
     "metadata": {},
     "output_type": "execute_result"
    },
    {
     "data": {
      "image/png": "[encoded data removed]",
      "text/plain": [
       "<Figure size 432x288 with 1 Axes>"
      ]
     },
     "metadata": {
      "needs_background": "light"
     },
     "output_type": "display_data"
    }
   ],
   "source": [
    "plt.plot(mnl)\n",
    "plt.title(' M varied from 2 to 10, N from 100 to 120 - Time vs # of times trained and tested')"
   ]
  },
  {
   "cell_type": "markdown",
   "metadata": {},
   "source": [
    "### As we can see an increasing trend with a few non linearities in the above two plots."
   ]
  },
  {
   "cell_type": "code",
   "execution_count": 121,
   "metadata": {},
   "outputs": [
    {
     "data": {
      "text/plain": [
       "Text(0, 0.5, 'Time in seconds for training')"
      ]
     },
     "execution_count": 121,
     "metadata": {},
     "output_type": "execute_result"
    },
    {
     "data": {
      "image/png": "[encoded data removed]",
      "text/plain": [
       "<Figure size 432x288 with 1 Axes>"
      ]
     },
     "metadata": {
      "needs_background": "light"
     },
     "output_type": "display_data"
    }
   ],
   "source": [
    "plt.plot([i for i in range(len(mn_learn))],[i for i in mn_learn])\n",
    "plt.xlabel('M and N varied together over 1552 iterations (N - 2 to 10, M from 100 to 1000)')\n",
    "plt.ylabel('Time in seconds for training')"
   ]
  },
  {
   "cell_type": "code",
   "execution_count": 123,
   "metadata": {},
   "outputs": [
    {
     "data": {
      "text/plain": [
       "Text(0.5, 1.0, 'DT as used for the housing price problem')"
      ]
     },
     "execution_count": 123,
     "metadata": {},
     "output_type": "execute_result"
    },
    {
     "data": {
      "image/png": "[encoded data removed]",
      "text/plain": [
       "<Figure size 432x288 with 1 Axes>"
      ]
     },
     "metadata": {
      "needs_background": "light"
     },
     "output_type": "display_data"
    }
   ],
   "source": [
    "plt.plot([i for i in range(len(mn_test))],[i for i in mn_test])\n",
    "plt.xlabel(plt.xlabel('M and N varied together over 1552 iterations (N - 2 to 10, M from 100 to 1000)'))\n",
    "plt.ylabel('Time for Test (seconds)')\n",
    "plt.title('DT as used for the housing price problem')"
   ]
  },
  {
   "cell_type": "markdown",
   "metadata": {},
   "source": [
    "Theoretically, we should expect an almost linear increase as it grows as O(mnlogn), where m is number of features and n is the number of samples. This is because logn grows slower than any polynomial in n."
   ]
  },
  {
   "cell_type": "markdown",
   "metadata": {},
   "source": [
    "## Q6"
   ]
  },
  {
   "cell_type": "code",
   "execution_count": 65,
   "metadata": {},
   "outputs": [
    {
     "data": {
      "text/html": [
       "<div>\n",
       "<style scoped>\n",
       "    .dataframe tbody tr th:only-of-type {\n",
       "        vertical-align: middle;\n",
       "    }\n",
       "\n",
       "    .dataframe tbody tr th {\n",
       "        vertical-align: top;\n",
       "    }\n",
       "\n",
       "    .dataframe thead th {\n",
       "        text-align: right;\n",
       "    }\n",
       "</style>\n",
       "<table border=\"1\" class=\"dataframe\">\n",
       "  <thead>\n",
       "    <tr style=\"text-align: right;\">\n",
       "      <th></th>\n",
       "      <th>c1</th>\n",
       "      <th>c2</th>\n",
       "      <th>c3</th>\n",
       "      <th>c4</th>\n",
       "      <th>Class</th>\n",
       "    </tr>\n",
       "  </thead>\n",
       "  <tbody>\n",
       "    <tr>\n",
       "      <th>0</th>\n",
       "      <td>5.1</td>\n",
       "      <td>3.5</td>\n",
       "      <td>1.4</td>\n",
       "      <td>0.2</td>\n",
       "      <td>0</td>\n",
       "    </tr>\n",
       "    <tr>\n",
       "      <th>1</th>\n",
       "      <td>4.9</td>\n",
       "      <td>3.0</td>\n",
       "      <td>1.4</td>\n",
       "      <td>0.2</td>\n",
       "      <td>0</td>\n",
       "    </tr>\n",
       "    <tr>\n",
       "      <th>2</th>\n",
       "      <td>4.7</td>\n",
       "      <td>3.2</td>\n",
       "      <td>1.3</td>\n",
       "      <td>0.2</td>\n",
       "      <td>0</td>\n",
       "    </tr>\n",
       "    <tr>\n",
       "      <th>3</th>\n",
       "      <td>4.6</td>\n",
       "      <td>3.1</td>\n",
       "      <td>1.5</td>\n",
       "      <td>0.2</td>\n",
       "      <td>0</td>\n",
       "    </tr>\n",
       "    <tr>\n",
       "      <th>4</th>\n",
       "      <td>5.0</td>\n",
       "      <td>3.6</td>\n",
       "      <td>1.4</td>\n",
       "      <td>0.2</td>\n",
       "      <td>0</td>\n",
       "    </tr>\n",
       "  </tbody>\n",
       "</table>\n",
       "</div>"
      ],
      "text/plain": [
       "    c1   c2   c3   c4  Class\n",
       "0  5.1  3.5  1.4  0.2      0\n",
       "1  4.9  3.0  1.4  0.2      0\n",
       "2  4.7  3.2  1.3  0.2      0\n",
       "3  4.6  3.1  1.5  0.2      0\n",
       "4  5.0  3.6  1.4  0.2      0"
      ]
     },
     "execution_count": 65,
     "metadata": {},
     "output_type": "execute_result"
    }
   ],
   "source": [
    "### Working on the IRIS Data Problem\n",
    "df = pd.read_csv('iris.csv')\n",
    "arr = np.array(df)\n",
    "df.head(10)\n",
    "cls = class_aggregate(np.array(df))\n",
    "df = val_replace(cls,df)\n",
    "new = np.array(df)\n",
    "df.head()"
   ]
  },
  {
   "cell_type": "code",
   "execution_count": 23,
   "metadata": {},
   "outputs": [],
   "source": [
    "train,test = train_test_split(new,test_size = 0.3)"
   ]
  },
  {
   "cell_type": "code",
   "execution_count": 51,
   "metadata": {},
   "outputs": [],
   "source": [
    "import matplotlib.pyplot as plt"
   ]
  },
  {
   "cell_type": "code",
   "execution_count": 59,
   "metadata": {
    "scrolled": true
   },
   "outputs": [
    {
     "data": {
      "text/plain": [
       "[<matplotlib.lines.Line2D at 0x7f1b7e1e44a8>]"
      ]
     },
     "execution_count": 59,
     "metadata": {},
     "output_type": "execute_result"
    },
    {
     "data": {
      "image/png": "[encoded data removed]",
      "text/plain": [
       "<Figure size 432x288 with 1 Axes>"
      ]
     },
     "metadata": {
      "needs_background": "light"
     },
     "output_type": "display_data"
    }
   ],
   "source": [
    "temp = np.array(df)\n",
    "X = []\n",
    "y = []\n",
    "for i in range(len(temp)):\n",
    "    X.append(temp[i][:4])\n",
    "    y.append(temp[i][-1])\n",
    "X_train, X_test, y_train, y_test = train_test_split(X,y, random_state = 42,test_size = 0.45)\n",
    "orders = {}\n",
    "for i1 in range(1,101):\n",
    "    clf = tree.DecisionTreeClassifier(max_depth=i1)\n",
    "    clf = clf.fit(X_train,y_train)\n",
    "    ## Accuracy Part\n",
    "    count = 0\n",
    "    predicted = clf.predict(X_train)\n",
    "    for i in range(len(predicted)):\n",
    "        if predicted[i]==y_train[i]:\n",
    "            count+=1\n",
    "    orders[i1] = count/len(X_train)*100\n",
    "plt.title('Accuracy on Train vs Depth - Scikit Learn')\n",
    "plt.plot(orders.keys(), orders.values(),c = 'r')"
   ]
  },
  {
   "cell_type": "markdown",
   "metadata": {},
   "source": [
    "##### Best Predictor Accuracy"
   ]
  },
  {
   "cell_type": "code",
   "execution_count": 62,
   "metadata": {},
   "outputs": [
    {
     "name": "stdout",
     "output_type": "stream",
     "text": [
      "98.52941176470588\n"
     ]
    }
   ],
   "source": [
    "clf = tree.DecisionTreeClassifier(max_depth=4)\n",
    "clf.fit(X_train,y_train)\n",
    "pred_best = clf.predict(X_test)\n",
    "count = 0\n",
    "for i in range(len(pred_best)):\n",
    "    if pred_best[i]==y_test[i]:\n",
    "        count+=1\n",
    "print(count/len(pred_best)*100)"
   ]
  },
  {
   "cell_type": "markdown",
   "metadata": {},
   "source": [
    "##### Worst predictor on train data with accuracy"
   ]
  },
  {
   "cell_type": "code",
   "execution_count": 63,
   "metadata": {},
   "outputs": [
    {
     "name": "stdout",
     "output_type": "stream",
     "text": [
      "69.11764705882352\n"
     ]
    }
   ],
   "source": [
    "clf = tree.DecisionTreeClassifier(max_depth=1)\n",
    "clf.fit(X_train,y_train)\n",
    "pred_worst = clf.predict(X_test)\n",
    "count = 0\n",
    "for i in range(len(pred_best)):\n",
    "    if pred_worst[i]==y_test[i]:\n",
    "        count+=1\n",
    "print(count/len(pred_worst)*100)"
   ]
  },
  {
   "cell_type": "markdown",
   "metadata": {},
   "source": [
    "#### Worst performance on train data - Only one split - Depth = 1; Best - any split more than 4, as per Scikit Learn"
   ]
  },
  {
   "cell_type": "markdown",
   "metadata": {},
   "source": [
    "#### Self implementation - best accuracy for depth is below"
   ]
  },
  {
   "cell_type": "code",
   "execution_count": 66,
   "metadata": {},
   "outputs": [
    {
     "data": {
      "text/plain": [
       "30.88235294117647"
      ]
     },
     "execution_count": 66,
     "metadata": {},
     "output_type": "execute_result"
    }
   ],
   "source": [
    "train, test = train_test_split(np.array(df),test_size = 0.45,random_state = 42)\n",
    "tree_cls = tree_iris(train,2,0)\n",
    "accurate(test,tree_cls)"
   ]
  }
 ],
 "metadata": {
  "kernelspec": {
   "display_name": "Python 3",
   "language": "python",
   "name": "python3"
  },
  "language_info": {
   "codemirror_mode": {
    "name": "ipython",
    "version": 3
   },
   "file_extension": ".py",
   "mimetype": "text/x-python",
   "name": "python",
   "nbconvert_exporter": "python",
   "pygments_lexer": "ipython3",
   "version": "3.6.8"
  }
 },
 "nbformat": 4,
 "nbformat_minor": 2
}
