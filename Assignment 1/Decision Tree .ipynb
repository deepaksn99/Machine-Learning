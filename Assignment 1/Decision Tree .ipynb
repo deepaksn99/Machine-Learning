{
 "cells": [
  {
   "cell_type": "markdown",
   "metadata": {},
   "source": [
    "## Machine Learning - Assignment 1\n",
    "Submitted by S Deepak Narayanan, 16110142, B.Tech (CSE)"
   ]
  },
  {
   "cell_type": "code",
   "execution_count": 54,
   "metadata": {},
   "outputs": [],
   "source": [
    "import numpy as np \n",
    "import pandas as pd\n",
    "from math import log\n",
    "from sklearn.model_selection import train_test_split"
   ]
  },
  {
   "cell_type": "markdown",
   "metadata": {},
   "source": [
    "### Q2 (a) Discrete Feature Discrete Output Decision Tree for Classification\n",
    "Note - Please rename output variable to be 'Class' in your dataset for this implementation to work"
   ]
  },
  {
   "cell_type": "code",
   "execution_count": 55,
   "metadata": {},
   "outputs": [],
   "source": [
    "def entropy(target):\n",
    "    freq = {}\n",
    "    for elem in target:\n",
    "        if elem not in freq:\n",
    "            freq[elem]=1/len(target)\n",
    "        else: \n",
    "            freq[elem]+=1/len(target)\n",
    "    _sum = [-freq[i]*np.log2(freq[i]) for i in freq]\n",
    "    return sum(_sum)\n",
    "\n",
    "def info_gain(data,attributes):\n",
    "    entropy_dataset = entropy(data['Class'])\n",
    "    entr_val = {}\n",
    "    infg = {}\n",
    "    for attr in attributes:\n",
    "        freq = {}\n",
    "        for i in data[attr]:\n",
    "            if i not in freq:\n",
    "                freq[i]=1/len(data[attr])\n",
    "            else:\n",
    "                freq[i]+=1/len(data[attr])\n",
    "        keys = list(freq.keys())\n",
    "        entr = {}\n",
    "        for i in keys:\n",
    "            temp = len(data[data[attr]==i])\n",
    "            entr[i] = temp/len(data)*entropy(data[data[attr]==i]['Class'])\n",
    "        entr_val[attr] = sum(list(entr.values()))\n",
    "        infg[attr] = entropy_dataset - entr_val[attr]\n",
    "    return max(infg, key = infg.get)\n",
    "\n",
    "def dtree(dataset,data,attributes,parent):\n",
    "    attribute = [i for i in attributes]\n",
    "    if len(data['Class'].unique())<=1:\n",
    "        return (list(data['Class'].unique())[0])\n",
    "    elif len(data)==0:\n",
    "        return np.unique(data['Class'])[np.argmax(np.unique(data['Class'],return_counts=True)[1])]\n",
    "    elif len(attribute)==0:\n",
    "        return parent\n",
    "    else:\n",
    "        parent = np.unique(data['Class'])[np.argmax(np.unique(data['Class'],return_counts=True)[1])]\n",
    "        \n",
    "    best = info_gain(data,attribute)\n",
    "    tree = {best:{}}\n",
    "    attribute.remove(best)\n",
    "    for ndata in data[best].unique():\n",
    "        new_data = data[data[best]==ndata]\n",
    "        subtree = dtree(dataset,new_data,attribute,parent)\n",
    "        tree[best][ndata]=subtree\n",
    "    return tree  "
   ]
  },
  {
   "cell_type": "markdown",
   "metadata": {},
   "source": [
    "### Q2 (a)  Continuous Features Discrete Output Decision Tree for Classification\n",
    "The code was referred from this link [here](https://machinelearningmastery.com/implement-decision-tree-algorithm-scratch-python/)."
   ]
  },
  {
   "cell_type": "code",
   "execution_count": 348,
   "metadata": {},
   "outputs": [],
   "source": [
    "## Iris Dataset Classification\n",
    "def gini(splits,classes):\n",
    "    total_rows = 0\n",
    "    final = 0\n",
    "    for i in range(len(splits)):\n",
    "        total_rows+=len(splits[i])\n",
    "    final = 0\n",
    "    for split in splits:\n",
    "        if len(split)==0:\n",
    "            continue\n",
    "        gscore = 0\n",
    "        for cls in classes:\n",
    "            p = [row[-1] for row in split].count(cls)/len(split)\n",
    "            gscore+=p*p\n",
    "        final+= (1-gscore)*(len(split)/total_rows)\n",
    "    return final\n",
    "## This needs to be done very carefully\n",
    "## Binary Splits\n",
    "def divide_data(dataset,feature,threshold):\n",
    "    new_data1 = []\n",
    "    new_data2 = []\n",
    "    for elem in dataset:\n",
    "        if elem[feature]<threshold:\n",
    "            new_data1.append(elem)\n",
    "        else:\n",
    "            new_data2.append(elem)\n",
    "    return new_data1, new_data2\n",
    "\n",
    "def best_split(dataset,classes):\n",
    "    best_so_far = 1000\n",
    "    best_splits = None\n",
    "    feature = 1000\n",
    "    value_split = 1000\n",
    "    for i in range(len(dataset[0])-1):\n",
    "        for elem in dataset:\n",
    "            splits = divide_data(dataset,i,elem[i])\n",
    "            gscore = gini(splits,classes)\n",
    "            if gscore<best_so_far:\n",
    "                best_so_far = gscore\n",
    "                best_splits = splits\n",
    "                feature = i\n",
    "                value_split = elem[i]\n",
    "    return {'split':best_splits,'Feature':feature,'Value':value_split}\n",
    "### Metrics Done _ Build Tree now .....\n",
    "def leaf_node(split):\n",
    "    cls = [elem[-1] for elem in split]\n",
    "    # Take Majority Vote\n",
    "    count = {}\n",
    "    for i in cls:\n",
    "        if i not in count:\n",
    "            count[i]=1\n",
    "        else:\n",
    "            count[i]+=1\n",
    "    return max(count, key = count.get)\n",
    "\n",
    "def partition(node, maxdepth, minsize, depth):\n",
    "    ## Each partition from above gives a node in essence.\n",
    "    lchild, rchild = node['split']\n",
    "    if not lchild or not rchild:\n",
    "        node['left']= leaf_node(lchild+rchild)\n",
    "        node['right'] = leaf_node(lchild+rchild)\n",
    "        return\n",
    "    if depth>maxdepth:\n",
    "        node['left'] = leaf_node(lchild)\n",
    "        node['right'] = leaf_node(rchild)\n",
    "        return\n",
    "    if len(lchild)<=minsize:\n",
    "        node['left'] = leaf_node(lchild)\n",
    "    else:\n",
    "        node['left'] = best_split(lchild,cls)\n",
    "        partition(node['left'],maxdepth,minsize, depth+1)\n",
    "    if len(rchild)<=minsize:\n",
    "        node['right'] = leaf_node(rchild)\n",
    "    else:\n",
    "        node['right'] = best_split(rchild,cls)\n",
    "        partition(node['right'],maxdepth,minsize,depth+1)\n",
    "        \n",
    "# def print_tree(node,depth):\n",
    "#     if type(node)==dict:\n",
    "#         print('%s[X%d < %.3f]' % ((depth*' ', (node['Feature']+1), node['Value'])))\n",
    "#         print_tree(node['left'], depth+1)\n",
    "#         print_tree(node['right'], depth+1)\n",
    "#     else:\n",
    "#         print('Depth - %s[%s]' % ((depth*' ', node)),depth)\n",
    "\n",
    "\n",
    "def tree_iris(dataset, maxdepth, minsize):\n",
    "    root = best_split(dataset,cls)\n",
    "    partition(root,maxdepth,minsize,1)\n",
    "    ## Printing the made Decision Tree\n",
    "    return root\n",
    "\n",
    "def predict(node, row):\n",
    "    if row[node['Feature']] < node['Value']:\n",
    "        if isinstance(node['left'], dict):\n",
    "            return predict(node['left'], row)\n",
    "        else:\n",
    "            return node['left']\n",
    "    else:\n",
    "        if isinstance(node['right'], dict):\n",
    "            return predict(node['right'], row)\n",
    "        else:\n",
    "            return node['right']\n",
    "\n",
    "def class_aggregate(dataset):\n",
    "    temp = []\n",
    "    for i in range(len(dataset)):\n",
    "        temp.append(dataset[i][-1])\n",
    "    temp = np.unique(np.array(temp))\n",
    "    return temp\n",
    "cls = class_aggregate(np.array(df))\n",
    "cls = np.uint8(cls)\n",
    "def val_replace(cls,dataset):\n",
    "    for i in range(len(cls)):\n",
    "        dataset = dataset.replace(cls[i],i)\n",
    "    return dataset\n",
    "df = val_replace(cls,df)\n",
    "\n",
    "def accurate(test,tree):\n",
    "    temp = 0\n",
    "    for i in test:\n",
    "        val = predict(tree,i)\n",
    "        if i[-1]==val:\n",
    "            temp+=1\n",
    "    return temp/len(test)*100"
   ]
  },
  {
   "cell_type": "markdown",
   "metadata": {},
   "source": [
    "### Q2 (b) with accuracy below\n",
    "Note: I have kept minimum number of samples to 0; This means we try to split even when we have only one data sample.\n",
    "\n",
    "Also the first part is without shuffling - we get an accuracy of 73.33 percent for a tree depth of 2."
   ]
  },
  {
   "cell_type": "code",
   "execution_count": 470,
   "metadata": {},
   "outputs": [
    {
     "data": {
      "text/plain": [
       "73.33333333333333"
      ]
     },
     "execution_count": 470,
     "metadata": {},
     "output_type": "execute_result"
    }
   ],
   "source": [
    "train = np.array(df)[:105]\n",
    "test = np.array(df)[105:]\n",
    "tree = tree_iris(train,2,0)\n",
    "accurate(test,tree)"
   ]
  },
  {
   "cell_type": "code",
   "execution_count": 409,
   "metadata": {
    "scrolled": true
   },
   "outputs": [],
   "source": [
    "accuracy = {}\n",
    "for i in range(1,20):\n",
    "    s =0\n",
    "    for j in range(100):\n",
    "        train, test = train_test_split(np.array(df),test_size = .30,random_state = j)\n",
    "        tree = tree_iris(train,i,0)\n",
    "        s+=(accurate(test,tree))\n",
    "    s/=100\n",
    "    accuracy[i] = s"
   ]
  },
  {
   "cell_type": "markdown",
   "metadata": {},
   "source": [
    "#### Below plot is for random dataset shuffling"
   ]
  },
  {
   "cell_type": "code",
   "execution_count": 416,
   "metadata": {},
   "outputs": [
    {
     "data": {
      "text/plain": [
       "Text(0.5, 1.0, 'Accuracy vs Depth of self implemented decision tree (No Cross Validation)')"
      ]
     },
     "execution_count": 416,
     "metadata": {},
     "output_type": "execute_result"
    },
    {
     "data": {
      "image/png": "[encoded data removed]",
      "text/plain": [
       "<Figure size 432x288 with 1 Axes>"
      ]
     },
     "metadata": {
      "needs_background": "light"
     },
     "output_type": "display_data"
    }
   ],
   "source": [
    "import matplotlib.pyplot as plt\n",
    "plt.plot(list(accuracy.keys()), list(accuracy.values()),marker='.',color='r')\n",
    "plt.xlabel('Max Depth')\n",
    "plt.ylabel('Accuracy in percentage')\n",
    "plt.title('Accuracy vs Depth of self implemented decision tree (No Cross Validation)')"
   ]
  },
  {
   "cell_type": "markdown",
   "metadata": {},
   "source": [
    "### Q2 (c) 5 Fold Cross Validation below\n",
    "Note - I have implemented without shuffling. "
   ]
  },
  {
   "cell_type": "code",
   "execution_count": 491,
   "metadata": {},
   "outputs": [],
   "source": [
    "def kfold_cross_validation(dataset):\n",
    "    for i in range(5):\n",
    "        test = dataset[30*i:30*(i+1)]\n",
    "        if 30*(i+1)+120<=150:\n",
    "            train = dataset[30*(i+1):]\n",
    "        else:\n",
    "            train1 = dataset[0:30*(i+1)-30]\n",
    "            train2 = dataset[30*(i+1):]\n",
    "            train = np.append(train1,train2,axis=0)\n",
    "        tree = tree_iris(train,2,0)\n",
    "        print(accurate(test,tree))"
   ]
  },
  {
   "cell_type": "code",
   "execution_count": 496,
   "metadata": {},
   "outputs": [
    {
     "name": "stdout",
     "output_type": "stream",
     "text": [
      "100.0\n",
      "96.66666666666667\n",
      "83.33333333333334\n",
      "90.0\n",
      "73.33333333333333\n"
     ]
    }
   ],
   "source": [
    "kfold_cross_validation(5,np.array(df))"
   ]
  },
  {
   "cell_type": "markdown",
   "metadata": {},
   "source": [
    "The average cross validation accuracy is 88.664 %"
   ]
  },
  {
   "cell_type": "markdown",
   "metadata": {},
   "source": [
    "### Q2(c) Nested Cross Validation "
   ]
  },
  {
   "cell_type": "code",
   "execution_count": 504,
   "metadata": {},
   "outputs": [
    {
     "name": "stdout",
     "output_type": "stream",
     "text": [
      "Accuracy is, 100.0  for iteration 1 . The depth of the optimal tree is  1\n",
      "Accuracy is, 100.0  for iteration 2 . The depth of the optimal tree is  1\n",
      "Accuracy is, 83.33333333333334  for iteration 3 . The depth of the optimal tree is  2\n",
      "Accuracy is, 90.0  for iteration 4 . The depth of the optimal tree is  1\n",
      "Accuracy is, 83.33333333333334  for iteration 5 . The depth of the optimal tree is  1\n"
     ]
    }
   ],
   "source": [
    "def nested_cross_validation(dataset):\n",
    "    for i in range(5):\n",
    "        test = dataset[30*i:30*(i+1)]\n",
    "        if 30*(i+1)+120<=150:\n",
    "            train = dataset[30*(i+1):]\n",
    "        else:\n",
    "            train1 = dataset[0:30*(i+1)-30]\n",
    "            train2 = dataset[30*(i+1):]\n",
    "            train = np.append(train1,train2,axis=0)\n",
    "        accuracy_validation = {}\n",
    "        for depth in range(1,11):\n",
    "            s = 0\n",
    "            for j in range(4):\n",
    "                validation = train[30*j:30*(j+1)]\n",
    "                train_1 = train[30*(j+1):]\n",
    "                train_2 = train[0:30*(j+1)-30]\n",
    "                train_ = np.append(train_1,train_2,axis = 0)\n",
    "                tree = tree_iris(train_,depth,0)\n",
    "                s+=(accurate(validation,tree))\n",
    "            accuracy_validation[depth] = s/4\n",
    "        value = max(accuracy_validation, key = accuracy_validation.get)\n",
    "        tree = tree_iris(train,value,0)\n",
    "        print(\"Accuracy is,\",accurate(test,tree), \" for iteration\",i+1, \". The depth of the optimal tree is \",value)\n",
    "nested_cross_validation(np.array(df))"
   ]
  },
  {
   "cell_type": "markdown",
   "metadata": {},
   "source": [
    "* The average accuracy after performing nested cross-validation is, 91.334 %.\n",
    "* As we can see from above, the optimal depth is somewhere in between 1 and 2, as it gives the highest accuracy on the validation data for each held out test set."
   ]
  },
  {
   "cell_type": "markdown",
   "metadata": {},
   "source": [
    "### Q4 \n",
    "#### Comparing Scikit-Learn Tree and Custom Implementation"
   ]
  },
  {
   "cell_type": "code",
   "execution_count": 519,
   "metadata": {},
   "outputs": [
    {
     "name": "stdout",
     "output_type": "stream",
     "text": [
      "97.36842105263158 percent accuracy is obtained using in-built implementation\n"
     ]
    }
   ],
   "source": [
    "from sklearn import tree\n",
    "temp = np.array(df)\n",
    "X = []\n",
    "y = []\n",
    "for i in range(len(temp)):\n",
    "    X.append(temp[i][:4])\n",
    "    y.append(temp[i][-1])\n",
    "X_train, X_test, y_train, y_test = train_test_split(X,y,random_state = 42)\n",
    "clf = tree.DecisionTreeClassifier(max_depth=2)\n",
    "clf = clf.fit(X_train,y_train)\n",
    "## Accuracy Part\n",
    "count = 0\n",
    "predicted = clf.predict(X_test)\n",
    "for i in range(len(predicted)):\n",
    "    if predicted[i]==y_test[i]:\n",
    "        count+=1\n",
    "print(count/len(X_test)*100, \"percent accuracy is obtained using in-built implementation\")"
   ]
  },
  {
   "cell_type": "code",
   "execution_count": null,
   "metadata": {},
   "outputs": [],
   "source": []
  },
  {
   "cell_type": "markdown",
   "metadata": {},
   "source": [
    "### Continuous Regression using Decision Tree"
   ]
  },
  {
   "cell_type": "code",
   "execution_count": null,
   "metadata": {},
   "outputs": [],
   "source": []
  }
 ],
 "metadata": {
  "kernelspec": {
   "display_name": "Python 3",
   "language": "python",
   "name": "python3"
  },
  "language_info": {
   "codemirror_mode": {
    "name": "ipython",
    "version": 3
   },
   "file_extension": ".py",
   "mimetype": "text/x-python",
   "name": "python",
   "nbconvert_exporter": "python",
   "pygments_lexer": "ipython3",
   "version": "3.6.6"
  }
 },
 "nbformat": 4,
 "nbformat_minor": 2
}
