{
 "cells": [
  {
   "cell_type": "code",
   "execution_count": 1,
   "metadata": {},
   "outputs": [],
   "source": [
    "import pandas as pd\n",
    "import matplotlib.pyplot as plt\n",
    "import numpy as np\n",
    "import operator\n",
    "from sklearn.neighbors import KNeighborsClassifier"
   ]
  },
  {
   "cell_type": "markdown",
   "metadata": {},
   "source": [
    "## Q1 (a)"
   ]
  },
  {
   "cell_type": "code",
   "execution_count": 2,
   "metadata": {},
   "outputs": [],
   "source": [
    "def manhattan(vector_1, vector_2):\n",
    "    \"\"\"\n",
    "        This is the L1 Norm\n",
    "    \"\"\"\n",
    "    if len(vector_1)!=len(vector_2):\n",
    "        print(\"Error! Vectors are not of the same length!\")\n",
    "        return\n",
    "    else:\n",
    "        new_value = 0\n",
    "        for i in range(len(vector_1)):\n",
    "            new_value+=np.abs(vector_1[i] - vector_2[i])\n",
    "        return new_value\n",
    "    \n",
    "def cosine(vector_1, vector_2):\n",
    "    \"\"\"\n",
    "        This is 1 - cosine of the angle between the two vector\n",
    "        This ensures ( I am assuming ) all the properties that every standard norm will satisfy\n",
    "    \"\"\"\n",
    "    if len(vector_1)!=len(vector_2):\n",
    "        print(\"Error! Vectors do not have the same dimension\")\n",
    "        return\n",
    "    else:\n",
    "        new_value = 0\n",
    "        for i in range(len(vector_1)):\n",
    "            new_value+=vector_1[i]*vector_2[i]\n",
    "        new_value/=(np.linalg.norm(vector_1)*np.linalg.norm(vector_2))\n",
    "        return (1 - new_value)\n",
    "\n",
    "def knn_predict(train_x, train_y, test_x, problem_type='classification',k=5, distance_metric = 'Euclidean'):\n",
    "    \n",
    "    if problem_type=='classification':\n",
    "        \"\"\"\n",
    "            Do classification\n",
    "        \"\"\"\n",
    "        if distance_metric == 'Euclidean':\n",
    "            final_labels = []\n",
    "            for elem in test_x:\n",
    "                distance = []\n",
    "                for index in range(len(train_x)):\n",
    "                    distance.append((np.linalg.norm(train_x[index] - elem),index))\n",
    "                distance = sorted(distance, key=lambda x:x[0])\n",
    "                result = distance[:k]\n",
    "                new_dict = {}\n",
    "                for elem in result:\n",
    "                    if y_train[elem[1]] in new_dict:\n",
    "                        new_dict[y_train[elem[1]]]+=1\n",
    "                    else:\n",
    "                        new_dict[y_train[elem[1]]]=1\n",
    "                key_max_value = max(new_dict.items(), key=operator.itemgetter(1))[0]\n",
    "                final_labels.append(key_max_value)\n",
    "            return np.array(final_labels)\n",
    "\n",
    "        \n",
    "        if distance_metric=='Manhattan':\n",
    "            final_labels = []\n",
    "            for elem in test_x:\n",
    "                distance = []\n",
    "                for index in range(len(train_x)):\n",
    "                    distance.append((manhattan(train_x[index],elem),index))\n",
    "                distance = sorted(distance, key=lambda x:x[0])\n",
    "                result = distance[:k]\n",
    "                new_dict = {}\n",
    "                for elem in result:\n",
    "                    if y_train[elem[1]] in new_dict:\n",
    "                        new_dict[y_train[elem[1]]]+=1\n",
    "                    else:\n",
    "                        new_dict[y_train[elem[1]]]=1\n",
    "                key_max_value = max(new_dict.items(), key=operator.itemgetter(1))[0]\n",
    "                final_labels.append(key_max_value)\n",
    "            return np.array(final_labels)\n",
    "                \n",
    "        if distance_metric == 'Cosine':\n",
    "            final_labels = []\n",
    "            for elem in test_x:\n",
    "                distance = []\n",
    "                for index in range(len(train_x)):\n",
    "                    distance.append((cosine(elem,train_x[index]),index))\n",
    "                distance = sorted(distance, key=lambda x:x[0])\n",
    "                result = distance[:k]\n",
    "                new_dict = {}\n",
    "                for elem in result:\n",
    "                    if y_train[elem[1]] in new_dict:\n",
    "                        new_dict[y_train[elem[1]]]+=1\n",
    "                    else:\n",
    "                        new_dict[y_train[elem[1]]]=1\n",
    "                key_max_value = max(new_dict.items(), key=operator.itemgetter(1))[0]\n",
    "                final_labels.append(key_max_value)\n",
    "            return np.array(final_labels)\n",
    "            \n",
    "    if problem_type == 'regression':\n",
    "        \"\"\"\n",
    "            Do Regression\n",
    "        \"\"\"\n",
    "        if distance_metric == 'Euclidean':\n",
    "            final_value = []\n",
    "            for elem in test_x:\n",
    "                distance = []\n",
    "                for index in range(len(train_x)):\n",
    "                    distance.append((np.linalg.norm(train_x[index] - elem),index))\n",
    "                distance = sorted(distance, key=lambda x:x[0])\n",
    "                result = distance[:k]\n",
    "                mean_value = 0\n",
    "                for i in range(len(result)):\n",
    "                    mean_value+=y_train[result[i][1]]\n",
    "                mean_value/=k\n",
    "                final_value.append(mean_value)\n",
    "            return np.array(final_value)\n",
    "        \n",
    "        if distance_metric=='Manhattan':\n",
    "            final_labels = []\n",
    "            for elem in test_x:\n",
    "                distance = []\n",
    "                for index in range(len(train_x)):\n",
    "                    distance.append((manhattan(train_x[index],elem),index))\n",
    "                distance = sorted(distance, key=lambda x:x[0])\n",
    "                result = distance[:k]\n",
    "                mean_value = 0\n",
    "                for i in range(len(result)):\n",
    "                    mean_value+=y_train[result[i][1]]\n",
    "                mean_value/=k\n",
    "                final_value.append(mean_value)\n",
    "            return np.array(final_value)\n",
    "        \n",
    "        if distance_metric == 'Cosine':\n",
    "            final_labels = []\n",
    "            for elem in test_x:\n",
    "                distance = []\n",
    "                for index in range(len(train_x)):\n",
    "                    distance.append((cosine(elem,train_x[index]),index))\n",
    "                distance = sorted(distance, key=lambda x:x[0])\n",
    "                result = distance[:k]\n",
    "                mean_value = 0\n",
    "                for i in range(len(result)):\n",
    "                    mean_value+=y_train[result[i][1]]\n",
    "                mean_value/=k\n",
    "                final_value.append(mean_value)\n",
    "            return np.array(final_value)\n",
    "        \n",
    "    if problem_type!='classification' or problem_type!='regression':\n",
    "        print(\"Invalid Type of Problem - Kindly choose between classification and regression\")\n",
    "        return"
   ]
  },
  {
   "cell_type": "markdown",
   "metadata": {},
   "source": [
    "## Q1 (b)"
   ]
  },
  {
   "cell_type": "code",
   "execution_count": 3,
   "metadata": {},
   "outputs": [],
   "source": [
    "from sklearn.datasets import make_classification\n",
    "from sklearn.datasets import make_regression\n",
    "from sklearn.model_selection import train_test_split\n",
    "import time"
   ]
  },
  {
   "cell_type": "code",
   "execution_count": 4,
   "metadata": {},
   "outputs": [
    {
     "name": "stdout",
     "output_type": "stream",
     "text": [
      "Testing custom implementation of KNN with Scikit Learn Model on Random Data\n",
      "\n",
      "*****************************************************************\n",
      "\n",
      "Cosine based KNN Prediction Accuracy  80.0\n",
      "Manhattan Distance based KNN Prediction Accuracy  80.0\n",
      "Euclidean Distance based KNN Prediction Accuracy  70.0\n",
      "Scikit Learn based KNN Prediction Accuracy  70.0\n"
     ]
    }
   ],
   "source": [
    "data_test = make_classification(n_samples=100)\n",
    "X_train, X_test, y_train, y_test = train_test_split(data_test[0],data_test[1],test_size=0.2)\n",
    "predicted_cosine = knn_predict(X_train, y_train, X_test, distance_metric='Cosine')\n",
    "predicted_manhattan = knn_predict(X_train,y_train,X_test, distance_metric='Manhattan')\n",
    "predicted_euclidean = knn_predict(X_train, y_train, X_test)\n",
    "print(\"Testing custom implementation of KNN with Scikit Learn Model on Random Data\")\n",
    "print()\n",
    "print('*'*65)\n",
    "print()\n",
    "print(\"Cosine based KNN Prediction Accuracy \",(len(y_test) - np.count_nonzero(predicted_cosine - y_test))/len(y_test)*100)\n",
    "print(\"Manhattan Distance based KNN Prediction Accuracy \",(len(y_test) - np.count_nonzero(predicted_manhattan - y_test))/len(y_test)*100)\n",
    "print(\"Euclidean Distance based KNN Prediction Accuracy \",(len(y_test) - np.count_nonzero(predicted_euclidean - y_test))/len(y_test)*100)\n",
    "knn = KNeighborsClassifier()\n",
    "knn.fit(X_train,y_train)\n",
    "predicted_knn = knn.predict(X_test)\n",
    "print(\"Scikit Learn based KNN Prediction Accuracy \",(len(y_test) - np.count_nonzero(predicted_knn - y_test))/len(y_test)*100)"
   ]
  },
  {
   "cell_type": "code",
   "execution_count": 5,
   "metadata": {
    "scrolled": true
   },
   "outputs": [],
   "source": [
    "samples = [i for i in range(100,2500,10)]\n",
    "time_taken = []\n",
    "for sample in samples:\n",
    "    classification_data = make_classification(n_samples=sample)\n",
    "    X_train, X_test, y_train,y_test = train_test_split(classification_data[0],classification_data[1],test_size=0.2)\n",
    "    start_time = time.time()\n",
    "    predicted_labels = knn_predict(X_train,y_train, X_test)\n",
    "    end_time = time.time()\n",
    "    time_taken.append((sample,end_time - start_time))"
   ]
  },
  {
   "cell_type": "code",
   "execution_count": 6,
   "metadata": {},
   "outputs": [
    {
     "data": {
      "text/plain": [
       "Text(0.5, 1.0, 'KNN - Time Taken v/s total sample count')"
      ]
     },
     "execution_count": 6,
     "metadata": {},
     "output_type": "execute_result"
    },
    {
     "data": {
      "image/png": "[encoded data removed]",
      "text/plain": [
       "<Figure size 432x288 with 1 Axes>"
      ]
     },
     "metadata": {
      "needs_background": "light"
     },
     "output_type": "display_data"
    }
   ],
   "source": [
    "plt.plot([i[0] for i in time_taken],[i[1] for i in time_taken])\n",
    "plt.xlabel('Number of Samples (0.8*Total Sample) with fixed 20 Features')\n",
    "plt.ylabel('Time taken in seconds')\n",
    "plt.title('KNN - Time Taken v/s total sample count')"
   ]
  },
  {
   "cell_type": "code",
   "execution_count": 12,
   "metadata": {},
   "outputs": [],
   "source": [
    "samples = [i for i in range(100,2000,10)]\n",
    "time_taken = []\n",
    "for sample in samples:\n",
    "    classification_data = make_classification(n_features=sample,n_samples=2000)\n",
    "    X_train, X_test, y_train,y_test = train_test_split(classification_data[0],classification_data[1],test_size=0.2)\n",
    "    start_time = time.time()\n",
    "    predicted_labels = knn_predict(X_train,y_train, X_test)\n",
    "    end_time = time.time()\n",
    "    time_taken.append((sample,end_time - start_time))"
   ]
  },
  {
   "cell_type": "code",
   "execution_count": 13,
   "metadata": {
    "scrolled": true
   },
   "outputs": [
    {
     "data": {
      "text/plain": [
       "Text(0.5, 1.0, 'KNN - Time Taken v/s Number of features')"
      ]
     },
     "execution_count": 13,
     "metadata": {},
     "output_type": "execute_result"
    },
    {
     "data": {
      "image/png": "[encoded data removed]",
      "text/plain": [
       "<Figure size 432x288 with 1 Axes>"
      ]
     },
     "metadata": {
      "needs_background": "light"
     },
     "output_type": "display_data"
    }
   ],
   "source": [
    "plt.plot([i[0] for i in time_taken],[i[1] for i in time_taken])\n",
    "plt.xlabel('Number of Features (2000 Samples - 400 Test)')\n",
    "plt.ylabel('Time taken in seconds')\n",
    "plt.title('KNN - Time Taken v/s Number of features')"
   ]
  },
  {
   "cell_type": "markdown",
   "metadata": {},
   "source": [
    "The theoretical runtime complexity would be $O(nd + kn)$, where $n$ is the number of training samples, $k$ is the number of neighbors under consideration and $d$ is the number of features or, in terms of distance, the number of dimensions of each data point.\n",
    "\n",
    "As can be seen, both the plots are almost linear, when one is fixed and the other is varying, thus holding up to the theoretical expectation."
   ]
  }
 ],
 "metadata": {
  "kernelspec": {
   "display_name": "Python 3",
   "language": "python",
   "name": "python3"
  },
  "language_info": {
   "codemirror_mode": {
    "name": "ipython",
    "version": 3
   },
   "file_extension": ".py",
   "mimetype": "text/x-python",
   "name": "python",
   "nbconvert_exporter": "python",
   "pygments_lexer": "ipython3",
   "version": "3.6.8"
  }
 },
 "nbformat": 4,
 "nbformat_minor": 2
}
