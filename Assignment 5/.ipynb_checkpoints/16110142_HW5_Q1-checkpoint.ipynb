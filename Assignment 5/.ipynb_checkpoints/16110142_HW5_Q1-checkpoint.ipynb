{
 "cells": [
  {
   "cell_type": "code",
   "execution_count": 1,
   "metadata": {},
   "outputs": [],
   "source": [
    "import pandas as pd\n",
    "import matplotlib.pyplot as plt\n",
    "import numpy as np\n",
    "import operator"
   ]
  },
  {
   "cell_type": "code",
   "execution_count": null,
   "metadata": {},
   "outputs": [],
   "source": [
    "def knn_predict(problem_type='classification',train_x, train_y, test_x, k=5, distance_metric = 'Euclidean'):\n",
    "    if problem_type=='classification':\n",
    "        \"\"\"\n",
    "            Do classification\n",
    "        \"\"\"\n",
    "        if distance_metric == 'Euclidean':\n",
    "            final_labels = []\n",
    "            for elem in test_x:\n",
    "                distance = []\n",
    "                for index in range(len(train_x)):\n",
    "                    distance.append((np.linalg.norm(train_x[index] - elem),index))\n",
    "                distance = sorted(distance, ket=lambda x:x[1])\n",
    "                result = distance[:k]\n",
    "                new_dict = {}\n",
    "                for elem in result:\n",
    "                    if elem[1] in new_dict:\n",
    "                        new_dict[elem[1]]+=1\n",
    "                    else:\n",
    "                        new_dict[elem[1]]=1\n",
    "                key_max_value = max(new_dict.iteritems(), key=operator.itemgetter(1))[0]\n",
    "                if new_dict[key_max_value]>k/2:\n",
    "                    final_labels.append(key_max_value)\n",
    "                else:\n",
    "                    new_label = 0\n",
    "                    for i in result:\n",
    "                        new_label.append(i[1])\n",
    "                    final_labels.append()\n",
    "                \n",
    "            \n",
    "    if problem_type == 'regression':\n",
    "        \"\"\"\n",
    "            Do Regression\n",
    "        \"\"\"\n",
    "    if problem_type!='classification' or problem_type!='regression':\n",
    "        print(\"Invalid Type of Problem - Kindly choose between classification and regression\")\n",
    "        return"
   ]
  },
  {
   "cell_type": "code",
   "execution_count": 6,
   "metadata": {},
   "outputs": [],
   "source": [
    "new_arr = [('ab',5),('bc',2)]\n",
    "new_arr = sorted(new_arr, key=lambda x:x[1])"
   ]
  },
  {
   "cell_type": "code",
   "execution_count": 8,
   "metadata": {},
   "outputs": [],
   "source": [
    "a = [2,3,4]"
   ]
  },
  {
   "cell_type": "code",
   "execution_count": 11,
   "metadata": {},
   "outputs": [
    {
     "ename": "AttributeError",
     "evalue": "'list' object has no attribute 'sum'",
     "output_type": "error",
     "traceback": [
      "\u001b[0;31m---------------------------------------------------------------------------\u001b[0m",
      "\u001b[0;31mAttributeError\u001b[0m                            Traceback (most recent call last)",
      "\u001b[0;32m<ipython-input-11-393d3db239ee>\u001b[0m in \u001b[0;36m<module>\u001b[0;34m\u001b[0m\n\u001b[0;32m----> 1\u001b[0;31m \u001b[0ma\u001b[0m\u001b[0;34m.\u001b[0m\u001b[0msum\u001b[0m\u001b[0;34m(\u001b[0m\u001b[0;34m)\u001b[0m\u001b[0;34m\u001b[0m\u001b[0;34m\u001b[0m\u001b[0m\n\u001b[0m",
      "\u001b[0;31mAttributeError\u001b[0m: 'list' object has no attribute 'sum'"
     ]
    }
   ],
   "source": [
    "a.sum()"
   ]
  },
  {
   "cell_type": "code",
   "execution_count": null,
   "metadata": {},
   "outputs": [],
   "source": []
  }
 ],
 "metadata": {
  "kernelspec": {
   "display_name": "Python 3",
   "language": "python",
   "name": "python3"
  },
  "language_info": {
   "codemirror_mode": {
    "name": "ipython",
    "version": 3
   },
   "file_extension": ".py",
   "mimetype": "text/x-python",
   "name": "python",
   "nbconvert_exporter": "python",
   "pygments_lexer": "ipython3",
   "version": "3.6.8"
  }
 },
 "nbformat": 4,
 "nbformat_minor": 2
}
