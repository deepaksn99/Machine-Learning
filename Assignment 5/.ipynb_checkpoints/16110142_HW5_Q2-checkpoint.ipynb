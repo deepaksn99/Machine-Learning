{
 "cells": [
  {
   "cell_type": "markdown",
   "metadata": {},
   "source": [
    "## Q2 (a)"
   ]
  },
  {
   "cell_type": "code",
   "execution_count": 1,
   "metadata": {},
   "outputs": [],
   "source": [
    "import numpy as np\n",
    "import matplotlib.pyplot as plt\n",
    "from knn_self import *\n",
    "from sklearn.model_selection import KFold\n",
    "from sklearn.model_selection import train_test_split\n",
    "import pandas as pd\n",
    "from sklearn.neighbors import KNeighborsRegressor\n",
    "from sklearn.metrics import mean_squared_error"
   ]
  },
  {
   "cell_type": "code",
   "execution_count": 2,
   "metadata": {},
   "outputs": [
    {
     "data": {
      "text/html": [
       "<div>\n",
       "<style scoped>\n",
       "    .dataframe tbody tr th:only-of-type {\n",
       "        vertical-align: middle;\n",
       "    }\n",
       "\n",
       "    .dataframe tbody tr th {\n",
       "        vertical-align: top;\n",
       "    }\n",
       "\n",
       "    .dataframe thead th {\n",
       "        text-align: right;\n",
       "    }\n",
       "</style>\n",
       "<table border=\"1\" class=\"dataframe\">\n",
       "  <thead>\n",
       "    <tr style=\"text-align: right;\">\n",
       "      <th></th>\n",
       "      <th>No</th>\n",
       "      <th>X1</th>\n",
       "      <th>X2</th>\n",
       "      <th>X3</th>\n",
       "      <th>X4</th>\n",
       "      <th>X5</th>\n",
       "      <th>X6</th>\n",
       "      <th>Y house price of unit area</th>\n",
       "    </tr>\n",
       "  </thead>\n",
       "  <tbody>\n",
       "    <tr>\n",
       "      <th>0</th>\n",
       "      <td>1</td>\n",
       "      <td>2012.916667</td>\n",
       "      <td>32.0</td>\n",
       "      <td>84.87882</td>\n",
       "      <td>10</td>\n",
       "      <td>24.98298</td>\n",
       "      <td>121.54024</td>\n",
       "      <td>37.9</td>\n",
       "    </tr>\n",
       "    <tr>\n",
       "      <th>1</th>\n",
       "      <td>2</td>\n",
       "      <td>2012.916667</td>\n",
       "      <td>19.5</td>\n",
       "      <td>306.59470</td>\n",
       "      <td>9</td>\n",
       "      <td>24.98034</td>\n",
       "      <td>121.53951</td>\n",
       "      <td>42.2</td>\n",
       "    </tr>\n",
       "    <tr>\n",
       "      <th>2</th>\n",
       "      <td>3</td>\n",
       "      <td>2013.583333</td>\n",
       "      <td>13.3</td>\n",
       "      <td>561.98450</td>\n",
       "      <td>5</td>\n",
       "      <td>24.98746</td>\n",
       "      <td>121.54391</td>\n",
       "      <td>47.3</td>\n",
       "    </tr>\n",
       "    <tr>\n",
       "      <th>3</th>\n",
       "      <td>4</td>\n",
       "      <td>2013.500000</td>\n",
       "      <td>13.3</td>\n",
       "      <td>561.98450</td>\n",
       "      <td>5</td>\n",
       "      <td>24.98746</td>\n",
       "      <td>121.54391</td>\n",
       "      <td>54.8</td>\n",
       "    </tr>\n",
       "    <tr>\n",
       "      <th>4</th>\n",
       "      <td>5</td>\n",
       "      <td>2012.833333</td>\n",
       "      <td>5.0</td>\n",
       "      <td>390.56840</td>\n",
       "      <td>5</td>\n",
       "      <td>24.97937</td>\n",
       "      <td>121.54245</td>\n",
       "      <td>43.1</td>\n",
       "    </tr>\n",
       "  </tbody>\n",
       "</table>\n",
       "</div>"
      ],
      "text/plain": [
       "   No           X1    X2         X3  X4        X5         X6  \\\n",
       "0   1  2012.916667  32.0   84.87882  10  24.98298  121.54024   \n",
       "1   2  2012.916667  19.5  306.59470   9  24.98034  121.53951   \n",
       "2   3  2013.583333  13.3  561.98450   5  24.98746  121.54391   \n",
       "3   4  2013.500000  13.3  561.98450   5  24.98746  121.54391   \n",
       "4   5  2012.833333   5.0  390.56840   5  24.97937  121.54245   \n",
       "\n",
       "   Y house price of unit area  \n",
       "0                        37.9  \n",
       "1                        42.2  \n",
       "2                        47.3  \n",
       "3                        54.8  \n",
       "4                        43.1  "
      ]
     },
     "execution_count": 2,
     "metadata": {},
     "output_type": "execute_result"
    }
   ],
   "source": [
    "df = pd.read_excel('realestate.xlsx')\n",
    "df = df.rename(index=str, columns = {'X1 transaction date':'X1','X2 house age':'X2',\n",
    "       'X3 distance to the nearest MRT station':'X3',\n",
    "       'X4 number of convenience stores':'X4', 'X5 latitude':'X5', 'X6 longitude':'X6'})\n",
    "temp_columns = list(df.columns)\n",
    "temp_columns.remove('Y house price of unit area')\n",
    "temp_columns.remove('No')\n",
    "X = df[temp_columns]\n",
    "y = df['Y house price of unit area']\n",
    "y = np.array(y)\n",
    "X = np.array(X)\n",
    "df.head()"
   ]
  },
  {
   "cell_type": "code",
   "execution_count": 3,
   "metadata": {},
   "outputs": [],
   "source": [
    "kf = KFold(n_splits=5)\n",
    "kf_valid = KFold(n_splits=4)"
   ]
  },
  {
   "cell_type": "code",
   "execution_count": 4,
   "metadata": {},
   "outputs": [
    {
     "name": "stdout",
     "output_type": "stream",
     "text": [
      "5 Fold CV to estimate optimal value of k\n",
      "\n",
      "*****************************************************************\n",
      "The best value of k is  3\n",
      "The validation error (Mean RMSE) on fold  1 is  8.637997513208788\n",
      "The Error on training set for fold  1  is  5.725654123269104\n",
      "The Error on test set for fold  1 is  7.196467413920886\n",
      "\n",
      "\n",
      "The best value of k is  6\n",
      "The validation error (Mean RMSE) on fold  2 is  8.470282058948452\n",
      "The Error on training set for fold  2  is  7.018689862433624\n",
      "The Error on test set for fold  2 is  8.423842620680421\n",
      "\n",
      "\n",
      "The best value of k is  5\n",
      "The validation error (Mean RMSE) on fold  3 is  8.454796217443599\n",
      "The Error on training set for fold  3  is  6.7656561188870095\n",
      "The Error on test set for fold  3 is  8.171847057878004\n",
      "\n",
      "\n",
      "The best value of k is  4\n",
      "The validation error (Mean RMSE) on fold  4 is  7.506741466444539\n",
      "The Error on training set for fold  4  is  5.649774579092686\n",
      "The Error on test set for fold  4 is  10.765251159639542\n",
      "\n",
      "\n",
      "The best value of k is  4\n",
      "The validation error (Mean RMSE) on fold  5 is  9.002890528620492\n",
      "The Error on training set for fold  5  is  6.699592012393749\n",
      "The Error on test set for fold  5 is  6.720463267096268\n",
      "\n",
      "\n",
      "***************************************************************** \n",
      "\n",
      "The overall error on test is, 8.255574303843025\n"
     ]
    }
   ],
   "source": [
    "print(\"5 Fold CV to estimate optimal value of k\\n\")\n",
    "print(\"*\"*65)\n",
    "k_fold = {i:{j:0 for j in range(1,5)} for i in range(1,6)}\n",
    "valid_overall = []\n",
    "fold_count = 0\n",
    "parameter_k = [i for i in range(1,51)]\n",
    "for train_index, test_index in kf.split(X):\n",
    "    fold_count+=1\n",
    "    X_train = X[train_index]\n",
    "    y_train = y[train_index]\n",
    "    X_test = X[test_index]\n",
    "    y_test = y[test_index]\n",
    "    penalty_wise = []\n",
    "    for i in range(1,7):\n",
    "        validation = []\n",
    "        for valid_train, valid_test in kf_valid.split(X_train):\n",
    "            x_valid_train = X_train[valid_train]\n",
    "            y_valid_train = y_train[valid_train]\n",
    "            x_valid_test = X_train[valid_test]\n",
    "            y_valid_test = y_train[valid_test]\n",
    "            knn = KNeighborsRegressor(n_neighbors=i)\n",
    "            knn.fit(x_valid_train,y_valid_train)\n",
    "            predicted = knn.predict(x_valid_test)\n",
    "            valid_error = np.sqrt(mean_squared_error(predicted,y_valid_test))\n",
    "            validation.append(valid_error)\n",
    "        penalty_wise.append(np.array(validation).mean())\n",
    "    #print(penalty_wise)\n",
    "    best = parameter_k[np.argmin(np.array(penalty_wise))]\n",
    "    print(\"The best value of k is \",best)\n",
    "    print(\"The validation error (Mean RMSE) on fold \",fold_count, \"is \",penalty_wise[np.argmin(np.array(penalty_wise))])\n",
    "    knn = KNeighborsRegressor(n_neighbors=best)\n",
    "    knn.fit(X_train,y_train)\n",
    "    train_error = np.sqrt(mean_squared_error(knn.predict(X_train),y_train))\n",
    "    print(\"The Error on training set for fold \",fold_count,\" is \",train_error)\n",
    "    test_error = np.sqrt(mean_squared_error(knn.predict(X_test),y_test))\n",
    "    print(\"The Error on test set for fold \",fold_count, \"is \", test_error)\n",
    "    valid_overall.append(test_error)\n",
    "    print(\"\\n\")\n",
    "print(\"*\"*65,\"\\n\")\n",
    "print(\"The overall error on test is,\",np.array(valid_overall).mean())"
   ]
  },
  {
   "cell_type": "markdown",
   "metadata": {},
   "source": [
    "The results are as follows.<br>\n",
    "The Root Mean Squared Errors are listed below here.<br>\n",
    "Linear Regression: 8.712<br>\n",
    "L1 Regularised Linear Regression:  8.39<br>\n",
    "L2 Regularised Linear Regression:  7.89<br>\n",
    "K Nearest Neighbors:   8.26"
   ]
  },
  {
   "cell_type": "markdown",
   "metadata": {},
   "source": [
    "## Q2 (b)"
   ]
  },
  {
   "cell_type": "code",
   "execution_count": 5,
   "metadata": {},
   "outputs": [],
   "source": [
    "for i in range(len(X[0])):\n",
    "    min_val = X[:,i].min()\n",
    "    max_val = X[:,i].max()\n",
    "    X[:,i] = (X[:,i] - min_val)/(max_val - min_val)"
   ]
  },
  {
   "cell_type": "code",
   "execution_count": 6,
   "metadata": {},
   "outputs": [
    {
     "name": "stdout",
     "output_type": "stream",
     "text": [
      "5 Fold CV to estimate optimal value of k when dataset is scaled\n",
      "\n",
      "*****************************************************************\n",
      "The best value of k is  6\n",
      "The validation error (Mean RMSE) on fold  1 is  9.007392019903074\n",
      "The Error on training set for fold  1  is  7.711806068394247\n",
      "The Error on test set for fold  1 is  6.522120479993876\n",
      "\n",
      "\n",
      "The best value of k is  6\n",
      "The validation error (Mean RMSE) on fold  2 is  8.364554110832016\n",
      "The Error on training set for fold  2  is  7.137522534383704\n",
      "The Error on test set for fold  2 is  8.692859323194607\n",
      "\n",
      "\n",
      "The best value of k is  5\n",
      "The validation error (Mean RMSE) on fold  3 is  8.638690819987415\n",
      "The Error on training set for fold  3  is  7.450519396318922\n",
      "The Error on test set for fold  3 is  7.347295871714029\n",
      "\n",
      "\n",
      "The best value of k is  5\n",
      "The validation error (Mean RMSE) on fold  4 is  7.238227348221738\n",
      "The Error on training set for fold  4  is  6.014087891958799\n",
      "The Error on test set for fold  4 is  11.884999353746478\n",
      "\n",
      "\n",
      "The best value of k is  6\n",
      "The validation error (Mean RMSE) on fold  5 is  8.793767126313643\n",
      "The Error on training set for fold  5  is  7.400632344812095\n",
      "The Error on test set for fold  5 is  6.807325332631153\n",
      "\n",
      "\n",
      "***************************************************************** \n",
      "\n",
      "The overall error on test is, 8.250920072256028\n"
     ]
    }
   ],
   "source": [
    "print(\"5 Fold CV to estimate optimal value of k when dataset is scaled\\n\")\n",
    "print(\"*\"*65)\n",
    "k_fold = {i:{j:0 for j in range(1,5)} for i in range(1,6)}\n",
    "valid_overall = []\n",
    "fold_count = 0\n",
    "parameter_k = [i for i in range(1,51)]\n",
    "for train_index, test_index in kf.split(X):\n",
    "    fold_count+=1\n",
    "    X_train = X[train_index]\n",
    "    y_train = y[train_index]\n",
    "    X_test = X[test_index]\n",
    "    y_test = y[test_index]\n",
    "    penalty_wise = []\n",
    "    for i in range(1,7):\n",
    "        validation = []\n",
    "        for valid_train, valid_test in kf_valid.split(X_train):\n",
    "            x_valid_train = X_train[valid_train]\n",
    "            y_valid_train = y_train[valid_train]\n",
    "            x_valid_test = X_train[valid_test]\n",
    "            y_valid_test = y_train[valid_test]\n",
    "            knn = KNeighborsRegressor(n_neighbors=i)\n",
    "            knn.fit(x_valid_train,y_valid_train)\n",
    "            predicted = knn.predict(x_valid_test)\n",
    "            valid_error = np.sqrt(mean_squared_error(predicted,y_valid_test))\n",
    "            validation.append(valid_error)\n",
    "        penalty_wise.append(np.array(validation).mean())\n",
    "    #print(penalty_wise)\n",
    "    best = parameter_k[np.argmin(np.array(penalty_wise))]\n",
    "    print(\"The best value of k is \",best)\n",
    "    print(\"The validation error (Mean RMSE) on fold \",fold_count, \"is \",penalty_wise[np.argmin(np.array(penalty_wise))])\n",
    "    knn = KNeighborsRegressor(n_neighbors=best)\n",
    "    knn.fit(X_train,y_train)\n",
    "    train_error = np.sqrt(mean_squared_error(knn.predict(X_train),y_train))\n",
    "    print(\"The Error on training set for fold \",fold_count,\" is \",train_error)\n",
    "    test_error = np.sqrt(mean_squared_error(knn.predict(X_test),y_test))\n",
    "    print(\"The Error on test set for fold \",fold_count, \"is \", test_error)\n",
    "    valid_overall.append(test_error)\n",
    "    print(\"\\n\")\n",
    "print(\"*\"*65,\"\\n\")\n",
    "print(\"The overall error on test is,\",np.array(valid_overall).mean())"
   ]
  },
  {
   "cell_type": "markdown",
   "metadata": {},
   "source": [
    "## Q2 (c)"
   ]
  },
  {
   "cell_type": "code",
   "execution_count": 7,
   "metadata": {},
   "outputs": [
    {
     "data": {
      "text/plain": [
       "<matplotlib.legend.Legend at 0x27ccaa59048>"
      ]
     },
     "execution_count": 7,
     "metadata": {},
     "output_type": "execute_result"
    },
    {
     "data": {
      "image/png": "[encoded data removed]",
      "text/plain": [
       "<Figure size 432x288 with 1 Axes>"
      ]
     },
     "metadata": {},
     "output_type": "display_data"
    }
   ],
   "source": [
    "X_train_new = X[:int(len(X)*0.8)]\n",
    "y_train_new = y[:int(len(y)*0.8)]\n",
    "X_test_new = X[int(len(X)*0.8):]\n",
    "y_test_new = y[int(len(X)*0.8):]\n",
    "train_error = []\n",
    "test_error = []\n",
    "for k in range(1,101):\n",
    "    knn = KNeighborsRegressor(n_neighbors=k)\n",
    "    knn.fit(X_train_new,y_train_new)\n",
    "    predicted_train = knn.predict(X_train_new)\n",
    "    train_error.append(np.sqrt(mean_squared_error(predicted_train,y_train_new)))\n",
    "    predicted_test = knn.predict(X_test_new)\n",
    "    test_error.append(np.sqrt(mean_squared_error(predicted_test,y_test_new)))\n",
    "plt.plot([i for i in range(1,101)],train_error,label='Train Error')\n",
    "plt.xlabel('Value of K')\n",
    "plt.ylabel('RMSE')\n",
    "plt.title('Train and Test Error as a function of number of neighbors(k)')\n",
    "plt.plot([i for i in range(1,101)],test_error,label='Test Error')\n",
    "plt.legend()"
   ]
  },
  {
   "cell_type": "markdown",
   "metadata": {},
   "source": [
    "The train error above is seen to be increasing constantly. This I believe is because as $k$ increases, we might tend to choose more and more far away samples. $k=1$ is the optimal for the training data, but because of the added number of samples, more and more dissimlar samples are forced into the dataset, which causes an increasing trend in the training error."
   ]
  },
  {
   "cell_type": "markdown",
   "metadata": {},
   "source": [
    "Finding the sample that has most RMSE in Test Data<br>\n",
    "K = 5 is the optimal for this split of Train and Test <br>\n",
    "I am using Scaled Data (Data between 0 and 1)"
   ]
  },
  {
   "cell_type": "code",
   "execution_count": 8,
   "metadata": {},
   "outputs": [],
   "source": [
    "predicted_with_house = []\n",
    "knn = KNeighborsRegressor(n_neighbors=5)\n",
    "knn.fit(X_train_new,y_train_new)\n",
    "for i in range(len(X_test_new)):\n",
    "    predicted = knn.predict(np.array([X_test_new[i]]))\n",
    "    predicted_with_house.append((i,np.sqrt(mean_squared_error(predicted, np.array([y_test_new[i]])))))"
   ]
  },
  {
   "cell_type": "code",
   "execution_count": 9,
   "metadata": {},
   "outputs": [],
   "source": [
    "prediction_final = sorted(predicted_with_house, key = lambda x:x[1])"
   ]
  },
  {
   "cell_type": "code",
   "execution_count": 10,
   "metadata": {},
   "outputs": [
    {
     "name": "stdout",
     "output_type": "stream",
     "text": [
      "The two homes with most errors are 30 and 58\n",
      "The errors are respectively  25.659999999999997 18.160000000000004\n"
     ]
    }
   ],
   "source": [
    "print('The two homes with most errors are 30 and 58\\nThe errors are respectively ',prediction_final[-1][1], prediction_final[-2][1])"
   ]
  },
  {
   "cell_type": "markdown",
   "metadata": {},
   "source": [
    "Though I am using the scaled dataset, error is due to the fact that only of the features (Number of convinient stores nearby is 0.) <br>\n",
    "We can fix the error by not considering the number of convenient stores feature.<br>\n",
    "We can also use the mean value for the number of convenient stores."
   ]
  }
 ],
 "metadata": {
  "kernelspec": {
   "display_name": "Python 3",
   "language": "python",
   "name": "python3"
  },
  "language_info": {
   "codemirror_mode": {
    "name": "ipython",
    "version": 3
   },
   "file_extension": ".py",
   "mimetype": "text/x-python",
   "name": "python",
   "nbconvert_exporter": "python",
   "pygments_lexer": "ipython3",
   "version": "3.6.5"
  }
 },
 "nbformat": 4,
 "nbformat_minor": 2
}
