{
 "cells": [
  {
   "cell_type": "code",
   "execution_count": 1,
   "metadata": {},
   "outputs": [],
   "source": [
    "from sklearn.linear_model import LinearRegression\n",
    "import pandas as pd\n",
    "import matplotlib.pyplot as plt\n",
    "import numpy as np\n",
    "from sklearn.metrics import mean_squared_error\n",
    "from sklearn.model_selection import train_test_split"
   ]
  },
  {
   "cell_type": "code",
   "execution_count": 6,
   "metadata": {},
   "outputs": [],
   "source": [
    "x = np.arange(0, 20.1, 0.1)\n",
    "np.random.seed(0)\n",
    "y = 1*x**5 + 3*x**4 - 100*x**3 + 8*x**2 -300*x - 1e5 + np.random.randn(len(x))*1e5"
   ]
  },
  {
   "cell_type": "code",
   "execution_count": 7,
   "metadata": {},
   "outputs": [],
   "source": [
    "def normalEquationRegression(X,y):\n",
    "    X_t = np.transpose(X)\n",
    "    first = np.linalg.pinv(X_t.dot(X))\n",
    "    second = X_t.dot(y)\n",
    "    return first.dot(second)"
   ]
  },
  {
   "cell_type": "markdown",
   "metadata": {},
   "source": [
    "### Degree 4 estimation"
   ]
  },
  {
   "cell_type": "code",
   "execution_count": 8,
   "metadata": {},
   "outputs": [
    {
     "name": "stdout",
     "output_type": "stream",
     "text": [
      "theta0 is  52920.16923344135\n",
      "theta1 is  -126089.1852363944\n",
      "theta2 is  27806.707364737988\n",
      "theta3 is  -2488.5050692511722\n",
      "theta4 is  87.85237165310537\n"
     ]
    }
   ],
   "source": [
    "new_array = np.ones(len(x))\n",
    "new_array = new_array[:,np.newaxis]\n",
    "for i in range(1,5):\n",
    "    temp_arr = x**i\n",
    "    temp_arr = temp_arr[:,np.newaxis]\n",
    "    new_array = np.c_[ new_array, temp_arr ]    \n",
    "X = new_array\n",
    "for i in range(len(normalEquationRegression(X,y))):\n",
    "    print('theta'+str(i)+' is ',normalEquationRegression(X,y)[i])"
   ]
  },
  {
   "cell_type": "markdown",
   "metadata": {},
   "source": [
    "### Degree 5 Estimation"
   ]
  },
  {
   "cell_type": "code",
   "execution_count": 9,
   "metadata": {
    "scrolled": true
   },
   "outputs": [
    {
     "name": "stdout",
     "output_type": "stream",
     "text": [
      "theta0 is  8823.539650440216\n",
      "theta1 is  -57553.72192120552\n",
      "theta2 is  3579.6641380786896\n",
      "theta3 is  753.7586549520493\n",
      "theta4 is  -94.74980575032532\n",
      "theta5 is  3.6520437330036657\n"
     ]
    }
   ],
   "source": [
    "new_array = np.ones(len(x))\n",
    "new_array = new_array[:,np.newaxis]\n",
    "for i in range(1,6):\n",
    "    temp_arr = x**i\n",
    "    temp_arr = temp_arr[:,np.newaxis]\n",
    "    new_array = np.c_[ new_array, temp_arr ]    \n",
    "X = new_array\n",
    "for i in range(len(normalEquationRegression(X,y))):\n",
    "    print('theta'+str(i)+' is ',normalEquationRegression(X,y)[i])"
   ]
  },
  {
   "cell_type": "markdown",
   "metadata": {},
   "source": [
    "The coefficients are really high when compared to those used to generate the data. This is really because of the simple fact that the matrix we used, the classic <i> Vandermonte </i> Matrix is ill-conditioned, i.e., the value of the following: $||A||.||A^{-1}||$ is too high. The system of equations solved, will thus not be properly conditioned. \n",
    "For a more extensive reason: refer [here](https://stats.stackexchange.com/questions/233414/why-are-there-large-coefficents-for-higher-order-polynomial)."
   ]
  }
 ],
 "metadata": {
  "kernelspec": {
   "display_name": "Python 3",
   "language": "python",
   "name": "python3"
  },
  "language_info": {
   "codemirror_mode": {
    "name": "ipython",
    "version": 3
   },
   "file_extension": ".py",
   "mimetype": "text/x-python",
   "name": "python",
   "nbconvert_exporter": "python",
   "pygments_lexer": "ipython3",
   "version": "3.6.8"
  }
 },
 "nbformat": 4,
 "nbformat_minor": 2
}
