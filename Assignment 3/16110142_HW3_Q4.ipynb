{
 "cells": [
  {
   "cell_type": "code",
   "execution_count": 19,
   "metadata": {},
   "outputs": [],
   "source": [
    "import pandas as pd\n",
    "import numpy \n",
    "import matplotlib.pyplot as plt\n",
    "from sklearn.linear_model import LinearRegression\n",
    "from sklearn.model_selection import train_test_split\n",
    "from sklearn.metrics import mean_squared_error\n",
    "from sklearn import preprocessing\n",
    "import torch\n",
    "device = torch.device('cpu')\n",
    "from autograd import elementwise_grad\n",
    "import autograd.numpy as np\n",
    "import time"
   ]
  },
  {
   "cell_type": "markdown",
   "metadata": {},
   "source": [
    "## 4 (a), 4 (b), 4 (c), 4 (d)"
   ]
  },
  {
   "cell_type": "code",
   "execution_count": 20,
   "metadata": {},
   "outputs": [],
   "source": [
    "def cost_function(theta):\n",
    "    error = ((y - np.dot(X,theta))**2)/len(X)\n",
    "    return error\n",
    "\n",
    "def normalEquationRegression(X,y):\n",
    "    X_t = np.transpose(X)\n",
    "    first = np.linalg.pinv(X_t.dot(X))\n",
    "    second = X_t.dot(y)\n",
    "    return first.dot(second)\n",
    "\n",
    "def gradientDescentRegression(X,y,alpha=0.1,iteration=50):\n",
    "    \n",
    "    theta_old = np.random.rand(len(X[0]))\n",
    "    for i in range(iteration):\n",
    "        predicted = X.dot(theta_old)\n",
    "        error = y - predicted\n",
    "        temp = theta_old + 2/len(X)*alpha*X.T.dot(error)\n",
    "        theta_old = temp\n",
    "    return theta_old\n",
    "\n",
    "def gradientDescentAutogradRegression(X,y,alpha=0.1,iteration=50):\n",
    "    \n",
    "    theta_old = np.random.rand(len(X[0]))\n",
    "    agrad = elementwise_grad(cost_function)\n",
    "    for i in range(iteration):\n",
    "        val = agrad(theta_old)\n",
    "        predicted = X.dot(theta_old)\n",
    "        error = y - predicted\n",
    "        temp = theta_old - alpha*val\n",
    "        theta_old = temp\n",
    "    return theta_old\n",
    "\n",
    "## PyTorch Implementation is still left\n",
    "def gradientDescentPyTorchRegression(X,y,alpha=0.1,iteration=50):\n",
    "    X = np.c_[np.ones(len(X)),X]\n",
    "    theta_old = torch.rand(len(X[0]),requires_grad=True)\n",
    "    print(theta_old)\n",
    "    for i in range(iteration):\n",
    "        print(theta_old)\n",
    "        predicted = X.dot(theta_old)\n",
    "        error = y - predicted\n",
    "        temp = theta_old + 2*alpha*X.T.dot(error)\n",
    "        theta_old = temp\n",
    "        with torch.no_grad():\n",
    "            theta_old -= theta_old * theta_old.grad\n",
    "        theta_old.grad.zero_()\n",
    "    return theta_old"
   ]
  },
  {
   "cell_type": "markdown",
   "metadata": {},
   "source": [
    "## 4 (e)"
   ]
  },
  {
   "cell_type": "code",
   "execution_count": 21,
   "metadata": {
    "scrolled": true
   },
   "outputs": [
    {
     "data": {
      "text/html": [
       "<div>\n",
       "<style scoped>\n",
       "    .dataframe tbody tr th:only-of-type {\n",
       "        vertical-align: middle;\n",
       "    }\n",
       "\n",
       "    .dataframe tbody tr th {\n",
       "        vertical-align: top;\n",
       "    }\n",
       "\n",
       "    .dataframe thead th {\n",
       "        text-align: right;\n",
       "    }\n",
       "</style>\n",
       "<table border=\"1\" class=\"dataframe\">\n",
       "  <thead>\n",
       "    <tr style=\"text-align: right;\">\n",
       "      <th></th>\n",
       "      <th>No</th>\n",
       "      <th>X1 transaction date</th>\n",
       "      <th>X2 house age</th>\n",
       "      <th>X3 distance to the nearest MRT station</th>\n",
       "      <th>X4 number of convenience stores</th>\n",
       "      <th>X5 latitude</th>\n",
       "      <th>X6 longitude</th>\n",
       "      <th>Y house price of unit area</th>\n",
       "    </tr>\n",
       "  </thead>\n",
       "  <tbody>\n",
       "    <tr>\n",
       "      <th>0</th>\n",
       "      <td>1</td>\n",
       "      <td>2012.916667</td>\n",
       "      <td>32.0</td>\n",
       "      <td>84.87882</td>\n",
       "      <td>10</td>\n",
       "      <td>24.98298</td>\n",
       "      <td>121.54024</td>\n",
       "      <td>37.9</td>\n",
       "    </tr>\n",
       "    <tr>\n",
       "      <th>1</th>\n",
       "      <td>2</td>\n",
       "      <td>2012.916667</td>\n",
       "      <td>19.5</td>\n",
       "      <td>306.59470</td>\n",
       "      <td>9</td>\n",
       "      <td>24.98034</td>\n",
       "      <td>121.53951</td>\n",
       "      <td>42.2</td>\n",
       "    </tr>\n",
       "    <tr>\n",
       "      <th>2</th>\n",
       "      <td>3</td>\n",
       "      <td>2013.583333</td>\n",
       "      <td>13.3</td>\n",
       "      <td>561.98450</td>\n",
       "      <td>5</td>\n",
       "      <td>24.98746</td>\n",
       "      <td>121.54391</td>\n",
       "      <td>47.3</td>\n",
       "    </tr>\n",
       "    <tr>\n",
       "      <th>3</th>\n",
       "      <td>4</td>\n",
       "      <td>2013.500000</td>\n",
       "      <td>13.3</td>\n",
       "      <td>561.98450</td>\n",
       "      <td>5</td>\n",
       "      <td>24.98746</td>\n",
       "      <td>121.54391</td>\n",
       "      <td>54.8</td>\n",
       "    </tr>\n",
       "    <tr>\n",
       "      <th>4</th>\n",
       "      <td>5</td>\n",
       "      <td>2012.833333</td>\n",
       "      <td>5.0</td>\n",
       "      <td>390.56840</td>\n",
       "      <td>5</td>\n",
       "      <td>24.97937</td>\n",
       "      <td>121.54245</td>\n",
       "      <td>43.1</td>\n",
       "    </tr>\n",
       "  </tbody>\n",
       "</table>\n",
       "</div>"
      ],
      "text/plain": [
       "   No  X1 transaction date  X2 house age  \\\n",
       "0   1          2012.916667          32.0   \n",
       "1   2          2012.916667          19.5   \n",
       "2   3          2013.583333          13.3   \n",
       "3   4          2013.500000          13.3   \n",
       "4   5          2012.833333           5.0   \n",
       "\n",
       "   X3 distance to the nearest MRT station  X4 number of convenience stores  \\\n",
       "0                                84.87882                               10   \n",
       "1                               306.59470                                9   \n",
       "2                               561.98450                                5   \n",
       "3                               561.98450                                5   \n",
       "4                               390.56840                                5   \n",
       "\n",
       "   X5 latitude  X6 longitude  Y house price of unit area  \n",
       "0     24.98298     121.54024                        37.9  \n",
       "1     24.98034     121.53951                        42.2  \n",
       "2     24.98746     121.54391                        47.3  \n",
       "3     24.98746     121.54391                        54.8  \n",
       "4     24.97937     121.54245                        43.1  "
      ]
     },
     "execution_count": 21,
     "metadata": {},
     "output_type": "execute_result"
    }
   ],
   "source": [
    "df = pd.read_excel('realestate.xlsx')\n",
    "df.head()"
   ]
  },
  {
   "cell_type": "code",
   "execution_count": 22,
   "metadata": {},
   "outputs": [],
   "source": [
    "linear = LinearRegression()\n",
    "col = list(df.columns)\n",
    "col.remove('Y house price of unit area')\n",
    "col.remove('No')\n",
    "X = df[col]\n",
    "y = df['Y house price of unit area']"
   ]
  },
  {
   "cell_type": "code",
   "execution_count": 23,
   "metadata": {},
   "outputs": [
    {
     "name": "stdout",
     "output_type": "stream",
     "text": [
      "The RMSE for the Scikit Learn model is 8.712564884272549\n",
      "The time taken for the inbuilt implementation is 0.0007538795471191406\n"
     ]
    }
   ],
   "source": [
    "x_train, x_test, y_train, y_test = train_test_split(X,y,test_size = 0.3, random_state = 42)\n",
    "x_train = np.array(x_train)\n",
    "x_test = np.array(x_test)\n",
    "y_train = np.array(y_train)\n",
    "y_test = np.array(y_test)\n",
    "linear = LinearRegression()\n",
    "x_train = preprocessing.scale(x_train)\n",
    "x_test = preprocessing.scale(x_test)\n",
    "start_time = time.time()\n",
    "linear.fit(x_train,y_train)\n",
    "predicted = linear.predict(x_test)\n",
    "end_time = time.time()\n",
    "print('The RMSE for the Scikit Learn model is',np.sqrt(mean_squared_error(predicted,y_test)))\n",
    "print('The time taken for the inbuilt implementation is',end_time - start_time)"
   ]
  },
  {
   "cell_type": "markdown",
   "metadata": {},
   "source": [
    "### Normal Equation "
   ]
  },
  {
   "cell_type": "code",
   "execution_count": 38,
   "metadata": {},
   "outputs": [
    {
     "name": "stdout",
     "output_type": "stream",
     "text": [
      "The RMSE for my Normal Equation Regression is,  8.712564884272545\n",
      "The time taken for normal equation regression is implementation is 0.0012040138244628906\n"
     ]
    }
   ],
   "source": [
    "X = np.c_[np.ones(len(x_train)),x_train]\n",
    "y = y_train\n",
    "start_time = time.time()\n",
    "val = normalEquationRegression(X,y)\n",
    "end_time = time.time()\n",
    "intercept = val[0]\n",
    "predicted = x_test.dot(normalEquationRegression(X,y)[1:])+intercept\n",
    "print('The RMSE for my Normal Equation Regression is, ',np.sqrt(mean_squared_error(predicted,y_test)))\n",
    "print('The time taken for normal equation regression is implementation is',end_time - start_time)"
   ]
  },
  {
   "cell_type": "markdown",
   "metadata": {},
   "source": [
    "### Vanilla Gradient Descent"
   ]
  },
  {
   "cell_type": "code",
   "execution_count": 39,
   "metadata": {},
   "outputs": [
    {
     "name": "stdout",
     "output_type": "stream",
     "text": [
      "The RMSE for my Gradient Descent is,  8.712564744776516\n",
      "The time taken for my implementation is 0.03239750862121582\n"
     ]
    }
   ],
   "source": [
    "X = np.c_[np.ones(len(x_train)),x_train]\n",
    "y = y_train\n",
    "start_time = time.time()\n",
    "val = gradientDescentRegression(X,y,alpha = 0.01,iteration=5000)\n",
    "end_time = time.time()\n",
    "intercept = val[0]\n",
    "predicted = x_test.dot(gradientDescentRegression(X,y,alpha = 0.01,iteration=5000)[1:])+intercept\n",
    "print('The RMSE for my Gradient Descent is, ',np.sqrt(mean_squared_error(predicted,y_test)))\n",
    "print('The time taken for my implementation is',end_time - start_time)"
   ]
  },
  {
   "cell_type": "markdown",
   "metadata": {},
   "source": [
    "### Autograd Gradient Descent"
   ]
  },
  {
   "cell_type": "code",
   "execution_count": 40,
   "metadata": {
    "scrolled": true
   },
   "outputs": [
    {
     "name": "stdout",
     "output_type": "stream",
     "text": [
      "The RMSE for my Gradient Descent is,  8.712564764849184\n",
      "The time taken for my implementation is 0.7496404647827148\n"
     ]
    }
   ],
   "source": [
    "X = np.c_[np.ones(len(x_train)),x_train]\n",
    "y = y_train\n",
    "start_time = time.time()\n",
    "val = gradientDescentAutogradRegression(X,y,alpha = 0.01,iteration=5000)\n",
    "end_time = time.time()\n",
    "intercept = val[0]\n",
    "predicted = x_test.dot(gradientDescentAutogradRegression(X,y,alpha = 0.01,iteration=5000)[1:])+intercept\n",
    "print('The RMSE for my Gradient Descent is, ',np.sqrt(mean_squared_error(predicted,y_test)))\n",
    "print('The time taken for my implementation is',end_time - start_time)"
   ]
  },
  {
   "cell_type": "markdown",
   "metadata": {},
   "source": [
    "### PyTorch Gradient Descent"
   ]
  },
  {
   "cell_type": "code",
   "execution_count": 41,
   "metadata": {},
   "outputs": [
    {
     "name": "stdout",
     "output_type": "stream",
     "text": [
      "tensor([ 0.5588,  0.8796,  0.1395,  0.4163,  0.3972,  0.5320,  0.2983,\n",
      "         0.2156])\n",
      "tensor([ 0.5588,  0.8796,  0.1395,  0.4163,  0.3972,  0.5320,  0.2983,\n",
      "         0.2156])\n"
     ]
    },
    {
     "ename": "TypeError",
     "evalue": "Cannot find a common data type.",
     "output_type": "error",
     "traceback": [
      "\u001b[0;31m---------------------------------------------------------------------------\u001b[0m",
      "\u001b[0;31mTypeError\u001b[0m                                 Traceback (most recent call last)",
      "\u001b[0;32m<ipython-input-41-632dc437098b>\u001b[0m in \u001b[0;36m<module>\u001b[0;34m()\u001b[0m\n\u001b[1;32m      2\u001b[0m \u001b[0my\u001b[0m \u001b[0;34m=\u001b[0m \u001b[0my_train\u001b[0m\u001b[0;34m\u001b[0m\u001b[0;34m\u001b[0m\u001b[0m\n\u001b[1;32m      3\u001b[0m \u001b[0mstart_time\u001b[0m \u001b[0;34m=\u001b[0m \u001b[0mtime\u001b[0m\u001b[0;34m.\u001b[0m\u001b[0mtime\u001b[0m\u001b[0;34m(\u001b[0m\u001b[0;34m)\u001b[0m\u001b[0;34m\u001b[0m\u001b[0;34m\u001b[0m\u001b[0m\n\u001b[0;32m----> 4\u001b[0;31m \u001b[0mval\u001b[0m \u001b[0;34m=\u001b[0m \u001b[0mgradientDescentPyTorchRegression\u001b[0m\u001b[0;34m(\u001b[0m\u001b[0mX\u001b[0m\u001b[0;34m,\u001b[0m\u001b[0my\u001b[0m\u001b[0;34m,\u001b[0m\u001b[0malpha\u001b[0m \u001b[0;34m=\u001b[0m \u001b[0;36m0.01\u001b[0m\u001b[0;34m,\u001b[0m\u001b[0miteration\u001b[0m\u001b[0;34m=\u001b[0m\u001b[0;36m5000\u001b[0m\u001b[0;34m)\u001b[0m\u001b[0;34m\u001b[0m\u001b[0;34m\u001b[0m\u001b[0m\n\u001b[0m\u001b[1;32m      5\u001b[0m \u001b[0mend_time\u001b[0m \u001b[0;34m=\u001b[0m \u001b[0mtime\u001b[0m\u001b[0;34m.\u001b[0m\u001b[0mtime\u001b[0m\u001b[0;34m(\u001b[0m\u001b[0;34m)\u001b[0m\u001b[0;34m\u001b[0m\u001b[0;34m\u001b[0m\u001b[0m\n\u001b[1;32m      6\u001b[0m \u001b[0mintercept\u001b[0m \u001b[0;34m=\u001b[0m \u001b[0mval\u001b[0m\u001b[0;34m[\u001b[0m\u001b[0;36m0\u001b[0m\u001b[0;34m]\u001b[0m\u001b[0;34m\u001b[0m\u001b[0;34m\u001b[0m\u001b[0m\n",
      "\u001b[0;32m<ipython-input-20-efea2a69433e>\u001b[0m in \u001b[0;36mgradientDescentPyTorchRegression\u001b[0;34m(X, y, alpha, iteration)\u001b[0m\n\u001b[1;32m     38\u001b[0m     \u001b[0;32mfor\u001b[0m \u001b[0mi\u001b[0m \u001b[0;32min\u001b[0m \u001b[0mrange\u001b[0m\u001b[0;34m(\u001b[0m\u001b[0miteration\u001b[0m\u001b[0;34m)\u001b[0m\u001b[0;34m:\u001b[0m\u001b[0;34m\u001b[0m\u001b[0;34m\u001b[0m\u001b[0m\n\u001b[1;32m     39\u001b[0m         \u001b[0mprint\u001b[0m\u001b[0;34m(\u001b[0m\u001b[0mtheta_old\u001b[0m\u001b[0;34m)\u001b[0m\u001b[0;34m\u001b[0m\u001b[0;34m\u001b[0m\u001b[0m\n\u001b[0;32m---> 40\u001b[0;31m         \u001b[0mpredicted\u001b[0m \u001b[0;34m=\u001b[0m \u001b[0mX\u001b[0m\u001b[0;34m.\u001b[0m\u001b[0mdot\u001b[0m\u001b[0;34m(\u001b[0m\u001b[0mtheta_old\u001b[0m\u001b[0;34m)\u001b[0m\u001b[0;34m\u001b[0m\u001b[0;34m\u001b[0m\u001b[0m\n\u001b[0m\u001b[1;32m     41\u001b[0m         \u001b[0merror\u001b[0m \u001b[0;34m=\u001b[0m \u001b[0my\u001b[0m \u001b[0;34m-\u001b[0m \u001b[0mpredicted\u001b[0m\u001b[0;34m\u001b[0m\u001b[0;34m\u001b[0m\u001b[0m\n\u001b[1;32m     42\u001b[0m         \u001b[0mtemp\u001b[0m \u001b[0;34m=\u001b[0m \u001b[0mtheta_old\u001b[0m \u001b[0;34m+\u001b[0m \u001b[0;36m2\u001b[0m\u001b[0;34m*\u001b[0m\u001b[0malpha\u001b[0m\u001b[0;34m*\u001b[0m\u001b[0mX\u001b[0m\u001b[0;34m.\u001b[0m\u001b[0mT\u001b[0m\u001b[0;34m.\u001b[0m\u001b[0mdot\u001b[0m\u001b[0;34m(\u001b[0m\u001b[0merror\u001b[0m\u001b[0;34m)\u001b[0m\u001b[0;34m\u001b[0m\u001b[0;34m\u001b[0m\u001b[0m\n",
      "\u001b[0;31mTypeError\u001b[0m: Cannot find a common data type."
     ]
    }
   ],
   "source": [
    "X = np.c_[np.ones(len(x_train)),x_train]\n",
    "y = y_train\n",
    "start_time = time.time()\n",
    "val = gradientDescentPyTorchRegression(X,y,alpha = 0.01,iteration=5000)\n",
    "end_time = time.time()\n",
    "intercept = val[0]\n",
    "predicted = x_test.dot(gradientDescentPyTorchRegression(X,y,alpha = 0.01,iteration=5000)[1:])+intercept\n",
    "print('The RMSE for my Gradient Descent is, ',np.sqrt(mean_squared_error(predicted,y_test)))\n",
    "print('The time taken for my implementation is',end_time - start_time)"
   ]
  }
 ],
 "metadata": {
  "kernelspec": {
   "display_name": "Python 3",
   "language": "python",
   "name": "python3"
  },
  "language_info": {
   "codemirror_mode": {
    "name": "ipython",
    "version": 3
   },
   "file_extension": ".py",
   "mimetype": "text/x-python",
   "name": "python",
   "nbconvert_exporter": "python",
   "pygments_lexer": "ipython3",
   "version": "3.6.8"
  }
 },
 "nbformat": 4,
 "nbformat_minor": 2
}
