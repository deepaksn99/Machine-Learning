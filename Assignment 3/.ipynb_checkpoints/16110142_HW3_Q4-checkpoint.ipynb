{
 "cells": [
  {
   "cell_type": "code",
   "execution_count": 1,
   "metadata": {},
   "outputs": [],
   "source": [
    "import pandas as pd\n",
    "import numpy as np\n",
    "import matplotlib.pyplot as plt\n",
    "from sklearn.linear_model import LinearRegression\n",
    "from sklearn.model_selection import train_test_split\n",
    "from sklearn.metrics import mean_squared_error\n",
    "from sklearn import preprocessing"
   ]
  },
  {
   "cell_type": "code",
   "execution_count": null,
   "metadata": {},
   "outputs": [],
   "source": [
    "def normalEquationRegression(X,y):\n",
    "    X_t = np.transpose(X)\n",
    "    first = np.linalg.pinv(X_t.dot(X))\n",
    "    second = X_t.dot(y)\n",
    "    return first.dot(second)\n",
    "def gradientDescentRegression(X,y,alpha=0,1):\n",
    "    return\n",
    "def gradientDescentAutogradRegression(X,y,alpha=0.1):\n",
    "    return\n",
    "    ## Use Autograd\n",
    "def gradientDescentPyTorchRegression(X,y,alpha=0,1):\n",
    "    return\n"
   ]
  }
 ],
 "metadata": {
  "kernelspec": {
   "display_name": "Python 3",
   "language": "python",
   "name": "python3"
  },
  "language_info": {
   "codemirror_mode": {
    "name": "ipython",
    "version": 3
   },
   "file_extension": ".py",
   "mimetype": "text/x-python",
   "name": "python",
   "nbconvert_exporter": "python",
   "pygments_lexer": "ipython3",
   "version": "3.6.8"
  }
 },
 "nbformat": 4,
 "nbformat_minor": 2
}
