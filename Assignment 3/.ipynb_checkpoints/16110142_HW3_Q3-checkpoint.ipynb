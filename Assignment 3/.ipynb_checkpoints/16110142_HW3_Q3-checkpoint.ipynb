{
 "cells": [
  {
   "cell_type": "markdown",
   "metadata": {},
   "source": [
    "### 3 (a) "
   ]
  },
  {
   "cell_type": "code",
   "execution_count": 1,
   "metadata": {},
   "outputs": [],
   "source": [
    "import pandas as pd\n",
    "import numpy as np\n",
    "import matplotlib.pyplot as plt\n",
    "from sklearn.linear_model import LinearRegression\n",
    "from sklearn.model_selection import train_test_split\n",
    "from sklearn.metrics import mean_squared_error\n",
    "from sklearn import preprocessing\n",
    "from sklearn.model_selection import KFold\n",
    "from itertools import combinations"
   ]
  },
  {
   "cell_type": "code",
   "execution_count": 2,
   "metadata": {},
   "outputs": [
    {
     "data": {
      "text/html": [
       "<div>\n",
       "<style scoped>\n",
       "    .dataframe tbody tr th:only-of-type {\n",
       "        vertical-align: middle;\n",
       "    }\n",
       "\n",
       "    .dataframe tbody tr th {\n",
       "        vertical-align: top;\n",
       "    }\n",
       "\n",
       "    .dataframe thead th {\n",
       "        text-align: right;\n",
       "    }\n",
       "</style>\n",
       "<table border=\"1\" class=\"dataframe\">\n",
       "  <thead>\n",
       "    <tr style=\"text-align: right;\">\n",
       "      <th></th>\n",
       "      <th>No</th>\n",
       "      <th>X1 transaction date</th>\n",
       "      <th>X2 house age</th>\n",
       "      <th>X3 distance to the nearest MRT station</th>\n",
       "      <th>X4 number of convenience stores</th>\n",
       "      <th>X5 latitude</th>\n",
       "      <th>X6 longitude</th>\n",
       "      <th>Y house price of unit area</th>\n",
       "    </tr>\n",
       "  </thead>\n",
       "  <tbody>\n",
       "    <tr>\n",
       "      <th>0</th>\n",
       "      <td>1</td>\n",
       "      <td>2012.916667</td>\n",
       "      <td>32.0</td>\n",
       "      <td>84.87882</td>\n",
       "      <td>10</td>\n",
       "      <td>24.98298</td>\n",
       "      <td>121.54024</td>\n",
       "      <td>37.9</td>\n",
       "    </tr>\n",
       "    <tr>\n",
       "      <th>1</th>\n",
       "      <td>2</td>\n",
       "      <td>2012.916667</td>\n",
       "      <td>19.5</td>\n",
       "      <td>306.59470</td>\n",
       "      <td>9</td>\n",
       "      <td>24.98034</td>\n",
       "      <td>121.53951</td>\n",
       "      <td>42.2</td>\n",
       "    </tr>\n",
       "    <tr>\n",
       "      <th>2</th>\n",
       "      <td>3</td>\n",
       "      <td>2013.583333</td>\n",
       "      <td>13.3</td>\n",
       "      <td>561.98450</td>\n",
       "      <td>5</td>\n",
       "      <td>24.98746</td>\n",
       "      <td>121.54391</td>\n",
       "      <td>47.3</td>\n",
       "    </tr>\n",
       "    <tr>\n",
       "      <th>3</th>\n",
       "      <td>4</td>\n",
       "      <td>2013.500000</td>\n",
       "      <td>13.3</td>\n",
       "      <td>561.98450</td>\n",
       "      <td>5</td>\n",
       "      <td>24.98746</td>\n",
       "      <td>121.54391</td>\n",
       "      <td>54.8</td>\n",
       "    </tr>\n",
       "    <tr>\n",
       "      <th>4</th>\n",
       "      <td>5</td>\n",
       "      <td>2012.833333</td>\n",
       "      <td>5.0</td>\n",
       "      <td>390.56840</td>\n",
       "      <td>5</td>\n",
       "      <td>24.97937</td>\n",
       "      <td>121.54245</td>\n",
       "      <td>43.1</td>\n",
       "    </tr>\n",
       "  </tbody>\n",
       "</table>\n",
       "</div>"
      ],
      "text/plain": [
       "   No  X1 transaction date  X2 house age  \\\n",
       "0   1          2012.916667          32.0   \n",
       "1   2          2012.916667          19.5   \n",
       "2   3          2013.583333          13.3   \n",
       "3   4          2013.500000          13.3   \n",
       "4   5          2012.833333           5.0   \n",
       "\n",
       "   X3 distance to the nearest MRT station  X4 number of convenience stores  \\\n",
       "0                                84.87882                               10   \n",
       "1                               306.59470                                9   \n",
       "2                               561.98450                                5   \n",
       "3                               561.98450                                5   \n",
       "4                               390.56840                                5   \n",
       "\n",
       "   X5 latitude  X6 longitude  Y house price of unit area  \n",
       "0     24.98298     121.54024                        37.9  \n",
       "1     24.98034     121.53951                        42.2  \n",
       "2     24.98746     121.54391                        47.3  \n",
       "3     24.98746     121.54391                        54.8  \n",
       "4     24.97937     121.54245                        43.1  "
      ]
     },
     "execution_count": 2,
     "metadata": {},
     "output_type": "execute_result"
    }
   ],
   "source": [
    "df = pd.read_excel('realestate.xlsx')\n",
    "df.head()"
   ]
  },
  {
   "cell_type": "code",
   "execution_count": 3,
   "metadata": {},
   "outputs": [
    {
     "data": {
      "text/plain": [
       "Index(['No', 'X1 transaction date', 'X2 house age',\n",
       "       'X3 distance to the nearest MRT station',\n",
       "       'X4 number of convenience stores', 'X5 latitude', 'X6 longitude',\n",
       "       'Y house price of unit area'],\n",
       "      dtype='object')"
      ]
     },
     "execution_count": 3,
     "metadata": {},
     "output_type": "execute_result"
    }
   ],
   "source": [
    "df.columns"
   ]
  },
  {
   "cell_type": "code",
   "execution_count": 4,
   "metadata": {},
   "outputs": [],
   "source": [
    "linear = LinearRegression()\n",
    "col = list(df.columns)\n",
    "col.remove('No')\n",
    "df = df[col]\n",
    "col.remove('Y house price of unit area')"
   ]
  },
  {
   "cell_type": "code",
   "execution_count": 5,
   "metadata": {},
   "outputs": [],
   "source": [
    "X = df[col]\n",
    "y = df['Y house price of unit area']"
   ]
  },
  {
   "cell_type": "code",
   "execution_count": 6,
   "metadata": {},
   "outputs": [],
   "source": [
    "x_train, x_test, y_train, y_test = train_test_split(X,y,test_size = 0.3, random_state = 42)"
   ]
  },
  {
   "cell_type": "code",
   "execution_count": 7,
   "metadata": {},
   "outputs": [
    {
     "data": {
      "text/plain": [
       "LinearRegression(copy_X=True, fit_intercept=True, n_jobs=1, normalize=False)"
      ]
     },
     "execution_count": 7,
     "metadata": {},
     "output_type": "execute_result"
    }
   ],
   "source": [
    "linear.fit(x_train,y_train)"
   ]
  },
  {
   "cell_type": "code",
   "execution_count": 8,
   "metadata": {},
   "outputs": [
    {
     "name": "stdout",
     "output_type": "stream",
     "text": [
      "The RMS Error is 8.57703316536859\n"
     ]
    }
   ],
   "source": [
    "predicted = linear.predict(x_test)\n",
    "print('The RMS Error is',np.sqrt(mean_squared_error(predicted,y_test)))"
   ]
  },
  {
   "cell_type": "code",
   "execution_count": 9,
   "metadata": {},
   "outputs": [
    {
     "data": {
      "text/plain": [
       "array([ 5.85014746e+00, -2.42551464e-01, -5.13870668e-03,  1.07453372e+00,\n",
       "        2.39100477e+02, -5.22365968e+01])"
      ]
     },
     "execution_count": 9,
     "metadata": {},
     "output_type": "execute_result"
    }
   ],
   "source": [
    "linear.coef_"
   ]
  },
  {
   "cell_type": "markdown",
   "metadata": {},
   "source": [
    "### 3 (b)"
   ]
  },
  {
   "cell_type": "markdown",
   "metadata": {},
   "source": [
    "No. It is not correct to infer about the important of different features. This is because all the feature values have varying ranges, and hence the coefficients are chosen to overall normalise the effect of different range of values that different features take."
   ]
  },
  {
   "cell_type": "markdown",
   "metadata": {},
   "source": [
    "### 3 (c)"
   ]
  },
  {
   "cell_type": "code",
   "execution_count": 10,
   "metadata": {},
   "outputs": [
    {
     "name": "stdout",
     "output_type": "stream",
     "text": [
      "The RMSE is 8.712564884272549\n"
     ]
    }
   ],
   "source": [
    "linear_scaled = LinearRegression()\n",
    "x_train_scaled = preprocessing.scale(x_train)\n",
    "x_test_scaled = preprocessing.scale(x_test)\n",
    "linear_scaled.fit(x_train_scaled,y_train)\n",
    "scaled_predicted = linear_scaled.predict(x_test_scaled)\n",
    "print('The RMSE is',np.sqrt(mean_squared_error(scaled_predicted,y_test)))"
   ]
  },
  {
   "cell_type": "code",
   "execution_count": 11,
   "metadata": {},
   "outputs": [
    {
     "data": {
      "text/plain": [
       "array([ 1.65204522, -2.76099926, -6.40440182,  3.20557991,  2.989337  ,\n",
       "       -0.78774024])"
      ]
     },
     "execution_count": 11,
     "metadata": {},
     "output_type": "execute_result"
    }
   ],
   "source": [
    "linear_scaled.coef_"
   ]
  },
  {
   "cell_type": "markdown",
   "metadata": {},
   "source": [
    "This above model that was fit, after the scaling shows us that X1,X2,X3,X4 are more important than longitude in most cases. Surprisingly the latitude (X5) plays an important role. Also, previously X3 had very low coefficients in terms of absolute values, but now, it has the highest. Therefore we can say that X4 is contributing, along with X1 and X5 towards making the prices higher, wherein, X2, X3 and X6 are contributing towards making the prices lower."
   ]
  },
  {
   "cell_type": "markdown",
   "metadata": {},
   "source": [
    "### 3 (d)"
   ]
  },
  {
   "cell_type": "code",
   "execution_count": 12,
   "metadata": {},
   "outputs": [
    {
     "data": {
      "text/plain": [
       "(array([ 1.,  0.,  2., 12., 32., 46., 21.,  7.,  2.,  2.]),\n",
       " array([-37.25837394, -30.62644422, -23.9945145 , -17.36258478,\n",
       "        -10.73065506,  -4.09872534,   2.53320438,   9.1651341 ,\n",
       "         15.79706382,  22.42899354,  29.06092326]),\n",
       " <a list of 10 Patch objects>)"
      ]
     },
     "execution_count": 12,
     "metadata": {},
     "output_type": "execute_result"
    },
    {
     "data": {
      "image/png": "[encoded data removed]",
      "text/plain": [
       "<Figure size 432x288 with 1 Axes>"
      ]
     },
     "metadata": {
      "needs_background": "light"
     },
     "output_type": "display_data"
    }
   ],
   "source": [
    "residual = y_test - scaled_predicted\n",
    "plt.hist(residual)"
   ]
  },
  {
   "cell_type": "markdown",
   "metadata": {},
   "source": [
    "### 3 (e) (i)"
   ]
  },
  {
   "cell_type": "code",
   "execution_count": 13,
   "metadata": {},
   "outputs": [],
   "source": [
    "df = df.rename(index=str, columns = {'X1 transaction date':'X1','X2 house age':'X2',\n",
    "       'X3 distance to the nearest MRT station':'X3',\n",
    "       'X4 number of convenience stores':'X4', 'X5 latitude':'X5', 'X6 longitude':'X6'})\n",
    "temp_columns = list(df.columns)\n",
    "temp_columns.remove('Y house price of unit area')"
   ]
  },
  {
   "cell_type": "code",
   "execution_count": 14,
   "metadata": {},
   "outputs": [],
   "source": [
    "kf = KFold(shuffle=True,n_splits=5)\n",
    "kf_valid = KFold(shuffle=True,n_splits=4)"
   ]
  },
  {
   "cell_type": "code",
   "execution_count": 35,
   "metadata": {
    "scrolled": true
   },
   "outputs": [
    {
     "name": "stdout",
     "output_type": "stream",
     "text": [
      "Features chosen are  ('X1',)  and the mean RMSE on validation is  13.556176679734966\n",
      "Features chosen are  ('X2',)  and the mean RMSE on validation is  13.323591069275551\n",
      "Features chosen are  ('X3',)  and the mean RMSE on validation is  9.981267949005652\n",
      "Features chosen are  ('X4',)  and the mean RMSE on validation is  11.060755629315329\n",
      "Features chosen are  ('X5',)  and the mean RMSE on validation is  11.365896180464727\n",
      "Features chosen are  ('X6',)  and the mean RMSE on validation is  11.506928475809834\n",
      "Features chosen are  ('X1', 'X2')  and the mean RMSE on validation is  13.341074810352467\n",
      "Features chosen are  ('X1', 'X3')  and the mean RMSE on validation is  9.857942998286058\n",
      "Features chosen are  ('X1', 'X4')  and the mean RMSE on validation is  11.060567863231444\n",
      "Features chosen are  ('X1', 'X5')  and the mean RMSE on validation is  11.384053931586081\n",
      "Features chosen are  ('X1', 'X6')  and the mean RMSE on validation is  11.464651619527446\n",
      "Features chosen are  ('X2', 'X3')  and the mean RMSE on validation is  9.680818973838488\n",
      "Features chosen are  ('X2', 'X4')  and the mean RMSE on validation is  10.644903872143221\n",
      "Features chosen are  ('X2', 'X5')  and the mean RMSE on validation is  10.95197544787914\n",
      "Features chosen are  ('X2', 'X6')  and the mean RMSE on validation is  11.303553250577792\n",
      "Features chosen are  ('X3', 'X4')  and the mean RMSE on validation is  9.563630387669575\n",
      "Features chosen are  ('X3', 'X5')  and the mean RMSE on validation is  9.700416902909454\n",
      "Features chosen are  ('X3', 'X6')  and the mean RMSE on validation is  9.997077299159441\n",
      "Features chosen are  ('X4', 'X5')  and the mean RMSE on validation is  10.185253274009831\n",
      "Features chosen are  ('X4', 'X6')  and the mean RMSE on validation is  10.283198236147639\n",
      "Features chosen are  ('X5', 'X6')  and the mean RMSE on validation is  10.457038398365636\n",
      "Features chosen are  ('X1', 'X2', 'X3')  and the mean RMSE on validation is  9.545857037846197\n",
      "Features chosen are  ('X1', 'X2', 'X4')  and the mean RMSE on validation is  10.63323696626194\n",
      "Features chosen are  ('X1', 'X2', 'X5')  and the mean RMSE on validation is  10.957879005861923\n",
      "Features chosen are  ('X1', 'X2', 'X6')  and the mean RMSE on validation is  11.256420129018597\n",
      "Features chosen are  ('X1', 'X3', 'X4')  and the mean RMSE on validation is  9.46428243305018\n",
      "Features chosen are  ('X1', 'X3', 'X5')  and the mean RMSE on validation is  9.610830848183397\n",
      "Features chosen are  ('X1', 'X3', 'X6')  and the mean RMSE on validation is  9.87399230306555\n",
      "Features chosen are  ('X1', 'X4', 'X5')  and the mean RMSE on validation is  10.189379075568464\n",
      "Features chosen are  ('X1', 'X4', 'X6')  and the mean RMSE on validation is  10.248520139669955\n",
      "Features chosen are  ('X1', 'X5', 'X6')  and the mean RMSE on validation is  10.435410419882484\n",
      "Features chosen are  ('X2', 'X3', 'X4')  and the mean RMSE on validation is  9.174758238566941\n",
      "Features chosen are  ('X2', 'X3', 'X5')  and the mean RMSE on validation is  9.334104148139694\n",
      "Features chosen are  ('X2', 'X3', 'X6')  and the mean RMSE on validation is  9.687825388406997\n",
      "Features chosen are  ('X2', 'X4', 'X5')  and the mean RMSE on validation is  9.657442060055851\n",
      "Features chosen are  ('X2', 'X4', 'X6')  and the mean RMSE on validation is  9.91667185714682\n",
      "Features chosen are  ('X2', 'X5', 'X6')  and the mean RMSE on validation is  10.107524084378834\n",
      "Features chosen are  ('X3', 'X4', 'X5')  and the mean RMSE on validation is  9.360540655468014\n",
      "Features chosen are  ('X3', 'X4', 'X6')  and the mean RMSE on validation is  9.58202101986018\n",
      "Features chosen are  ('X3', 'X5', 'X6')  and the mean RMSE on validation is  9.717681791927411\n",
      "Features chosen are  ('X4', 'X5', 'X6')  and the mean RMSE on validation is  9.729677199959596\n",
      "Features chosen are  ('X1', 'X2', 'X3', 'X4')  and the mean RMSE on validation is  9.062981569272123\n",
      "Features chosen are  ('X1', 'X2', 'X3', 'X5')  and the mean RMSE on validation is  9.233401852342656\n",
      "Features chosen are  ('X1', 'X2', 'X3', 'X6')  and the mean RMSE on validation is  9.552341724845093\n",
      "Features chosen are  ('X1', 'X2', 'X4', 'X5')  and the mean RMSE on validation is  9.64556351172973\n",
      "Features chosen are  ('X1', 'X2', 'X4', 'X6')  and the mean RMSE on validation is  9.872597509014875\n",
      "Features chosen are  ('X1', 'X2', 'X5', 'X6')  and the mean RMSE on validation is  10.0755261068492\n",
      "Features chosen are  ('X1', 'X3', 'X4', 'X5')  and the mean RMSE on validation is  9.284430151607836\n",
      "Features chosen are  ('X1', 'X3', 'X4', 'X6')  and the mean RMSE on validation is  9.484194357040739\n",
      "Features chosen are  ('X1', 'X3', 'X5', 'X6')  and the mean RMSE on validation is  9.629413503653044\n",
      "Features chosen are  ('X1', 'X4', 'X5', 'X6')  and the mean RMSE on validation is  9.706561375767961\n",
      "Features chosen are  ('X2', 'X3', 'X4', 'X5')  and the mean RMSE on validation is  8.914418982264063\n",
      "Features chosen are  ('X2', 'X3', 'X4', 'X6')  and the mean RMSE on validation is  9.185853761542964\n",
      "Features chosen are  ('X2', 'X3', 'X5', 'X6')  and the mean RMSE on validation is  9.34625033503407\n",
      "Features chosen are  ('X2', 'X4', 'X5', 'X6')  and the mean RMSE on validation is  9.26788512841626\n",
      "Features chosen are  ('X3', 'X4', 'X5', 'X6')  and the mean RMSE on validation is  9.37713236209424\n",
      "The best features are X2-X3-X4-X5 with a mean RMSE on the validation test of  8.954014174394077\n",
      "\n",
      "\n",
      "\n",
      "\n",
      "\n",
      "Features chosen are  ('X1',)  and the mean RMSE on the test set is  13.556923859920309\n",
      "Features chosen are  ('X2',)  and the mean RMSE on the test set is  13.32096957226219\n",
      "Features chosen are  ('X3',)  and the mean RMSE on the test set is  9.959532434571637\n",
      "Features chosen are  ('X4',)  and the mean RMSE on the test set is  11.094396173334271\n",
      "Features chosen are  ('X5',)  and the mean RMSE on the test set is  11.284830349570472\n",
      "Features chosen are  ('X6',)  and the mean RMSE on the test set is  11.449814811944428\n",
      "Features chosen are  ('X1', 'X2')  and the mean RMSE on the test set is  13.296661279346964\n",
      "Features chosen are  ('X1', 'X3')  and the mean RMSE on the test set is  9.876486666166466\n",
      "Features chosen are  ('X1', 'X4')  and the mean RMSE on the test set is  11.069425209863521\n",
      "Features chosen are  ('X1', 'X5')  and the mean RMSE on the test set is  11.283617990594626\n",
      "Features chosen are  ('X1', 'X6')  and the mean RMSE on the test set is  11.399332261075694\n",
      "Features chosen are  ('X2', 'X3')  and the mean RMSE on the test set is  9.697814119863336\n",
      "Features chosen are  ('X2', 'X4')  and the mean RMSE on the test set is  10.695069064560794\n",
      "Features chosen are  ('X2', 'X5')  and the mean RMSE on the test set is  10.879623467285459\n",
      "Features chosen are  ('X2', 'X6')  and the mean RMSE on the test set is  11.243719705454348\n",
      "Features chosen are  ('X3', 'X4')  and the mean RMSE on the test set is  9.552962890895566\n",
      "Features chosen are  ('X3', 'X5')  and the mean RMSE on the test set is  9.616372370967504\n",
      "Features chosen are  ('X3', 'X6')  and the mean RMSE on the test set is  9.978572332348282\n",
      "Features chosen are  ('X4', 'X5')  and the mean RMSE on the test set is  10.12305940680585\n",
      "Features chosen are  ('X4', 'X6')  and the mean RMSE on the test set is  10.28363347373538\n",
      "Features chosen are  ('X5', 'X6')  and the mean RMSE on the test set is  10.307648504819692\n",
      "Features chosen are  ('X1', 'X2', 'X3')  and the mean RMSE on the test set is  9.611955560623821\n",
      "Features chosen are  ('X1', 'X2', 'X4')  and the mean RMSE on the test set is  10.662410345725258\n",
      "Features chosen are  ('X1', 'X2', 'X5')  and the mean RMSE on the test set is  10.872597362467229\n",
      "Features chosen are  ('X1', 'X2', 'X6')  and the mean RMSE on the test set is  11.189546590503644\n",
      "Features chosen are  ('X1', 'X3', 'X4')  and the mean RMSE on the test set is  9.469952877095754\n",
      "Features chosen are  ('X1', 'X3', 'X5')  and the mean RMSE on the test set is  9.567255231032291\n",
      "Features chosen are  ('X1', 'X3', 'X6')  and the mean RMSE on the test set is  9.893357740324735\n",
      "Features chosen are  ('X1', 'X4', 'X5')  and the mean RMSE on the test set is  10.106838738531819\n",
      "Features chosen are  ('X1', 'X4', 'X6')  and the mean RMSE on the test set is  10.231282910962875\n",
      "Features chosen are  ('X1', 'X5', 'X6')  and the mean RMSE on the test set is  10.286384731310852\n",
      "Features chosen are  ('X2', 'X3', 'X4')  and the mean RMSE on the test set is  9.213406801568453\n",
      "Features chosen are  ('X2', 'X3', 'X5')  and the mean RMSE on the test set is  9.282939292733328\n",
      "Features chosen are  ('X2', 'X3', 'X6')  and the mean RMSE on the test set is  9.714117683598369\n",
      "Features chosen are  ('X2', 'X4', 'X5')  and the mean RMSE on the test set is  9.647673171413313\n",
      "Features chosen are  ('X2', 'X4', 'X6')  and the mean RMSE on the test set is  9.961433399107483\n",
      "Features chosen are  ('X2', 'X5', 'X6')  and the mean RMSE on the test set is  9.978552214601702\n",
      "Features chosen are  ('X3', 'X4', 'X5')  and the mean RMSE on the test set is  9.287462884457192\n",
      "Features chosen are  ('X3', 'X4', 'X6')  and the mean RMSE on the test set is  9.569190494160427\n",
      "Features chosen are  ('X3', 'X5', 'X6')  and the mean RMSE on the test set is  9.64057789737418\n",
      "Features chosen are  ('X4', 'X5', 'X6')  and the mean RMSE on the test set is  9.638576551811475\n",
      "Features chosen are  ('X1', 'X2', 'X3', 'X4')  and the mean RMSE on the test set is  9.126078129545405\n",
      "Features chosen are  ('X1', 'X2', 'X3', 'X5')  and the mean RMSE on the test set is  9.234295881825501\n",
      "Features chosen are  ('X1', 'X2', 'X3', 'X6')  and the mean RMSE on the test set is  9.625266034612617\n",
      "Features chosen are  ('X1', 'X2', 'X4', 'X5')  and the mean RMSE on the test set is  9.62432847213068\n",
      "Features chosen are  ('X1', 'X2', 'X4', 'X6')  and the mean RMSE on the test set is  9.904469528007256\n",
      "Features chosen are  ('X1', 'X2', 'X5', 'X6')  and the mean RMSE on the test set is  9.955640829324622\n",
      "Features chosen are  ('X1', 'X3', 'X4', 'X5')  and the mean RMSE on the test set is  9.23243469530519\n",
      "Features chosen are  ('X1', 'X3', 'X4', 'X6')  and the mean RMSE on the test set is  9.485168940410535\n",
      "Features chosen are  ('X1', 'X3', 'X5', 'X6')  and the mean RMSE on the test set is  9.590779808480253\n",
      "Features chosen are  ('X1', 'X4', 'X5', 'X6')  and the mean RMSE on the test set is  9.605746916374189\n",
      "Features chosen are  ('X2', 'X3', 'X4', 'X5')  and the mean RMSE on the test set is  8.883990123713893\n",
      "Features chosen are  ('X2', 'X3', 'X4', 'X6')  and the mean RMSE on the test set is  9.228111433188474\n",
      "Features chosen are  ('X2', 'X3', 'X5', 'X6')  and the mean RMSE on the test set is  9.307945257820325\n",
      "Features chosen are  ('X2', 'X4', 'X5', 'X6')  and the mean RMSE on the test set is  9.234046593670794\n",
      "Features chosen are  ('X3', 'X4', 'X5', 'X6')  and the mean RMSE on the test set is  9.304255197726146\n",
      "\n",
      "\n",
      "\n",
      "\n",
      "\n",
      "The best features chosen from validation is the best with a mean RMSE on the test set of  8.893749069531648\n"
     ]
    }
   ],
   "source": [
    "features = {}\n",
    "for i in range(1,5):\n",
    "    for i in combinations(temp_columns,i):\n",
    "        new_arr =[]\n",
    "        for i_ in range(len(i)):\n",
    "            new_arr.append(i[i_][:2])\n",
    "        if tuple(new_arr) not in features:\n",
    "            features[tuple(new_arr)] = []\n",
    "features_test = {}\n",
    "for i in range(1,5):\n",
    "    for i in combinations(temp_columns,i):\n",
    "        new_arr =[]\n",
    "        for i_ in range(len(i)):\n",
    "            new_arr.append(i[i_][:2])\n",
    "        if tuple(new_arr) not in features_test:\n",
    "            features_test[tuple(new_arr)] = []\n",
    "for train_index, test_index in kf.split(np.array(X)):\n",
    "    val = 0\n",
    "    X_train = df.iloc[train_index]\n",
    "    y_train = y.iloc[train_index]\n",
    "    X_test = df.iloc[test_index]\n",
    "    y_test = y.iloc[test_index]\n",
    "    X_train = X_train.reset_index(drop=True)\n",
    "    X_test = X_test.reset_index(drop = True)\n",
    "    y_train = y_train.reset_index(drop = True)\n",
    "    y_test = y_test.reset_index(drop=True)\n",
    "    for valid_train, valid_test in kf_valid.split(X_train):\n",
    "        x_valid_train = X_train.iloc[valid_train]\n",
    "        y_valid_train = y_train.iloc[valid_train]\n",
    "        x_valid_test = X_train.iloc[valid_test]\n",
    "        y_valid_test = y_train.iloc[valid_test]\n",
    "        for i in range(1,5):\n",
    "            for i in combinations(temp_columns,i):\n",
    "                new_arr = []\n",
    "                for i_ in range(len(i)):\n",
    "                    new_arr.append(i[i_][:2])\n",
    "                linear.fit(x_valid_train[new_arr],y_valid_train)\n",
    "                predicted = linear.predict(x_valid_test[new_arr])\n",
    "                features[tuple(new_arr)].append(np.sqrt(mean_squared_error(predicted,y_valid_test)))\n",
    "    for i in range(1,5):\n",
    "        for i in combinations(temp_columns,i):\n",
    "            new_arr = []\n",
    "            for i_ in range(len(i)):\n",
    "                new_arr.append(i[i_][:2])\n",
    "            linear.fit(X_train[new_arr],y_train)\n",
    "            predicted = linear.predict(X_test[new_arr])\n",
    "            features_test[tuple(new_arr)].append(np.sqrt(mean_squared_error(predicted,y_test)))\n",
    "\n",
    "            \n",
    "\n",
    "    \n",
    "    \n",
    "for i in features:\n",
    "    print('Features chosen are ',i,' and the mean RMSE on validation is ' ,np.array(features[i]).mean())\n",
    "print('The best features are X2-X3-X4-X5 with a mean RMSE on the validation test of ',8.954014174394077)\n",
    "print('\\n\\n\\n\\n')\n",
    "for i in features_test:\n",
    "    print('Features chosen are ',i,' and the mean RMSE on the test set is ',np.array(features_test[i]).mean())\n",
    "print('\\n\\n\\n\\n')\n",
    "print('The best features chosen from validation is the best with a mean RMSE on the test set of ',8.893749069531648)"
   ]
  },
  {
   "cell_type": "markdown",
   "metadata": {},
   "source": [
    "### 3 (e) (ii)"
   ]
  },
  {
   "cell_type": "code",
   "execution_count": 42,
   "metadata": {},
   "outputs": [
    {
     "data": {
      "text/plain": [
       "set"
      ]
     },
     "execution_count": 42,
     "metadata": {},
     "output_type": "execute_result"
    }
   ],
   "source": [
    "feature_set= {0}\n",
    "type(feature_set)"
   ]
  },
  {
   "cell_type": "code",
   "execution_count": 75,
   "metadata": {},
   "outputs": [],
   "source": [
    "feature_total = {}\n",
    "for train_index, test_index in kf.split(np.array(X)):\n",
    "    val = 0\n",
    "    X_train = df.iloc[train_index]\n",
    "    y_train = y.iloc[train_index]\n",
    "    X_test = df.iloc[test_index]\n",
    "    y_test = y.iloc[test_index]\n",
    "    feature_set = set()\n",
    "    min_so_far = np.inf\n",
    "    for i in range(6):\n",
    "        temp = min_so_far\n",
    "        for i in combinations(temp_columns,1):\n",
    "            new_arr = list(feature_set)\n",
    "            for i_ in range(len(i)):\n",
    "                new_arr.append(i[i_][:2])\n",
    "            linear.fit(X_train[new_arr],y_train)\n",
    "            predicted = linear.predict(X_test[new_arr])\n",
    "            if np.sqrt(mean_squared_error(predicted,y_test))<min_so_far:\n",
    "                min_so_far = np.sqrt(mean_squared_error(predicted,y_test))\n",
    "                feature_set = set(new_arr)\n",
    "    feature_total[tuple(list(feature_set))]  = 1"
   ]
  },
  {
   "cell_type": "code",
   "execution_count": 76,
   "metadata": {},
   "outputs": [
    {
     "data": {
      "text/plain": [
       "{('X5', 'X6', 'X3', 'X1', 'X2'): 1,\n",
       " ('X5', 'X3', 'X1', 'X4', 'X2'): 1,\n",
       " ('X6', 'X3', 'X1', 'X4', 'X2'): 1,\n",
       " ('X1', 'X4', 'X2', 'X3'): 1}"
      ]
     },
     "execution_count": 76,
     "metadata": {},
     "output_type": "execute_result"
    }
   ],
   "source": [
    "for i in feature_total:\n",
    "    new_arr = [j for j in i]"
   ]
  },
  {
   "cell_type": "code",
   "execution_count": 80,
   "metadata": {},
   "outputs": [],
   "source": [
    "X = df[['X1','X2','X3','X4','X5','X6']]\n",
    "y = df['Y house price of unit area']\n",
    "X_train, X_test, y_train, y_test = train_test_split(X,y,test_size = 0.3,random_state=42)"
   ]
  },
  {
   "cell_type": "code",
   "execution_count": 84,
   "metadata": {},
   "outputs": [
    {
     "name": "stdout",
     "output_type": "stream",
     "text": [
      "The subset of features ['X5', 'X6', 'X3', 'X1', 'X2']  has a RMSE score of  9.04992474174248\n",
      "The subset of features ['X5', 'X3', 'X1', 'X4', 'X2']  has a RMSE score of  8.526459552115744\n",
      "The subset of features ['X6', 'X3', 'X1', 'X4', 'X2']  has a RMSE score of  8.697594578851554\n",
      "The subset of features ['X1', 'X4', 'X2', 'X3']  has a RMSE score of  8.641848321401792\n",
      "The RMSE with all the features is 8.57703316536859\n"
     ]
    }
   ],
   "source": [
    "for i in feature_total:\n",
    "    new_arr = [k for k in i]\n",
    "    x_tr = X_train[new_arr]\n",
    "    y_tr = y_train\n",
    "    linear.fit(x_tr,y_tr)\n",
    "    predicted = linear.predict(X_test[new_arr])\n",
    "    print('The subset of features',new_arr,' has a RMSE score of ',np.sqrt(mean_squared_error(predicted,y_test)))\n",
    "linear.fit(X_train,y_train)\n",
    "predicted = linear.predict(X_test)\n",
    "print('The RMSE with all the features is', np.sqrt(mean_squared_error(predicted,y_test)))"
   ]
  },
  {
   "cell_type": "markdown",
   "metadata": {},
   "source": [
    "As we can see, the subset consisting of X1, X2, X3, X4 and X5 has the best performance"
   ]
  }
 ],
 "metadata": {
  "kernelspec": {
   "display_name": "Python 3",
   "language": "python",
   "name": "python3"
  },
  "language_info": {
   "codemirror_mode": {
    "name": "ipython",
    "version": 3
   },
   "file_extension": ".py",
   "mimetype": "text/x-python",
   "name": "python",
   "nbconvert_exporter": "python",
   "pygments_lexer": "ipython3",
   "version": "3.6.8"
  }
 },
 "nbformat": 4,
 "nbformat_minor": 2
}
