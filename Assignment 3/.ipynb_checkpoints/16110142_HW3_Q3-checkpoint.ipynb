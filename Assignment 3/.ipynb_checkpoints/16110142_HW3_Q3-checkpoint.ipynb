{
 "cells": [
  {
   "cell_type": "markdown",
   "metadata": {},
   "source": [
    "### 3 (a) "
   ]
  },
  {
   "cell_type": "code",
   "execution_count": 1,
   "metadata": {},
   "outputs": [],
   "source": [
    "import pandas as pd\n",
    "import numpy as np\n",
    "import matplotlib.pyplot as plt\n",
    "from sklearn.linear_model import LinearRegression\n",
    "from sklearn.model_selection import train_test_split\n",
    "from sklearn.metrics import mean_squared_error\n",
    "from sklearn import preprocessing\n",
    "from sklearn.model_selection import KFold\n",
    "from itertools import combinations"
   ]
  },
  {
   "cell_type": "code",
   "execution_count": 2,
   "metadata": {},
   "outputs": [
    {
     "data": {
      "text/html": [
       "<div>\n",
       "<style scoped>\n",
       "    .dataframe tbody tr th:only-of-type {\n",
       "        vertical-align: middle;\n",
       "    }\n",
       "\n",
       "    .dataframe tbody tr th {\n",
       "        vertical-align: top;\n",
       "    }\n",
       "\n",
       "    .dataframe thead th {\n",
       "        text-align: right;\n",
       "    }\n",
       "</style>\n",
       "<table border=\"1\" class=\"dataframe\">\n",
       "  <thead>\n",
       "    <tr style=\"text-align: right;\">\n",
       "      <th></th>\n",
       "      <th>No</th>\n",
       "      <th>X1 transaction date</th>\n",
       "      <th>X2 house age</th>\n",
       "      <th>X3 distance to the nearest MRT station</th>\n",
       "      <th>X4 number of convenience stores</th>\n",
       "      <th>X5 latitude</th>\n",
       "      <th>X6 longitude</th>\n",
       "      <th>Y house price of unit area</th>\n",
       "    </tr>\n",
       "  </thead>\n",
       "  <tbody>\n",
       "    <tr>\n",
       "      <th>0</th>\n",
       "      <td>1</td>\n",
       "      <td>2012.916667</td>\n",
       "      <td>32.0</td>\n",
       "      <td>84.87882</td>\n",
       "      <td>10</td>\n",
       "      <td>24.98298</td>\n",
       "      <td>121.54024</td>\n",
       "      <td>37.9</td>\n",
       "    </tr>\n",
       "    <tr>\n",
       "      <th>1</th>\n",
       "      <td>2</td>\n",
       "      <td>2012.916667</td>\n",
       "      <td>19.5</td>\n",
       "      <td>306.59470</td>\n",
       "      <td>9</td>\n",
       "      <td>24.98034</td>\n",
       "      <td>121.53951</td>\n",
       "      <td>42.2</td>\n",
       "    </tr>\n",
       "    <tr>\n",
       "      <th>2</th>\n",
       "      <td>3</td>\n",
       "      <td>2013.583333</td>\n",
       "      <td>13.3</td>\n",
       "      <td>561.98450</td>\n",
       "      <td>5</td>\n",
       "      <td>24.98746</td>\n",
       "      <td>121.54391</td>\n",
       "      <td>47.3</td>\n",
       "    </tr>\n",
       "    <tr>\n",
       "      <th>3</th>\n",
       "      <td>4</td>\n",
       "      <td>2013.500000</td>\n",
       "      <td>13.3</td>\n",
       "      <td>561.98450</td>\n",
       "      <td>5</td>\n",
       "      <td>24.98746</td>\n",
       "      <td>121.54391</td>\n",
       "      <td>54.8</td>\n",
       "    </tr>\n",
       "    <tr>\n",
       "      <th>4</th>\n",
       "      <td>5</td>\n",
       "      <td>2012.833333</td>\n",
       "      <td>5.0</td>\n",
       "      <td>390.56840</td>\n",
       "      <td>5</td>\n",
       "      <td>24.97937</td>\n",
       "      <td>121.54245</td>\n",
       "      <td>43.1</td>\n",
       "    </tr>\n",
       "  </tbody>\n",
       "</table>\n",
       "</div>"
      ],
      "text/plain": [
       "   No  X1 transaction date  X2 house age  \\\n",
       "0   1          2012.916667          32.0   \n",
       "1   2          2012.916667          19.5   \n",
       "2   3          2013.583333          13.3   \n",
       "3   4          2013.500000          13.3   \n",
       "4   5          2012.833333           5.0   \n",
       "\n",
       "   X3 distance to the nearest MRT station  X4 number of convenience stores  \\\n",
       "0                                84.87882                               10   \n",
       "1                               306.59470                                9   \n",
       "2                               561.98450                                5   \n",
       "3                               561.98450                                5   \n",
       "4                               390.56840                                5   \n",
       "\n",
       "   X5 latitude  X6 longitude  Y house price of unit area  \n",
       "0     24.98298     121.54024                        37.9  \n",
       "1     24.98034     121.53951                        42.2  \n",
       "2     24.98746     121.54391                        47.3  \n",
       "3     24.98746     121.54391                        54.8  \n",
       "4     24.97937     121.54245                        43.1  "
      ]
     },
     "execution_count": 2,
     "metadata": {},
     "output_type": "execute_result"
    }
   ],
   "source": [
    "df = pd.read_excel('realestate.xlsx')\n",
    "df.head()"
   ]
  },
  {
   "cell_type": "code",
   "execution_count": 3,
   "metadata": {},
   "outputs": [
    {
     "data": {
      "text/plain": [
       "Index(['No', 'X1 transaction date', 'X2 house age',\n",
       "       'X3 distance to the nearest MRT station',\n",
       "       'X4 number of convenience stores', 'X5 latitude', 'X6 longitude',\n",
       "       'Y house price of unit area'],\n",
       "      dtype='object')"
      ]
     },
     "execution_count": 3,
     "metadata": {},
     "output_type": "execute_result"
    }
   ],
   "source": [
    "df.columns"
   ]
  },
  {
   "cell_type": "code",
   "execution_count": 4,
   "metadata": {},
   "outputs": [],
   "source": [
    "linear = LinearRegression()\n",
    "col = list(df.columns)\n",
    "col.remove('No')\n",
    "df = df[col]\n",
    "col.remove('Y house price of unit area')"
   ]
  },
  {
   "cell_type": "code",
   "execution_count": 5,
   "metadata": {},
   "outputs": [],
   "source": [
    "X = df[col]\n",
    "y = df['Y house price of unit area']"
   ]
  },
  {
   "cell_type": "code",
   "execution_count": 6,
   "metadata": {},
   "outputs": [],
   "source": [
    "x_train, x_test, y_train, y_test = train_test_split(X,y,test_size = 0.3, random_state = 42)"
   ]
  },
  {
   "cell_type": "code",
   "execution_count": 7,
   "metadata": {},
   "outputs": [
    {
     "data": {
      "text/plain": [
       "LinearRegression(copy_X=True, fit_intercept=True, n_jobs=1, normalize=False)"
      ]
     },
     "execution_count": 7,
     "metadata": {},
     "output_type": "execute_result"
    }
   ],
   "source": [
    "linear.fit(x_train,y_train)"
   ]
  },
  {
   "cell_type": "code",
   "execution_count": 8,
   "metadata": {},
   "outputs": [
    {
     "name": "stdout",
     "output_type": "stream",
     "text": [
      "The RMS Error is 8.57703316536859\n"
     ]
    }
   ],
   "source": [
    "predicted = linear.predict(x_test)\n",
    "print('The RMS Error is',np.sqrt(mean_squared_error(predicted,y_test)))"
   ]
  },
  {
   "cell_type": "code",
   "execution_count": 9,
   "metadata": {},
   "outputs": [
    {
     "data": {
      "text/plain": [
       "array([ 5.85014746e+00, -2.42551464e-01, -5.13870668e-03,  1.07453372e+00,\n",
       "        2.39100477e+02, -5.22365968e+01])"
      ]
     },
     "execution_count": 9,
     "metadata": {},
     "output_type": "execute_result"
    }
   ],
   "source": [
    "linear.coef_"
   ]
  },
  {
   "cell_type": "markdown",
   "metadata": {},
   "source": [
    "### 3 (b)"
   ]
  },
  {
   "cell_type": "markdown",
   "metadata": {},
   "source": [
    "No. It is not correct to infer about the important of different features. This is because all the feature values have varying ranges, and hence the coefficients are chosen to overall normalise the effect of different range of values that different features take."
   ]
  },
  {
   "cell_type": "markdown",
   "metadata": {},
   "source": [
    "### 3 (c)"
   ]
  },
  {
   "cell_type": "code",
   "execution_count": 10,
   "metadata": {},
   "outputs": [
    {
     "name": "stdout",
     "output_type": "stream",
     "text": [
      "The RMSE is 8.712564884272549\n"
     ]
    }
   ],
   "source": [
    "linear_scaled = LinearRegression()\n",
    "x_train_scaled = preprocessing.scale(x_train)\n",
    "x_test_scaled = preprocessing.scale(x_test)\n",
    "linear_scaled.fit(x_train_scaled,y_train)\n",
    "scaled_predicted = linear_scaled.predict(x_test_scaled)\n",
    "print('The RMSE is',np.sqrt(mean_squared_error(scaled_predicted,y_test)))"
   ]
  },
  {
   "cell_type": "code",
   "execution_count": 11,
   "metadata": {},
   "outputs": [
    {
     "data": {
      "text/plain": [
       "array([ 1.65204522, -2.76099926, -6.40440182,  3.20557991,  2.989337  ,\n",
       "       -0.78774024])"
      ]
     },
     "execution_count": 11,
     "metadata": {},
     "output_type": "execute_result"
    }
   ],
   "source": [
    "linear_scaled.coef_"
   ]
  },
  {
   "cell_type": "markdown",
   "metadata": {},
   "source": [
    "This above model that was fit, after the scaling shows us an entirely different picture. This is not a correct way to infer either, because of the simple fact that the coefficient doens't really capture any statistically important measure like variance or mean. The answer [here](https://stats.stackexchange.com/questions/202221/for-linear-classifiers-do-larger-coefficients-imply-more-important-features/202846) explains the same."
   ]
  },
  {
   "cell_type": "markdown",
   "metadata": {},
   "source": [
    "### 3 (d)"
   ]
  },
  {
   "cell_type": "code",
   "execution_count": 12,
   "metadata": {
    "scrolled": true
   },
   "outputs": [
    {
     "data": {
      "text/plain": [
       "(array([ 1.,  0.,  2., 12., 32., 46., 21.,  7.,  2.,  2.]),\n",
       " array([-37.25837394, -30.62644422, -23.9945145 , -17.36258478,\n",
       "        -10.73065506,  -4.09872534,   2.53320438,   9.1651341 ,\n",
       "         15.79706382,  22.42899354,  29.06092326]),\n",
       " <a list of 10 Patch objects>)"
      ]
     },
     "execution_count": 12,
     "metadata": {},
     "output_type": "execute_result"
    },
    {
     "data": {
      "image/png": "[encoded data removed]",
      "text/plain": [
       "<Figure size 432x288 with 1 Axes>"
      ]
     },
     "metadata": {
      "needs_background": "light"
     },
     "output_type": "display_data"
    }
   ],
   "source": [
    "residual = y_test - scaled_predicted\n",
    "plt.hist(residual)"
   ]
  },
  {
   "cell_type": "markdown",
   "metadata": {},
   "source": [
    "As can be seen, the residuals actually form a normal distribution. This simply means that we have an unbiased predictor at hand, which is also the best as it reduces the variance the most."
   ]
  },
  {
   "cell_type": "markdown",
   "metadata": {},
   "source": [
    "### 3 (e) (i)"
   ]
  },
  {
   "cell_type": "code",
   "execution_count": 13,
   "metadata": {},
   "outputs": [],
   "source": [
    "df = df.rename(index=str, columns = {'X1 transaction date':'X1','X2 house age':'X2',\n",
    "       'X3 distance to the nearest MRT station':'X3',\n",
    "       'X4 number of convenience stores':'X4', 'X5 latitude':'X5', 'X6 longitude':'X6'})\n",
    "temp_columns = list(df.columns)\n",
    "temp_columns.remove('Y house price of unit area')"
   ]
  },
  {
   "cell_type": "code",
   "execution_count": 14,
   "metadata": {},
   "outputs": [],
   "source": [
    "kf = KFold(shuffle=True,n_splits=5)\n",
    "kf_valid = KFold(shuffle=True,n_splits=4)"
   ]
  },
  {
   "cell_type": "code",
   "execution_count": 15,
   "metadata": {
    "scrolled": true
   },
   "outputs": [
    {
     "name": "stdout",
     "output_type": "stream",
     "text": [
      "Features chosen are  ('X1',)  and the mean RMSE on validation is  13.553180533025406\n",
      "Features chosen are  ('X2',)  and the mean RMSE on validation is  13.332293113355018\n",
      "Features chosen are  ('X3',)  and the mean RMSE on validation is  9.923037450183578\n",
      "Features chosen are  ('X4',)  and the mean RMSE on validation is  11.073385729147702\n",
      "Features chosen are  ('X5',)  and the mean RMSE on validation is  11.37540620711045\n",
      "Features chosen are  ('X6',)  and the mean RMSE on validation is  11.486046517429312\n",
      "Features chosen are  ('X1', 'X2')  and the mean RMSE on validation is  13.320753131586297\n",
      "Features chosen are  ('X1', 'X3')  and the mean RMSE on validation is  9.79334565633744\n",
      "Features chosen are  ('X1', 'X4')  and the mean RMSE on validation is  11.041556791779238\n",
      "Features chosen are  ('X1', 'X5')  and the mean RMSE on validation is  11.361058967454007\n",
      "Features chosen are  ('X1', 'X6')  and the mean RMSE on validation is  11.41884079635604\n",
      "Features chosen are  ('X2', 'X3')  and the mean RMSE on validation is  9.632900558434915\n",
      "Features chosen are  ('X2', 'X4')  and the mean RMSE on validation is  10.646382766523057\n",
      "Features chosen are  ('X2', 'X5')  and the mean RMSE on validation is  10.960564948506818\n",
      "Features chosen are  ('X2', 'X6')  and the mean RMSE on validation is  11.27587100072255\n",
      "Features chosen are  ('X3', 'X4')  and the mean RMSE on validation is  9.506014807569509\n",
      "Features chosen are  ('X3', 'X5')  and the mean RMSE on validation is  9.687235279820916\n",
      "Features chosen are  ('X3', 'X6')  and the mean RMSE on validation is  9.948477080578737\n",
      "Features chosen are  ('X4', 'X5')  and the mean RMSE on validation is  10.195293804610028\n",
      "Features chosen are  ('X4', 'X6')  and the mean RMSE on validation is  10.276284469792914\n",
      "Features chosen are  ('X5', 'X6')  and the mean RMSE on validation is  10.431612752553127\n",
      "Features chosen are  ('X1', 'X2', 'X3')  and the mean RMSE on validation is  9.490586564679043\n",
      "Features chosen are  ('X1', 'X2', 'X4')  and the mean RMSE on validation is  10.603318543989737\n",
      "Features chosen are  ('X1', 'X2', 'X5')  and the mean RMSE on validation is  10.936025635972987\n",
      "Features chosen are  ('X1', 'X2', 'X6')  and the mean RMSE on validation is  11.202637106548599\n",
      "Features chosen are  ('X1', 'X3', 'X4')  and the mean RMSE on validation is  9.397089617408389\n",
      "Features chosen are  ('X1', 'X3', 'X5')  and the mean RMSE on validation is  9.593118219141585\n",
      "Features chosen are  ('X1', 'X3', 'X6')  and the mean RMSE on validation is  9.813706410204643\n",
      "Features chosen are  ('X1', 'X4', 'X5')  and the mean RMSE on validation is  10.166743407731254\n",
      "Features chosen are  ('X1', 'X4', 'X6')  and the mean RMSE on validation is  10.215350719488967\n",
      "Features chosen are  ('X1', 'X5', 'X6')  and the mean RMSE on validation is  10.385775612010713\n",
      "Features chosen are  ('X2', 'X3', 'X4')  and the mean RMSE on validation is  9.116461796649617\n",
      "Features chosen are  ('X2', 'X3', 'X5')  and the mean RMSE on validation is  9.319819981601416\n",
      "Features chosen are  ('X2', 'X3', 'X6')  and the mean RMSE on validation is  9.650906466755222\n",
      "Features chosen are  ('X2', 'X4', 'X5')  and the mean RMSE on validation is  9.6527707821944\n",
      "Features chosen are  ('X2', 'X4', 'X6')  and the mean RMSE on validation is  9.900978605188145\n",
      "Features chosen are  ('X2', 'X5', 'X6')  and the mean RMSE on validation is  10.076569735195317\n",
      "Features chosen are  ('X3', 'X4', 'X5')  and the mean RMSE on validation is  9.343167256675674\n",
      "Features chosen are  ('X3', 'X4', 'X6')  and the mean RMSE on validation is  9.53679081260666\n",
      "Features chosen are  ('X3', 'X5', 'X6')  and the mean RMSE on validation is  9.717398841323295\n",
      "Features chosen are  ('X4', 'X5', 'X6')  and the mean RMSE on validation is  9.733091391978176\n",
      "Features chosen are  ('X1', 'X2', 'X3', 'X4')  and the mean RMSE on validation is  8.99638898627514\n",
      "Features chosen are  ('X1', 'X2', 'X3', 'X5')  and the mean RMSE on validation is  9.215912839520477\n",
      "Features chosen are  ('X1', 'X2', 'X3', 'X6')  and the mean RMSE on validation is  9.503050486975704\n",
      "Features chosen are  ('X1', 'X2', 'X4', 'X5')  and the mean RMSE on validation is  9.612215866272155\n",
      "Features chosen are  ('X1', 'X2', 'X4', 'X6')  and the mean RMSE on validation is  9.831219826690663\n",
      "Features chosen are  ('X1', 'X2', 'X5', 'X6')  and the mean RMSE on validation is  10.023957251803342\n",
      "Features chosen are  ('X1', 'X3', 'X4', 'X5')  and the mean RMSE on validation is  9.258977551687106\n",
      "Features chosen are  ('X1', 'X3', 'X4', 'X6')  and the mean RMSE on validation is  9.423154113296146\n",
      "Features chosen are  ('X1', 'X3', 'X5', 'X6')  and the mean RMSE on validation is  9.62146208937365\n",
      "Features chosen are  ('X1', 'X4', 'X5', 'X6')  and the mean RMSE on validation is  9.68466222895673\n",
      "Features chosen are  ('X2', 'X3', 'X4', 'X5')  and the mean RMSE on validation is  8.883578751301638\n",
      "Features chosen are  ('X2', 'X3', 'X4', 'X6')  and the mean RMSE on validation is  9.141315759025241\n",
      "Features chosen are  ('X2', 'X3', 'X5', 'X6')  and the mean RMSE on validation is  9.348345856554207\n",
      "Features chosen are  ('X2', 'X4', 'X5', 'X6')  and the mean RMSE on validation is  9.254895100402624\n",
      "Features chosen are  ('X3', 'X4', 'X5', 'X6')  and the mean RMSE on validation is  9.371787292208973\n",
      "The best features are X2-X3-X4-X5 with a mean RMSE on the validation test of  8.954014174394077\n",
      "\n",
      "\n",
      "\n",
      "\n",
      "\n",
      "Features chosen are  ('X1',)  and the mean RMSE on the test set is  13.516574304375448\n",
      "Features chosen are  ('X2',)  and the mean RMSE on the test set is  13.313223191617865\n",
      "Features chosen are  ('X3',)  and the mean RMSE on the test set is  10.043117723188628\n",
      "Features chosen are  ('X4',)  and the mean RMSE on the test set is  11.117070555698477\n",
      "Features chosen are  ('X5',)  and the mean RMSE on the test set is  11.405232511616822\n",
      "Features chosen are  ('X6',)  and the mean RMSE on the test set is  11.572499363612156\n",
      "Features chosen are  ('X1', 'X2')  and the mean RMSE on the test set is  13.275975924906874\n",
      "Features chosen are  ('X1', 'X3')  and the mean RMSE on the test set is  9.891881842652747\n",
      "Features chosen are  ('X1', 'X4')  and the mean RMSE on the test set is  11.083697804249574\n",
      "Features chosen are  ('X1', 'X5')  and the mean RMSE on the test set is  11.388064819749427\n",
      "Features chosen are  ('X1', 'X6')  and the mean RMSE on the test set is  11.493954086678215\n",
      "Features chosen are  ('X2', 'X3')  and the mean RMSE on the test set is  9.781419941413137\n",
      "Features chosen are  ('X2', 'X4')  and the mean RMSE on the test set is  10.694898448584913\n",
      "Features chosen are  ('X2', 'X5')  and the mean RMSE on the test set is  10.947584094468805\n",
      "Features chosen are  ('X2', 'X6')  and the mean RMSE on the test set is  11.354130176662725\n",
      "Features chosen are  ('X3', 'X4')  and the mean RMSE on the test set is  9.629917765683626\n",
      "Features chosen are  ('X3', 'X5')  and the mean RMSE on the test set is  9.755287840378228\n",
      "Features chosen are  ('X3', 'X6')  and the mean RMSE on the test set is  10.042820769758286\n",
      "Features chosen are  ('X4', 'X5')  and the mean RMSE on the test set is  10.256363562593277\n",
      "Features chosen are  ('X4', 'X6')  and the mean RMSE on the test set is  10.35812754623077\n",
      "Features chosen are  ('X5', 'X6')  and the mean RMSE on the test set is  10.552576919127835\n",
      "Features chosen are  ('X1', 'X2', 'X3')  and the mean RMSE on the test set is  9.63469394208498\n",
      "Features chosen are  ('X1', 'X2', 'X4')  and the mean RMSE on the test set is  10.660620650454625\n",
      "Features chosen are  ('X1', 'X2', 'X5')  and the mean RMSE on the test set is  10.93354674535669\n",
      "Features chosen are  ('X1', 'X2', 'X6')  and the mean RMSE on the test set is  11.276621673005328\n",
      "Features chosen are  ('X1', 'X3', 'X4')  and the mean RMSE on the test set is  9.508916294663166\n",
      "Features chosen are  ('X1', 'X3', 'X5')  and the mean RMSE on the test set is  9.631517391380262\n",
      "Features chosen are  ('X1', 'X3', 'X6')  and the mean RMSE on the test set is  9.887613438363555\n",
      "Features chosen are  ('X1', 'X4', 'X5')  and the mean RMSE on the test set is  10.237090924566338\n",
      "Features chosen are  ('X1', 'X4', 'X6')  and the mean RMSE on the test set is  10.298638822326822\n",
      "Features chosen are  ('X1', 'X5', 'X6')  and the mean RMSE on the test set is  10.495897013682427\n",
      "Features chosen are  ('X2', 'X3', 'X4')  and the mean RMSE on the test set is  9.266769172457892\n",
      "Features chosen are  ('X2', 'X3', 'X5')  and the mean RMSE on the test set is  9.386592297996032\n",
      "Features chosen are  ('X2', 'X3', 'X6')  and the mean RMSE on the test set is  9.78434216653098\n",
      "Features chosen are  ('X2', 'X4', 'X5')  and the mean RMSE on the test set is  9.704693955766517\n",
      "Features chosen are  ('X2', 'X4', 'X6')  and the mean RMSE on the test set is  9.988059057280962\n",
      "Features chosen are  ('X2', 'X5', 'X6')  and the mean RMSE on the test set is  10.16115622372729\n",
      "Features chosen are  ('X3', 'X4', 'X5')  and the mean RMSE on the test set is  9.41733285514176\n",
      "Features chosen are  ('X3', 'X4', 'X6')  and the mean RMSE on the test set is  9.633658832969573\n",
      "Features chosen are  ('X3', 'X5', 'X6')  and the mean RMSE on the test set is  9.76462993162641\n",
      "Features chosen are  ('X4', 'X5', 'X6')  and the mean RMSE on the test set is  9.815317265162149\n",
      "Features chosen are  ('X1', 'X2', 'X3', 'X4')  and the mean RMSE on the test set is  9.149961081729913\n",
      "Features chosen are  ('X1', 'X2', 'X3', 'X5')  and the mean RMSE on the test set is  9.269481480151981\n",
      "Features chosen are  ('X1', 'X2', 'X3', 'X6')  and the mean RMSE on the test set is  9.633520784534273\n",
      "Features chosen are  ('X1', 'X2', 'X4', 'X5')  and the mean RMSE on the test set is  9.686350782372502\n",
      "Features chosen are  ('X1', 'X2', 'X4', 'X6')  and the mean RMSE on the test set is  9.925607969024037\n",
      "Features chosen are  ('X1', 'X2', 'X5', 'X6')  and the mean RMSE on the test set is  10.105261889256345\n",
      "Features chosen are  ('X1', 'X3', 'X4', 'X5')  and the mean RMSE on the test set is  9.312136572381883\n",
      "Features chosen are  ('X1', 'X3', 'X4', 'X6')  and the mean RMSE on the test set is  9.509043448940039\n",
      "Features chosen are  ('X1', 'X3', 'X5', 'X6')  and the mean RMSE on the test set is  9.638201210820434\n",
      "Features chosen are  ('X1', 'X4', 'X5', 'X6')  and the mean RMSE on the test set is  9.767002457000672\n",
      "Features chosen are  ('X2', 'X3', 'X4', 'X5')  and the mean RMSE on the test set is  8.964430810560208\n",
      "Features chosen are  ('X2', 'X3', 'X4', 'X6')  and the mean RMSE on the test set is  9.276464565004868\n",
      "Features chosen are  ('X2', 'X3', 'X5', 'X6')  and the mean RMSE on the test set is  9.40125603233798\n",
      "Features chosen are  ('X2', 'X4', 'X5', 'X6')  and the mean RMSE on the test set is  9.323931233026027\n",
      "Features chosen are  ('X3', 'X4', 'X5', 'X6')  and the mean RMSE on the test set is  9.423419014339864\n",
      "\n",
      "\n",
      "\n",
      "\n",
      "\n",
      "The best features chosen from validation is the best with a mean RMSE on the test set of  8.893749069531648\n"
     ]
    }
   ],
   "source": [
    "features = {}\n",
    "for i in range(1,5):\n",
    "    for i in combinations(temp_columns,i):\n",
    "        new_arr =[]\n",
    "        for i_ in range(len(i)):\n",
    "            new_arr.append(i[i_][:2])\n",
    "        if tuple(new_arr) not in features:\n",
    "            features[tuple(new_arr)] = []\n",
    "features_test = {}\n",
    "for i in range(1,5):\n",
    "    for i in combinations(temp_columns,i):\n",
    "        new_arr =[]\n",
    "        for i_ in range(len(i)):\n",
    "            new_arr.append(i[i_][:2])\n",
    "        if tuple(new_arr) not in features_test:\n",
    "            features_test[tuple(new_arr)] = []\n",
    "for train_index, test_index in kf.split(np.array(X)):\n",
    "    val = 0\n",
    "    X_train = df.iloc[train_index]\n",
    "    y_train = y.iloc[train_index]\n",
    "    X_test = df.iloc[test_index]\n",
    "    y_test = y.iloc[test_index]\n",
    "    X_train = X_train.reset_index(drop=True)\n",
    "    X_test = X_test.reset_index(drop = True)\n",
    "    y_train = y_train.reset_index(drop = True)\n",
    "    y_test = y_test.reset_index(drop=True)\n",
    "    for valid_train, valid_test in kf_valid.split(X_train):\n",
    "        x_valid_train = X_train.iloc[valid_train]\n",
    "        y_valid_train = y_train.iloc[valid_train]\n",
    "        x_valid_test = X_train.iloc[valid_test]\n",
    "        y_valid_test = y_train.iloc[valid_test]\n",
    "        for i in range(1,5):\n",
    "            for i in combinations(temp_columns,i):\n",
    "                new_arr = []\n",
    "                for i_ in range(len(i)):\n",
    "                    new_arr.append(i[i_][:2])\n",
    "                linear.fit(x_valid_train[new_arr],y_valid_train)\n",
    "                predicted = linear.predict(x_valid_test[new_arr])\n",
    "                features[tuple(new_arr)].append(np.sqrt(mean_squared_error(predicted,y_valid_test)))\n",
    "    for i in range(1,5):\n",
    "        for i in combinations(temp_columns,i):\n",
    "            new_arr = []\n",
    "            for i_ in range(len(i)):\n",
    "                new_arr.append(i[i_][:2])\n",
    "            linear.fit(X_train[new_arr],y_train)\n",
    "            predicted = linear.predict(X_test[new_arr])\n",
    "            features_test[tuple(new_arr)].append(np.sqrt(mean_squared_error(predicted,y_test)))\n",
    "\n",
    "for i in features:\n",
    "    print('Features chosen are ',i,' and the mean RMSE on validation is ' ,np.array(features[i]).mean())\n",
    "print('The best features are X2-X3-X4-X5 with a mean RMSE on the validation test of ',8.954014174394077)\n",
    "print('\\n\\n\\n\\n')\n",
    "for i in features_test:\n",
    "    print('Features chosen are ',i,' and the mean RMSE on the test set is ',np.array(features_test[i]).mean())\n",
    "print('\\n\\n\\n\\n')\n",
    "print('The best features chosen from validation is the best with a mean RMSE on the test set of ',8.893749069531648)"
   ]
  },
  {
   "cell_type": "markdown",
   "metadata": {},
   "source": [
    "### 3 (e) (ii)"
   ]
  },
  {
   "cell_type": "code",
   "execution_count": 16,
   "metadata": {},
   "outputs": [
    {
     "data": {
      "text/plain": [
       "set"
      ]
     },
     "execution_count": 16,
     "metadata": {},
     "output_type": "execute_result"
    }
   ],
   "source": [
    "feature_set= {0}\n",
    "type(feature_set)"
   ]
  },
  {
   "cell_type": "code",
   "execution_count": 17,
   "metadata": {},
   "outputs": [],
   "source": [
    "feature_total = {}\n",
    "for train_index, test_index in kf.split(np.array(X)):\n",
    "    val = 0\n",
    "    X_train = df.iloc[train_index]\n",
    "    y_train = y.iloc[train_index]\n",
    "    X_test = df.iloc[test_index]\n",
    "    y_test = y.iloc[test_index]\n",
    "    feature_set = set()\n",
    "    min_so_far = np.inf\n",
    "    for i in range(6):\n",
    "        temp = min_so_far\n",
    "        for i in combinations(temp_columns,1):\n",
    "            new_arr = list(feature_set)\n",
    "            for i_ in range(len(i)):\n",
    "                new_arr.append(i[i_][:2])\n",
    "            linear.fit(X_train[new_arr],y_train)\n",
    "            predicted = linear.predict(X_test[new_arr])\n",
    "            if np.sqrt(mean_squared_error(predicted,y_test))<min_so_far:\n",
    "                min_so_far = np.sqrt(mean_squared_error(predicted,y_test))\n",
    "                feature_set = set(new_arr)\n",
    "    feature_total[tuple(list(feature_set))]  = 1"
   ]
  },
  {
   "cell_type": "code",
   "execution_count": 18,
   "metadata": {},
   "outputs": [],
   "source": [
    "for i in feature_total:\n",
    "    new_arr = [j for j in i]"
   ]
  },
  {
   "cell_type": "code",
   "execution_count": 19,
   "metadata": {},
   "outputs": [],
   "source": [
    "X = df[['X1','X2','X3','X4','X5','X6']]\n",
    "y = df['Y house price of unit area']\n",
    "X_train, X_test, y_train, y_test = train_test_split(X,y,test_size = 0.3,random_state=42)"
   ]
  },
  {
   "cell_type": "code",
   "execution_count": 20,
   "metadata": {},
   "outputs": [
    {
     "name": "stdout",
     "output_type": "stream",
     "text": [
      "The subset of features ['X2', 'X4', 'X5', 'X3', 'X1']  has a RMSE score of  8.526459552115577\n",
      "The subset of features ['X2', 'X3', 'X1', 'X4']  has a RMSE score of  8.641848321401971\n",
      "The subset of features ['X5', 'X3', 'X4', 'X1']  has a RMSE score of  9.278633282990386\n",
      "The RMSE with all the features is 8.57703316536859\n"
     ]
    }
   ],
   "source": [
    "for i in feature_total:\n",
    "    new_arr = [k for k in i]\n",
    "    x_tr = X_train[new_arr]\n",
    "    y_tr = y_train\n",
    "    linear.fit(x_tr,y_tr)\n",
    "    predicted = linear.predict(X_test[new_arr])\n",
    "    print('The subset of features',new_arr,' has a RMSE score of ',np.sqrt(mean_squared_error(predicted,y_test)))\n",
    "linear.fit(X_train,y_train)\n",
    "predicted = linear.predict(X_test)\n",
    "print('The RMSE with all the features is', np.sqrt(mean_squared_error(predicted,y_test)))"
   ]
  },
  {
   "cell_type": "markdown",
   "metadata": {},
   "source": [
    "As we can see, the subset consisting of X1, X2, X3, X4 and X5 has the best performance"
   ]
  }
 ],
 "metadata": {
  "kernelspec": {
   "display_name": "Python 3",
   "language": "python",
   "name": "python3"
  },
  "language_info": {
   "codemirror_mode": {
    "name": "ipython",
    "version": 3
   },
   "file_extension": ".py",
   "mimetype": "text/x-python",
   "name": "python",
   "nbconvert_exporter": "python",
   "pygments_lexer": "ipython3",
   "version": "3.6.8"
  }
 },
 "nbformat": 4,
 "nbformat_minor": 2
}
