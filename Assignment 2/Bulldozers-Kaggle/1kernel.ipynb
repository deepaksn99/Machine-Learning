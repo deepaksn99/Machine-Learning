{
  "cells": [
    {
      "metadata": {
        "_uuid": "8f2839f25d086af736a60e9eeb907d3b93b6e0e5",
        "_cell_guid": "b1076dfc-b9ad-4769-8c92-a6c4dae69d19",
        "trusted": true
      },
      "cell_type": "code",
      "source": "# This Python 3 environment comes with many helpful analytics libraries installed\n# It is defined by the kaggle/python docker image: https://github.com/kaggle/docker-python\n# For example, here's several helpful packages to load in \n\nimport numpy as np # linear algebra\nimport pandas as pd # data processing, CSV file I/O (e.g. pd.read_csv)\n\n# Input data files are available in the \"../input/\" directory.\n# For example, running this (by clicking run or pressing Shift+Enter) will list the files in the input directory\n\nimport os\nprint(os.listdir(\"../input\"))\n\n# Any results you write to the current directory are saved as output.",
      "execution_count": 153,
      "outputs": [
        {
          "output_type": "stream",
          "text": "['TrainAndValid.csv', 'Train.csv', 'Test.csv', 'Valid.csv']\n",
          "name": "stdout"
        }
      ]
    },
    {
      "metadata": {
        "_cell_guid": "79c7e3d0-c299-4dcb-8224-4455121ee9b0",
        "_uuid": "d629ff2d2480ee46fbb7e2d37f6b5fab8052498a",
        "trusted": true,
        "scrolled": false
      },
      "cell_type": "code",
      "source": "df = pd.read_csv('../input/Train.csv')\ndf.head(10)",
      "execution_count": 154,
      "outputs": [
        {
          "output_type": "stream",
          "text": "/opt/conda/lib/python3.6/site-packages/IPython/core/interactiveshell.py:2785: DtypeWarning: Columns (13,39,40,41) have mixed types. Specify dtype option on import or set low_memory=False.\n  interactivity=interactivity, compiler=compiler, result=result)\n",
          "name": "stderr"
        },
        {
          "output_type": "execute_result",
          "execution_count": 154,
          "data": {
            "text/plain": "   SalesID  SalePrice        ...          Differential_Type  Steering_Controls\n0  1139246      66000        ...                   Standard       Conventional\n1  1139248      57000        ...                   Standard       Conventional\n2  1139249      10000        ...                        NaN                NaN\n3  1139251      38500        ...                        NaN                NaN\n4  1139253      11000        ...                        NaN                NaN\n5  1139255      26500        ...                        NaN                NaN\n6  1139256      21000        ...                        NaN                NaN\n7  1139261      27000        ...                        NaN                NaN\n8  1139272      21500        ...                        NaN                NaN\n9  1139275      65000        ...                   Standard       Conventional\n\n[10 rows x 53 columns]",
            "text/html": "<div>\n<style scoped>\n    .dataframe tbody tr th:only-of-type {\n        vertical-align: middle;\n    }\n\n    .dataframe tbody tr th {\n        vertical-align: top;\n    }\n\n    .dataframe thead th {\n        text-align: right;\n    }\n</style>\n<table border=\"1\" class=\"dataframe\">\n  <thead>\n    <tr style=\"text-align: right;\">\n      <th></th>\n      <th>SalesID</th>\n      <th>SalePrice</th>\n      <th>MachineID</th>\n      <th>ModelID</th>\n      <th>datasource</th>\n      <th>auctioneerID</th>\n      <th>YearMade</th>\n      <th>MachineHoursCurrentMeter</th>\n      <th>UsageBand</th>\n      <th>saledate</th>\n      <th>fiModelDesc</th>\n      <th>fiBaseModel</th>\n      <th>fiSecondaryDesc</th>\n      <th>fiModelSeries</th>\n      <th>fiModelDescriptor</th>\n      <th>ProductSize</th>\n      <th>fiProductClassDesc</th>\n      <th>state</th>\n      <th>ProductGroup</th>\n      <th>ProductGroupDesc</th>\n      <th>Drive_System</th>\n      <th>Enclosure</th>\n      <th>Forks</th>\n      <th>Pad_Type</th>\n      <th>Ride_Control</th>\n      <th>Stick</th>\n      <th>Transmission</th>\n      <th>Turbocharged</th>\n      <th>Blade_Extension</th>\n      <th>Blade_Width</th>\n      <th>Enclosure_Type</th>\n      <th>Engine_Horsepower</th>\n      <th>Hydraulics</th>\n      <th>Pushblock</th>\n      <th>Ripper</th>\n      <th>Scarifier</th>\n      <th>Tip_Control</th>\n      <th>Tire_Size</th>\n      <th>Coupler</th>\n      <th>Coupler_System</th>\n      <th>Grouser_Tracks</th>\n      <th>Hydraulics_Flow</th>\n      <th>Track_Type</th>\n      <th>Undercarriage_Pad_Width</th>\n      <th>Stick_Length</th>\n      <th>Thumb</th>\n      <th>Pattern_Changer</th>\n      <th>Grouser_Type</th>\n      <th>Backhoe_Mounting</th>\n      <th>Blade_Type</th>\n      <th>Travel_Controls</th>\n      <th>Differential_Type</th>\n      <th>Steering_Controls</th>\n    </tr>\n  </thead>\n  <tbody>\n    <tr>\n      <th>0</th>\n      <td>1139246</td>\n      <td>66000</td>\n      <td>999089</td>\n      <td>3157</td>\n      <td>121</td>\n      <td>3.0</td>\n      <td>2004</td>\n      <td>68.0</td>\n      <td>Low</td>\n      <td>11/16/2006 0:00</td>\n      <td>521D</td>\n      <td>521</td>\n      <td>D</td>\n      <td>NaN</td>\n      <td>NaN</td>\n      <td>NaN</td>\n      <td>Wheel Loader - 110.0 to 120.0 Horsepower</td>\n      <td>Alabama</td>\n      <td>WL</td>\n      <td>Wheel Loader</td>\n      <td>NaN</td>\n      <td>EROPS w AC</td>\n      <td>None or Unspecified</td>\n      <td>NaN</td>\n      <td>None or Unspecified</td>\n      <td>NaN</td>\n      <td>NaN</td>\n      <td>NaN</td>\n      <td>NaN</td>\n      <td>NaN</td>\n      <td>NaN</td>\n      <td>NaN</td>\n      <td>2 Valve</td>\n      <td>NaN</td>\n      <td>NaN</td>\n      <td>NaN</td>\n      <td>NaN</td>\n      <td>None or Unspecified</td>\n      <td>None or Unspecified</td>\n      <td>NaN</td>\n      <td>NaN</td>\n      <td>NaN</td>\n      <td>NaN</td>\n      <td>NaN</td>\n      <td>NaN</td>\n      <td>NaN</td>\n      <td>NaN</td>\n      <td>NaN</td>\n      <td>NaN</td>\n      <td>NaN</td>\n      <td>NaN</td>\n      <td>Standard</td>\n      <td>Conventional</td>\n    </tr>\n    <tr>\n      <th>1</th>\n      <td>1139248</td>\n      <td>57000</td>\n      <td>117657</td>\n      <td>77</td>\n      <td>121</td>\n      <td>3.0</td>\n      <td>1996</td>\n      <td>4640.0</td>\n      <td>Low</td>\n      <td>3/26/2004 0:00</td>\n      <td>950FII</td>\n      <td>950</td>\n      <td>F</td>\n      <td>II</td>\n      <td>NaN</td>\n      <td>Medium</td>\n      <td>Wheel Loader - 150.0 to 175.0 Horsepower</td>\n      <td>North Carolina</td>\n      <td>WL</td>\n      <td>Wheel Loader</td>\n      <td>NaN</td>\n      <td>EROPS w AC</td>\n      <td>None or Unspecified</td>\n      <td>NaN</td>\n      <td>None or Unspecified</td>\n      <td>NaN</td>\n      <td>NaN</td>\n      <td>NaN</td>\n      <td>NaN</td>\n      <td>NaN</td>\n      <td>NaN</td>\n      <td>NaN</td>\n      <td>2 Valve</td>\n      <td>NaN</td>\n      <td>NaN</td>\n      <td>NaN</td>\n      <td>NaN</td>\n      <td>23.5</td>\n      <td>None or Unspecified</td>\n      <td>NaN</td>\n      <td>NaN</td>\n      <td>NaN</td>\n      <td>NaN</td>\n      <td>NaN</td>\n      <td>NaN</td>\n      <td>NaN</td>\n      <td>NaN</td>\n      <td>NaN</td>\n      <td>NaN</td>\n      <td>NaN</td>\n      <td>NaN</td>\n      <td>Standard</td>\n      <td>Conventional</td>\n    </tr>\n    <tr>\n      <th>2</th>\n      <td>1139249</td>\n      <td>10000</td>\n      <td>434808</td>\n      <td>7009</td>\n      <td>121</td>\n      <td>3.0</td>\n      <td>2001</td>\n      <td>2838.0</td>\n      <td>High</td>\n      <td>2/26/2004 0:00</td>\n      <td>226</td>\n      <td>226</td>\n      <td>NaN</td>\n      <td>NaN</td>\n      <td>NaN</td>\n      <td>NaN</td>\n      <td>Skid Steer Loader - 1351.0 to 1601.0 Lb Operat...</td>\n      <td>New York</td>\n      <td>SSL</td>\n      <td>Skid Steer Loaders</td>\n      <td>NaN</td>\n      <td>OROPS</td>\n      <td>None or Unspecified</td>\n      <td>NaN</td>\n      <td>NaN</td>\n      <td>NaN</td>\n      <td>NaN</td>\n      <td>NaN</td>\n      <td>NaN</td>\n      <td>NaN</td>\n      <td>NaN</td>\n      <td>NaN</td>\n      <td>Auxiliary</td>\n      <td>NaN</td>\n      <td>NaN</td>\n      <td>NaN</td>\n      <td>NaN</td>\n      <td>NaN</td>\n      <td>None or Unspecified</td>\n      <td>None or Unspecified</td>\n      <td>None or Unspecified</td>\n      <td>Standard</td>\n      <td>NaN</td>\n      <td>NaN</td>\n      <td>NaN</td>\n      <td>NaN</td>\n      <td>NaN</td>\n      <td>NaN</td>\n      <td>NaN</td>\n      <td>NaN</td>\n      <td>NaN</td>\n      <td>NaN</td>\n      <td>NaN</td>\n    </tr>\n    <tr>\n      <th>3</th>\n      <td>1139251</td>\n      <td>38500</td>\n      <td>1026470</td>\n      <td>332</td>\n      <td>121</td>\n      <td>3.0</td>\n      <td>2001</td>\n      <td>3486.0</td>\n      <td>High</td>\n      <td>5/19/2011 0:00</td>\n      <td>PC120-6E</td>\n      <td>PC120</td>\n      <td>NaN</td>\n      <td>-6E</td>\n      <td>NaN</td>\n      <td>Small</td>\n      <td>Hydraulic Excavator, Track - 12.0 to 14.0 Metr...</td>\n      <td>Texas</td>\n      <td>TEX</td>\n      <td>Track Excavators</td>\n      <td>NaN</td>\n      <td>EROPS w AC</td>\n      <td>NaN</td>\n      <td>NaN</td>\n      <td>NaN</td>\n      <td>NaN</td>\n      <td>NaN</td>\n      <td>NaN</td>\n      <td>NaN</td>\n      <td>NaN</td>\n      <td>NaN</td>\n      <td>NaN</td>\n      <td>2 Valve</td>\n      <td>NaN</td>\n      <td>NaN</td>\n      <td>NaN</td>\n      <td>NaN</td>\n      <td>NaN</td>\n      <td>None or Unspecified</td>\n      <td>NaN</td>\n      <td>NaN</td>\n      <td>NaN</td>\n      <td>NaN</td>\n      <td>NaN</td>\n      <td>NaN</td>\n      <td>NaN</td>\n      <td>NaN</td>\n      <td>NaN</td>\n      <td>NaN</td>\n      <td>NaN</td>\n      <td>NaN</td>\n      <td>NaN</td>\n      <td>NaN</td>\n    </tr>\n    <tr>\n      <th>4</th>\n      <td>1139253</td>\n      <td>11000</td>\n      <td>1057373</td>\n      <td>17311</td>\n      <td>121</td>\n      <td>3.0</td>\n      <td>2007</td>\n      <td>722.0</td>\n      <td>Medium</td>\n      <td>7/23/2009 0:00</td>\n      <td>S175</td>\n      <td>S175</td>\n      <td>NaN</td>\n      <td>NaN</td>\n      <td>NaN</td>\n      <td>NaN</td>\n      <td>Skid Steer Loader - 1601.0 to 1751.0 Lb Operat...</td>\n      <td>New York</td>\n      <td>SSL</td>\n      <td>Skid Steer Loaders</td>\n      <td>NaN</td>\n      <td>EROPS</td>\n      <td>None or Unspecified</td>\n      <td>NaN</td>\n      <td>NaN</td>\n      <td>NaN</td>\n      <td>NaN</td>\n      <td>NaN</td>\n      <td>NaN</td>\n      <td>NaN</td>\n      <td>NaN</td>\n      <td>NaN</td>\n      <td>Auxiliary</td>\n      <td>NaN</td>\n      <td>NaN</td>\n      <td>NaN</td>\n      <td>NaN</td>\n      <td>NaN</td>\n      <td>None or Unspecified</td>\n      <td>None or Unspecified</td>\n      <td>None or Unspecified</td>\n      <td>Standard</td>\n      <td>NaN</td>\n      <td>NaN</td>\n      <td>NaN</td>\n      <td>NaN</td>\n      <td>NaN</td>\n      <td>NaN</td>\n      <td>NaN</td>\n      <td>NaN</td>\n      <td>NaN</td>\n      <td>NaN</td>\n      <td>NaN</td>\n    </tr>\n    <tr>\n      <th>5</th>\n      <td>1139255</td>\n      <td>26500</td>\n      <td>1001274</td>\n      <td>4605</td>\n      <td>121</td>\n      <td>3.0</td>\n      <td>2004</td>\n      <td>508.0</td>\n      <td>Low</td>\n      <td>12/18/2008 0:00</td>\n      <td>310G</td>\n      <td>310</td>\n      <td>G</td>\n      <td>NaN</td>\n      <td>NaN</td>\n      <td>NaN</td>\n      <td>Backhoe Loader - 14.0 to 15.0 Ft Standard Digg...</td>\n      <td>Arizona</td>\n      <td>BL</td>\n      <td>Backhoe Loaders</td>\n      <td>Four Wheel Drive</td>\n      <td>OROPS</td>\n      <td>None or Unspecified</td>\n      <td>None or Unspecified</td>\n      <td>No</td>\n      <td>Extended</td>\n      <td>Powershuttle</td>\n      <td>None or Unspecified</td>\n      <td>NaN</td>\n      <td>NaN</td>\n      <td>NaN</td>\n      <td>NaN</td>\n      <td>NaN</td>\n      <td>NaN</td>\n      <td>NaN</td>\n      <td>NaN</td>\n      <td>NaN</td>\n      <td>NaN</td>\n      <td>NaN</td>\n      <td>NaN</td>\n      <td>NaN</td>\n      <td>NaN</td>\n      <td>NaN</td>\n      <td>NaN</td>\n      <td>NaN</td>\n      <td>NaN</td>\n      <td>NaN</td>\n      <td>NaN</td>\n      <td>NaN</td>\n      <td>NaN</td>\n      <td>NaN</td>\n      <td>NaN</td>\n      <td>NaN</td>\n    </tr>\n    <tr>\n      <th>6</th>\n      <td>1139256</td>\n      <td>21000</td>\n      <td>772701</td>\n      <td>1937</td>\n      <td>121</td>\n      <td>3.0</td>\n      <td>1993</td>\n      <td>11540.0</td>\n      <td>High</td>\n      <td>8/26/2004 0:00</td>\n      <td>790ELC</td>\n      <td>790</td>\n      <td>E</td>\n      <td>NaN</td>\n      <td>LC</td>\n      <td>Large / Medium</td>\n      <td>Hydraulic Excavator, Track - 21.0 to 24.0 Metr...</td>\n      <td>Florida</td>\n      <td>TEX</td>\n      <td>Track Excavators</td>\n      <td>NaN</td>\n      <td>EROPS</td>\n      <td>NaN</td>\n      <td>NaN</td>\n      <td>NaN</td>\n      <td>NaN</td>\n      <td>NaN</td>\n      <td>NaN</td>\n      <td>NaN</td>\n      <td>NaN</td>\n      <td>NaN</td>\n      <td>NaN</td>\n      <td>Standard</td>\n      <td>NaN</td>\n      <td>NaN</td>\n      <td>NaN</td>\n      <td>NaN</td>\n      <td>NaN</td>\n      <td>None or Unspecified</td>\n      <td>NaN</td>\n      <td>NaN</td>\n      <td>NaN</td>\n      <td>Steel</td>\n      <td>None or Unspecified</td>\n      <td>None or Unspecified</td>\n      <td>None or Unspecified</td>\n      <td>None or Unspecified</td>\n      <td>Double</td>\n      <td>NaN</td>\n      <td>NaN</td>\n      <td>NaN</td>\n      <td>NaN</td>\n      <td>NaN</td>\n    </tr>\n    <tr>\n      <th>7</th>\n      <td>1139261</td>\n      <td>27000</td>\n      <td>902002</td>\n      <td>3539</td>\n      <td>121</td>\n      <td>3.0</td>\n      <td>2001</td>\n      <td>4883.0</td>\n      <td>High</td>\n      <td>11/17/2005 0:00</td>\n      <td>416D</td>\n      <td>416</td>\n      <td>D</td>\n      <td>NaN</td>\n      <td>NaN</td>\n      <td>NaN</td>\n      <td>Backhoe Loader - 14.0 to 15.0 Ft Standard Digg...</td>\n      <td>Illinois</td>\n      <td>BL</td>\n      <td>Backhoe Loaders</td>\n      <td>Four Wheel Drive</td>\n      <td>OROPS</td>\n      <td>None or Unspecified</td>\n      <td>Reversible</td>\n      <td>No</td>\n      <td>Standard</td>\n      <td>Standard</td>\n      <td>Yes</td>\n      <td>NaN</td>\n      <td>NaN</td>\n      <td>NaN</td>\n      <td>NaN</td>\n      <td>NaN</td>\n      <td>NaN</td>\n      <td>NaN</td>\n      <td>NaN</td>\n      <td>NaN</td>\n      <td>NaN</td>\n      <td>NaN</td>\n      <td>NaN</td>\n      <td>NaN</td>\n      <td>NaN</td>\n      <td>NaN</td>\n      <td>NaN</td>\n      <td>NaN</td>\n      <td>NaN</td>\n      <td>NaN</td>\n      <td>NaN</td>\n      <td>NaN</td>\n      <td>NaN</td>\n      <td>NaN</td>\n      <td>NaN</td>\n      <td>NaN</td>\n    </tr>\n    <tr>\n      <th>8</th>\n      <td>1139272</td>\n      <td>21500</td>\n      <td>1036251</td>\n      <td>36003</td>\n      <td>121</td>\n      <td>3.0</td>\n      <td>2008</td>\n      <td>302.0</td>\n      <td>Low</td>\n      <td>8/27/2009 0:00</td>\n      <td>430HAG</td>\n      <td>430</td>\n      <td>HAG</td>\n      <td>NaN</td>\n      <td>NaN</td>\n      <td>Mini</td>\n      <td>Hydraulic Excavator, Track - 3.0 to 4.0 Metric...</td>\n      <td>Texas</td>\n      <td>TEX</td>\n      <td>Track Excavators</td>\n      <td>NaN</td>\n      <td>EROPS</td>\n      <td>NaN</td>\n      <td>NaN</td>\n      <td>NaN</td>\n      <td>NaN</td>\n      <td>NaN</td>\n      <td>NaN</td>\n      <td>NaN</td>\n      <td>NaN</td>\n      <td>NaN</td>\n      <td>NaN</td>\n      <td>Auxiliary</td>\n      <td>NaN</td>\n      <td>NaN</td>\n      <td>NaN</td>\n      <td>NaN</td>\n      <td>NaN</td>\n      <td>Manual</td>\n      <td>NaN</td>\n      <td>NaN</td>\n      <td>NaN</td>\n      <td>Rubber</td>\n      <td>None or Unspecified</td>\n      <td>None or Unspecified</td>\n      <td>None or Unspecified</td>\n      <td>None or Unspecified</td>\n      <td>Double</td>\n      <td>NaN</td>\n      <td>NaN</td>\n      <td>NaN</td>\n      <td>NaN</td>\n      <td>NaN</td>\n    </tr>\n    <tr>\n      <th>9</th>\n      <td>1139275</td>\n      <td>65000</td>\n      <td>1016474</td>\n      <td>3883</td>\n      <td>121</td>\n      <td>3.0</td>\n      <td>1000</td>\n      <td>20700.0</td>\n      <td>Medium</td>\n      <td>8/9/2007 0:00</td>\n      <td>988B</td>\n      <td>988</td>\n      <td>B</td>\n      <td>NaN</td>\n      <td>NaN</td>\n      <td>Large</td>\n      <td>Wheel Loader - 350.0 to 500.0 Horsepower</td>\n      <td>Florida</td>\n      <td>WL</td>\n      <td>Wheel Loader</td>\n      <td>NaN</td>\n      <td>EROPS w AC</td>\n      <td>None or Unspecified</td>\n      <td>NaN</td>\n      <td>None or Unspecified</td>\n      <td>NaN</td>\n      <td>NaN</td>\n      <td>NaN</td>\n      <td>NaN</td>\n      <td>NaN</td>\n      <td>NaN</td>\n      <td>NaN</td>\n      <td>2 Valve</td>\n      <td>NaN</td>\n      <td>NaN</td>\n      <td>NaN</td>\n      <td>NaN</td>\n      <td>None or Unspecified</td>\n      <td>None or Unspecified</td>\n      <td>NaN</td>\n      <td>NaN</td>\n      <td>NaN</td>\n      <td>NaN</td>\n      <td>NaN</td>\n      <td>NaN</td>\n      <td>NaN</td>\n      <td>NaN</td>\n      <td>NaN</td>\n      <td>NaN</td>\n      <td>NaN</td>\n      <td>NaN</td>\n      <td>Standard</td>\n      <td>Conventional</td>\n    </tr>\n  </tbody>\n</table>\n</div>"
          },
          "metadata": {}
        }
      ]
    },
    {
      "metadata": {
        "trusted": true,
        "_uuid": "aeaeee892bfe9d16e755800ddb10632f9a111f7a"
      },
      "cell_type": "code",
      "source": "from sklearn.ensemble import RandomForestRegressor",
      "execution_count": 155,
      "outputs": []
    },
    {
      "metadata": {
        "trusted": true,
        "_uuid": "c2201a32378551382da234ba73f81fea85871a05"
      },
      "cell_type": "code",
      "source": "df = df[['SalesID', 'SalePrice', 'MachineID', 'ModelID', 'datasource',\n       'auctioneerID', 'YearMade', 'MachineHoursCurrentMeter']]\ndf = df.drop(columns =['datasource','auctioneerID'])",
      "execution_count": 156,
      "outputs": []
    },
    {
      "metadata": {
        "trusted": true,
        "_uuid": "bd6c887103adba1e1b5ea4079f8a3297917be390"
      },
      "cell_type": "code",
      "source": "df = df.dropna()",
      "execution_count": 157,
      "outputs": []
    },
    {
      "metadata": {
        "trusted": true,
        "_uuid": "d2028ab50a2160bf26f9011ccb4e69ba2b314b32"
      },
      "cell_type": "code",
      "source": "import numpy as np",
      "execution_count": 158,
      "outputs": []
    },
    {
      "metadata": {
        "trusted": true,
        "scrolled": true,
        "_uuid": "4c8cb15c9e5f420f88a7124e391bcb2475e6fe19"
      },
      "cell_type": "code",
      "source": "X, y = df[['SalesID','MachineID','ModelID','YearMade']],np.log(df['SalePrice'])\nrf = RandomForestRegressor()\nrf.fit(X,y)",
      "execution_count": 160,
      "outputs": [
        {
          "output_type": "stream",
          "text": "/opt/conda/lib/python3.6/site-packages/sklearn/ensemble/forest.py:246: FutureWarning: The default value of n_estimators will change from 10 in version 0.20 to 100 in 0.22.\n  \"10 in version 0.20 to 100 in 0.22.\", FutureWarning)\n",
          "name": "stderr"
        },
        {
          "output_type": "execute_result",
          "execution_count": 160,
          "data": {
            "text/plain": "RandomForestRegressor(bootstrap=True, criterion='mse', max_depth=None,\n           max_features='auto', max_leaf_nodes=None,\n           min_impurity_decrease=0.0, min_impurity_split=None,\n           min_samples_leaf=1, min_samples_split=2,\n           min_weight_fraction_leaf=0.0, n_estimators=10, n_jobs=None,\n           oob_score=False, random_state=None, verbose=0, warm_start=False)"
          },
          "metadata": {}
        }
      ]
    },
    {
      "metadata": {
        "trusted": true,
        "_uuid": "f63e9d9d5351debe955136ea5e8a61170a69e2ca"
      },
      "cell_type": "code",
      "source": "new_df = pd.read_csv('../input/Test.csv')\nvalue = rf.predict(new_df[['SalesID','MachineID','ModelID','YearMade']])",
      "execution_count": 161,
      "outputs": []
    },
    {
      "metadata": {
        "trusted": true,
        "_uuid": "3e4889d507abbd3cc46cd3194d7da0fcb20b9023"
      },
      "cell_type": "code",
      "source": "final = pd.DataFrame({'SalesID':new_df.SalesID,'SalePrice':value})",
      "execution_count": 162,
      "outputs": []
    },
    {
      "metadata": {
        "trusted": true,
        "_uuid": "d9d71fe25a2db4b2e2c73fe94ea95d54eca1c6b8"
      },
      "cell_type": "code",
      "source": "final.head()",
      "execution_count": 163,
      "outputs": [
        {
          "output_type": "execute_result",
          "execution_count": 163,
          "data": {
            "text/plain": "   SalesID  SalePrice\n0  1227829   9.506020\n1  1227844  10.256789\n2  1227847  10.883719\n3  1227848  11.565284\n4  1227863  10.323038",
            "text/html": "<div>\n<style scoped>\n    .dataframe tbody tr th:only-of-type {\n        vertical-align: middle;\n    }\n\n    .dataframe tbody tr th {\n        vertical-align: top;\n    }\n\n    .dataframe thead th {\n        text-align: right;\n    }\n</style>\n<table border=\"1\" class=\"dataframe\">\n  <thead>\n    <tr style=\"text-align: right;\">\n      <th></th>\n      <th>SalesID</th>\n      <th>SalePrice</th>\n    </tr>\n  </thead>\n  <tbody>\n    <tr>\n      <th>0</th>\n      <td>1227829</td>\n      <td>9.506020</td>\n    </tr>\n    <tr>\n      <th>1</th>\n      <td>1227844</td>\n      <td>10.256789</td>\n    </tr>\n    <tr>\n      <th>2</th>\n      <td>1227847</td>\n      <td>10.883719</td>\n    </tr>\n    <tr>\n      <th>3</th>\n      <td>1227848</td>\n      <td>11.565284</td>\n    </tr>\n    <tr>\n      <th>4</th>\n      <td>1227863</td>\n      <td>10.323038</td>\n    </tr>\n  </tbody>\n</table>\n</div>"
          },
          "metadata": {}
        }
      ]
    },
    {
      "metadata": {
        "trusted": true,
        "_uuid": "eb9dd7ce3b9e896181447bfba1be9395e2e4fead"
      },
      "cell_type": "code",
      "source": "final.to_csv('submission1.csv',index=False)",
      "execution_count": 164,
      "outputs": []
    }
  ],
  "metadata": {
    "kernelspec": {
      "display_name": "Python 3",
      "language": "python",
      "name": "python3"
    },
    "language_info": {
      "name": "python",
      "version": "3.6.6",
      "mimetype": "text/x-python",
      "codemirror_mode": {
        "name": "ipython",
        "version": 3
      },
      "pygments_lexer": "ipython3",
      "nbconvert_exporter": "python",
      "file_extension": ".py"
    }
  },
  "nbformat": 4,
  "nbformat_minor": 1
}