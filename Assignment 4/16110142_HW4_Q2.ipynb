{
 "cells": [
  {
   "cell_type": "code",
   "execution_count": 1,
   "metadata": {},
   "outputs": [],
   "source": [
    "import numpy\n",
    "import matplotlib.pyplot as plt\n",
    "import pandas as pd\n",
    "import autograd.numpy as np\n",
    "from autograd import elementwise_grad"
   ]
  },
  {
   "cell_type": "code",
   "execution_count": 2,
   "metadata": {},
   "outputs": [],
   "source": [
    "def cost_function(theta,delta=1):\n",
    "    error = ((y - np.dot(X,theta))**2)/len(X) + delta**2*(numpy.linalg.norm(theta,1))\n",
    "    return error\n",
    "\n",
    "def normalEquationRidgeRegression(x, y, delta=1):\n",
    "    X = np.c_[np.ones(len(x)),x]\n",
    "    temp1 = (np.transpose(X).dot(X) + delta**2*np.eye(X.shape[1]))\n",
    "    return np.linalg.inv(temp1).dot(np.transpose(X)).dot(y)\n",
    "\n",
    "def coordinateDescentRegression(x,y,iteration=1000):\n",
    "    X = np.c_[np.ones(len(x)),x]\n",
    "    thetas = np.random.rand(len(X[0]))\n",
    "    for it in range(iteration):\n",
    "        for j in range(len(thetas)):\n",
    "            temp1 = 0\n",
    "            zj = 0\n",
    "            temp2 = 0\n",
    "            for i in range(len(y)):\n",
    "                zj+=(X[i][j])**2\n",
    "                temp1+=y[i]*X[i][j]\n",
    "                for k in range(len(thetas)):\n",
    "                    if k!=j:\n",
    "                        temp2+=thetas[k]*X[i][k]*X[i][j]\n",
    "            rhoj = temp1 - temp2\n",
    "            thetas[j] = rhoj/zj\n",
    "    return thetas\n",
    "\n",
    "def coordinateDescentLasso(x,y,iteration=1000,delta=1):\n",
    "    X = np.c_[np.ones(len(x)),x]\n",
    "    thetas = np.random.rand(len(X[0]))\n",
    "    for it in range(iteration):\n",
    "        for j in range(len(thetas)):\n",
    "            temp1 = 0\n",
    "            zj = 0\n",
    "            temp2 = 0\n",
    "            for i in range(len(y)):\n",
    "                zj+=(X[i][j])**2\n",
    "                temp1+=y[i]*X[i][j]\n",
    "                for k in range(len(thetas)):\n",
    "                    if k!=j:\n",
    "                        temp2+=thetas[k]*X[i][k]*X[i][j]\n",
    "            rhoj = temp1 - temp2\n",
    "            if rhoj<-(delta**2)/2:\n",
    "                thetas[j] = (rhoj + ((delta**2)/2))/zj\n",
    "            if rhoj>= (-delta**2)/2 and rhoj<=(delta**2)/2:\n",
    "                thetas[j] = 0\n",
    "            if rhoj> (delta**2)/2:\n",
    "                thetas[j] = (rhoj - (delta**2)/2)/zj\n",
    "    return thetas\n",
    "\n",
    "def sgdRegression(x,y,alpha=0.1,epoch=1000):\n",
    "    X = np.c_[np.ones(len(x)),x]\n",
    "    thetas = np.random.rand(len(X[0]))\n",
    "    for it in range(epoch):\n",
    "        for i in range(len(y)):\n",
    "            old = np.copy(thetas)\n",
    "            for j in range(len(thetas)):\n",
    "                old[j] = old[j] + 2*alpha*(y[i] - X[i].dot(thetas))*X[i][j]\n",
    "            thetas = old\n",
    "    return thetas\n",
    "\n",
    "def gradientDescentAutogradLasso(x,y,alpha = 0.1, delta = 1,iteration=10000):\n",
    "    X = np.c_[np.ones(len(x)),x]\n",
    "    theta_old = np.random.rand(len(X[0]))\n",
    "    agrad = elementwise_grad(cost_function)\n",
    "    for i in range(iteration):\n",
    "        val = agrad(theta_old,1)\n",
    "        predicted = X.dot(theta_old)\n",
    "        error = y - predicted\n",
    "        temp = theta_old - alpha*val\n",
    "        theta_old = temp\n",
    "    return theta_old\n",
    "\n",
    "                "
   ]
  },
  {
   "cell_type": "code",
   "execution_count": 3,
   "metadata": {},
   "outputs": [
    {
     "name": "stdout",
     "output_type": "stream",
     "text": [
      "Normal Equation Thetas are  [48.68181818 13.72727273]\n",
      "Coordinate (w/o) regularisation thetas are  [104.   2.]\n",
      "Coordinate (w/) regularisation thetas are  [103.52631579   2.09210526]\n",
      "Stochastic Gradient Descent thetas are  [103.99999641   2.00000065]\n",
      "Autograd Solutions w/ regularisation are [99.73684211  2.82894737]\n"
     ]
    }
   ],
   "source": [
    "x = np.array([1,3,6])\n",
    "y = np.array([106,110,116])\n",
    "X = np.c_[np.ones(len(x)),x]\n",
    "print(\"Normal Equation Thetas are \",normalEquationRidgeRegression(x,y,1))\n",
    "print(\"Coordinate (w/o) regularisation thetas are \",coordinateDescentRegression(x,y))\n",
    "print(\"Coordinate (w/) regularisation thetas are \",coordinateDescentLasso(x,y))\n",
    "print(\"Stochastic Gradient Descent thetas are \",sgdRegression(x,y,alpha = 0.01))\n",
    "print(\"Autograd Solutions w/ regularisation are\",gradientDescentAutogradLasso(x,y,alpha=0.01))"
   ]
  },
  {
   "cell_type": "markdown",
   "metadata": {},
   "source": [
    "For Autograd Lasso, we do not get the correct solution - maybe the automatic differentiator doesn't work the way in which it should."
   ]
  }
 ],
 "metadata": {
  "kernelspec": {
   "display_name": "Python 3",
   "language": "python",
   "name": "python3"
  },
  "language_info": {
   "codemirror_mode": {
    "name": "ipython",
    "version": 3
   },
   "file_extension": ".py",
   "mimetype": "text/x-python",
   "name": "python",
   "nbconvert_exporter": "python",
   "pygments_lexer": "ipython3",
   "version": "3.6.8"
  }
 },
 "nbformat": 4,
 "nbformat_minor": 2
}
