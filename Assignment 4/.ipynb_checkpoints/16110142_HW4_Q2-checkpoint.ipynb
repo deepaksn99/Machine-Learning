{
 "cells": [
  {
   "cell_type": "code",
   "execution_count": 1,
   "metadata": {},
   "outputs": [],
   "source": [
    "import numpy as np\n",
    "import matplotlib.pyplot as plt\n",
    "import pandas as pd"
   ]
  },
  {
   "cell_type": "code",
   "execution_count": 39,
   "metadata": {},
   "outputs": [],
   "source": [
    "def normalEquationRidgeRegression(x, y, delta=1):\n",
    "    temp1 = (np.transpose(x).dot(x) + delta**2*np.eye(x.shape[1])).dot(np.transpose(X)).dot(y)\n",
    "    return np.linalg.inv(temp1)\n",
    "\n",
    "def coordinateDescentRegression(x,y,iteration=1000):\n",
    "    X = np.c_[np.ones(len(x)),x]\n",
    "    thetas = np.array([2,3],dtype=float)\n",
    "    for it in range(iteration):\n",
    "        for j in range(len(thetas)):\n",
    "            temp1 = 0\n",
    "            zj = 0\n",
    "            temp2 = 0\n",
    "            for i in range(len(y)):\n",
    "                zj+=(X[i][j])**2\n",
    "                temp1+=y[i]*X[i][j]\n",
    "                for k in range(len(thetas)):\n",
    "                    if k!=j:\n",
    "                        temp2+=thetas[k]*X[i][k]*X[i][j]\n",
    "            rhoj = temp1 - temp2\n",
    "            thetas[j] = rhoj/zj\n",
    "    return thetas\n",
    "\n",
    "def coordinateDescentLasso(x,y,iteration=1000,delta=1):\n",
    "    X = np.c_[np.ones(len(x)),x]\n",
    "    thetas = np.random.rand(len(X[0]))\n",
    "    for it in range(iteration):\n",
    "        for j in range(len(thetas)):\n",
    "            temp1 = 0\n",
    "            zj = 0\n",
    "            temp2 = 0\n",
    "            for i in range(len(y)):\n",
    "                zj+=(X[i][j])**2\n",
    "                temp1+=y[i]*X[i][j]\n",
    "                for k in range(len(thetas)):\n",
    "                    if k!=j:\n",
    "                        temp2+=thetas[k]*X[i][k]*X[i][j]\n",
    "            rhoj = temp1 - temp2\n",
    "            if rhoj<-(delta**2)/2:\n",
    "                thetas[j] = (rhoj + ((delta**2)/2))/zj\n",
    "            if rhoj>= (-delta**2)/2 and rhoj<=(delta**2)/2:\n",
    "                thetas[j] = 0\n",
    "            if rhoj> (delta**2)/2:\n",
    "                thetas[j] = (rhoj - (delta**2)/2)/zj\n",
    "    return thetas\n",
    "\n",
    "def sgdRegression(x,y,alpha=0.1,epoch=100):\n",
    "    X = np.c_[np.ones(len(x)),x]\n",
    "    thetas = np.random.rand(len(X[0]))\n",
    "    for it in range(epoch):\n",
    "        for i in range(len(y)):\n",
    "            old = np.copy(thetas)\n",
    "            for j in range(len(thetas)):\n",
    "                old[j] = old[j] + 2*0.1*(y[i] - X[i].dot(thetas))*X[i][j]\n",
    "            thetas = old\n",
    "    return thetas\n",
    "\n",
    "def gradientDescentAutogradLasso(X,y,alpha = 0.1, delta = 1):\n",
    "            \n",
    "                "
   ]
  },
  {
   "cell_type": "code",
   "execution_count": 71,
   "metadata": {},
   "outputs": [],
   "source": [
    "x = np.array([2,3,1]); y= np.array([2,3,1])"
   ]
  },
  {
   "cell_type": "code",
   "execution_count": 72,
   "metadata": {},
   "outputs": [
    {
     "name": "stdout",
     "output_type": "stream",
     "text": [
      "4.0 4.0 2\n",
      "3.6\n",
      "0.0 4.0 2\n",
      "-0.8\n",
      "[ 3.6 -0.8]\n",
      "3.6 1.1999999999999997 3\n",
      "3.96\n",
      "-0.8 1.1999999999999997 3\n",
      "0.28000000000000025\n",
      "[3.96 0.28]\n",
      "3.96 4.24 1\n",
      "3.312\n",
      "0.28000000000000025 4.24 1\n",
      "-0.3679999999999999\n",
      "[ 3.312 -0.368]\n"
     ]
    }
   ],
   "source": []
  },
  {
   "cell_type": "code",
   "execution_count": 63,
   "metadata": {},
   "outputs": [
    {
     "data": {
      "text/plain": [
       "4.024"
      ]
     },
     "execution_count": 63,
     "metadata": {},
     "output_type": "execute_result"
    }
   ],
   "source": [
    "X[0].dot(thetas)"
   ]
  },
  {
   "cell_type": "code",
   "execution_count": 65,
   "metadata": {},
   "outputs": [
    {
     "data": {
      "text/plain": [
       "array([3.696, 0.328])"
      ]
     },
     "execution_count": 65,
     "metadata": {},
     "output_type": "execute_result"
    }
   ],
   "source": []
  },
  {
   "cell_type": "code",
   "execution_count": 59,
   "metadata": {},
   "outputs": [
    {
     "data": {
      "text/plain": [
       "-1.0080000000000005"
      ]
     },
     "execution_count": 59,
     "metadata": {},
     "output_type": "execute_result"
    }
   ],
   "source": [
    "0.2*(y[i] - X[i].dot(thetas))*X[i][j]"
   ]
  },
  {
   "cell_type": "code",
   "execution_count": 38,
   "metadata": {},
   "outputs": [
    {
     "data": {
      "text/plain": [
       "array([-2.36847579e-15,  1.00000000e+00])"
      ]
     },
     "execution_count": 38,
     "metadata": {},
     "output_type": "execute_result"
    }
   ],
   "source": [
    "thetas"
   ]
  }
 ],
 "metadata": {
  "kernelspec": {
   "display_name": "Python 3",
   "language": "python",
   "name": "python3"
  },
  "language_info": {
   "codemirror_mode": {
    "name": "ipython",
    "version": 3
   },
   "file_extension": ".py",
   "mimetype": "text/x-python",
   "name": "python",
   "nbconvert_exporter": "python",
   "pygments_lexer": "ipython3",
   "version": "3.6.8"
  }
 },
 "nbformat": 4,
 "nbformat_minor": 2
}
