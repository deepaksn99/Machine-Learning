{
 "cells": [
  {
   "cell_type": "code",
   "execution_count": 30,
   "metadata": {},
   "outputs": [],
   "source": [
    "from sklearn.model_selection import train_test_split\n",
    "from sklearn.model_selection import KFold\n",
    "from sklearn.linear_model import ridge_regression\n",
    "import numpy as np\n",
    "import matplotlib.pyplot as plt"
   ]
  },
  {
   "cell_type": "code",
   "execution_count": 31,
   "metadata": {},
   "outputs": [],
   "source": [
    "X = np.array([[1,1,2],[1,2,4],[1,3,6],[1,4,8]])\n",
    "y = np.array([2,3,4,5])"
   ]
  },
  {
   "cell_type": "markdown",
   "metadata": {},
   "source": [
    "### 4(a)"
   ]
  },
  {
   "cell_type": "code",
   "execution_count": 32,
   "metadata": {},
   "outputs": [
    {
     "name": "stdout",
     "output_type": "stream",
     "text": [
      "Thetas with Ridge Regression are\n",
      " [0.44705882 0.23529412 0.47058824]\n"
     ]
    }
   ],
   "source": [
    "thetas = ridge_regression(X,y,1)\n",
    "print(\"Thetas with Ridge Regression are\\n\",thetas)"
   ]
  },
  {
   "cell_type": "markdown",
   "metadata": {},
   "source": [
    "### 4(b)"
   ]
  },
  {
   "cell_type": "code",
   "execution_count": 33,
   "metadata": {},
   "outputs": [],
   "source": [
    "def normalEquationRegression(X,y):\n",
    "    X_t = np.transpose(X)\n",
    "    temp = X_t.dot(X)\n",
    "    try:\n",
    "        print(\"Trying without regularisation\")\n",
    "        print(np.linalg.inv(X_t.dot(X)))\n",
    "    except:\n",
    "        print(\"Failure without regularisation\")\n",
    "    print(\"Now regularised\")\n",
    "    first = X_t.dot(X) + np.eye(temp.shape[0])\n",
    "    first = np.linalg.inv(first)\n",
    "    second = X_t.dot(y)\n",
    "    return first.dot(second)"
   ]
  },
  {
   "cell_type": "code",
   "execution_count": 18,
   "metadata": {},
   "outputs": [
    {
     "name": "stdout",
     "output_type": "stream",
     "text": [
      "Trying without regularisation\n",
      "Failure without regularisation\n",
      "Now regularised\n"
     ]
    },
    {
     "data": {
      "text/plain": [
       "array([0.44705882, 0.23529412, 0.47058824])"
      ]
     },
     "execution_count": 18,
     "metadata": {},
     "output_type": "execute_result"
    }
   ],
   "source": [
    "normalEquationRegression(X,y)"
   ]
  }
 ],
 "metadata": {
  "kernelspec": {
   "display_name": "Python 3",
   "language": "python",
   "name": "python3"
  },
  "language_info": {
   "codemirror_mode": {
    "name": "ipython",
    "version": 3
   },
   "file_extension": ".py",
   "mimetype": "text/x-python",
   "name": "python",
   "nbconvert_exporter": "python",
   "pygments_lexer": "ipython3",
   "version": "3.6.8"
  }
 },
 "nbformat": 4,
 "nbformat_minor": 2
}
