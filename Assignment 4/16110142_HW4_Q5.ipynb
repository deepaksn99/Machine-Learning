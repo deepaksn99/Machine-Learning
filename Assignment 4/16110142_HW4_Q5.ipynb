{
 "cells": [
  {
   "cell_type": "code",
   "execution_count": 1,
   "metadata": {},
   "outputs": [],
   "source": [
    "import numpy as np\n",
    "import matplotlib.pyplot as plt\n",
    "import pandas as pd\n",
    "from sklearn.linear_model import RidgeCV\n",
    "from sklearn.linear_model import LassoCV\n",
    "from sklearn.model_selection import KFold\n",
    "from sklearn.model_selection import train_test_split\n",
    "from sklearn import preprocessing\n",
    "from sklearn.linear_model import ridge_regression\n",
    "from sklearn.linear_model import Lasso\n",
    "from sklearn.metrics import mean_squared_error\n",
    "from sklearn.linear_model import Ridge\n",
    "from sklearn.linear_model import LinearRegression"
   ]
  },
  {
   "cell_type": "code",
   "execution_count": 2,
   "metadata": {},
   "outputs": [],
   "source": [
    "df = pd.read_excel('realestate.xlsx')"
   ]
  },
  {
   "cell_type": "code",
   "execution_count": 3,
   "metadata": {},
   "outputs": [
    {
     "data": {
      "text/html": [
       "<div>\n",
       "<style scoped>\n",
       "    .dataframe tbody tr th:only-of-type {\n",
       "        vertical-align: middle;\n",
       "    }\n",
       "\n",
       "    .dataframe tbody tr th {\n",
       "        vertical-align: top;\n",
       "    }\n",
       "\n",
       "    .dataframe thead th {\n",
       "        text-align: right;\n",
       "    }\n",
       "</style>\n",
       "<table border=\"1\" class=\"dataframe\">\n",
       "  <thead>\n",
       "    <tr style=\"text-align: right;\">\n",
       "      <th></th>\n",
       "      <th>No</th>\n",
       "      <th>X1 transaction date</th>\n",
       "      <th>X2 house age</th>\n",
       "      <th>X3 distance to the nearest MRT station</th>\n",
       "      <th>X4 number of convenience stores</th>\n",
       "      <th>X5 latitude</th>\n",
       "      <th>X6 longitude</th>\n",
       "      <th>Y house price of unit area</th>\n",
       "    </tr>\n",
       "  </thead>\n",
       "  <tbody>\n",
       "    <tr>\n",
       "      <th>0</th>\n",
       "      <td>1</td>\n",
       "      <td>2012.916667</td>\n",
       "      <td>32.0</td>\n",
       "      <td>84.87882</td>\n",
       "      <td>10</td>\n",
       "      <td>24.98298</td>\n",
       "      <td>121.54024</td>\n",
       "      <td>37.9</td>\n",
       "    </tr>\n",
       "    <tr>\n",
       "      <th>1</th>\n",
       "      <td>2</td>\n",
       "      <td>2012.916667</td>\n",
       "      <td>19.5</td>\n",
       "      <td>306.59470</td>\n",
       "      <td>9</td>\n",
       "      <td>24.98034</td>\n",
       "      <td>121.53951</td>\n",
       "      <td>42.2</td>\n",
       "    </tr>\n",
       "    <tr>\n",
       "      <th>2</th>\n",
       "      <td>3</td>\n",
       "      <td>2013.583333</td>\n",
       "      <td>13.3</td>\n",
       "      <td>561.98450</td>\n",
       "      <td>5</td>\n",
       "      <td>24.98746</td>\n",
       "      <td>121.54391</td>\n",
       "      <td>47.3</td>\n",
       "    </tr>\n",
       "    <tr>\n",
       "      <th>3</th>\n",
       "      <td>4</td>\n",
       "      <td>2013.500000</td>\n",
       "      <td>13.3</td>\n",
       "      <td>561.98450</td>\n",
       "      <td>5</td>\n",
       "      <td>24.98746</td>\n",
       "      <td>121.54391</td>\n",
       "      <td>54.8</td>\n",
       "    </tr>\n",
       "    <tr>\n",
       "      <th>4</th>\n",
       "      <td>5</td>\n",
       "      <td>2012.833333</td>\n",
       "      <td>5.0</td>\n",
       "      <td>390.56840</td>\n",
       "      <td>5</td>\n",
       "      <td>24.97937</td>\n",
       "      <td>121.54245</td>\n",
       "      <td>43.1</td>\n",
       "    </tr>\n",
       "  </tbody>\n",
       "</table>\n",
       "</div>"
      ],
      "text/plain": [
       "   No  X1 transaction date  X2 house age  \\\n",
       "0   1          2012.916667          32.0   \n",
       "1   2          2012.916667          19.5   \n",
       "2   3          2013.583333          13.3   \n",
       "3   4          2013.500000          13.3   \n",
       "4   5          2012.833333           5.0   \n",
       "\n",
       "   X3 distance to the nearest MRT station  X4 number of convenience stores  \\\n",
       "0                                84.87882                               10   \n",
       "1                               306.59470                                9   \n",
       "2                               561.98450                                5   \n",
       "3                               561.98450                                5   \n",
       "4                               390.56840                                5   \n",
       "\n",
       "   X5 latitude  X6 longitude  Y house price of unit area  \n",
       "0     24.98298     121.54024                        37.9  \n",
       "1     24.98034     121.53951                        42.2  \n",
       "2     24.98746     121.54391                        47.3  \n",
       "3     24.98746     121.54391                        54.8  \n",
       "4     24.97937     121.54245                        43.1  "
      ]
     },
     "execution_count": 3,
     "metadata": {},
     "output_type": "execute_result"
    }
   ],
   "source": [
    "df.head()"
   ]
  },
  {
   "cell_type": "code",
   "execution_count": 4,
   "metadata": {},
   "outputs": [],
   "source": [
    "df = df.rename(index=str, columns = {'X1 transaction date':'X1','X2 house age':'X2',\n",
    "       'X3 distance to the nearest MRT station':'X3',\n",
    "       'X4 number of convenience stores':'X4', 'X5 latitude':'X5', 'X6 longitude':'X6'})\n",
    "temp_columns = list(df.columns)\n",
    "temp_columns.remove('Y house price of unit area')\n",
    "X = df[temp_columns]\n",
    "X = preprocessing.normalize(X)\n",
    "y = df['Y house price of unit area']\n",
    "#y = preprocessing.normalize(np.array([y]))\n",
    "y = np.array(y)"
   ]
  },
  {
   "cell_type": "markdown",
   "metadata": {},
   "source": [
    "### 5 (a)"
   ]
  },
  {
   "cell_type": "code",
   "execution_count": 5,
   "metadata": {},
   "outputs": [],
   "source": [
    "kf = KFold(n_splits=5, shuffle=False)\n",
    "kf_valid = KFold(n_splits=4,shuffle = False)"
   ]
  },
  {
   "cell_type": "code",
   "execution_count": 6,
   "metadata": {},
   "outputs": [
    {
     "name": "stdout",
     "output_type": "stream",
     "text": [
      "Ridge Regression - 5 Fold CV to estimate regularisation coefficient\n",
      "\n",
      "*****************************************************************\n",
      "The best regularising coefficient has value 2.104904144512022e-10\n",
      "The validation error (Mean RMSE) on fold  1 is  8.340686069045415\n",
      "The Error on training set for fold  1  is  8.355004345604106\n",
      "The Error on test set for fold  1 is  6.019711837983289\n",
      "The best regularising coefficient has value 3.0538555088334126e-10\n",
      "The validation error (Mean RMSE) on fold  2 is  7.739617520390006\n",
      "The Error on training set for fold  2  is  7.798500449143323\n",
      "The Error on test set for fold  2 is  8.491538945500144\n",
      "The best regularising coefficient has value 3.0538555088334126e-10\n",
      "The validation error (Mean RMSE) on fold  3 is  8.221571170976429\n",
      "The Error on training set for fold  3  is  8.25419533642319\n",
      "The Error on test set for fold  3 is  6.551929615087116\n",
      "The best regularising coefficient has value 3.0538555088334126e-10\n",
      "The validation error (Mean RMSE) on fold  4 is  7.178943768266459\n",
      "The Error on training set for fold  4  is  7.091187741863356\n",
      "The Error on test set for fold  4 is  10.70238018747757\n",
      "The best regularising coefficient has value 2.104904144512022e-10\n",
      "The validation error (Mean RMSE) on fold  5 is  7.932296560381658\n",
      "The Error on training set for fold  5  is  8.050004731494367\n",
      "The Error on test set for fold  5 is  7.550927837328091\n",
      "***************************************************************** \n",
      "\n",
      "The overall error on test is, 7.863297684675241\n",
      "Regularisation Coefficient 2.104904144512022e-10  is the best for this problem\n"
     ]
    }
   ],
   "source": [
    "print(\"Ridge Regression - 5 Fold CV to estimate regularisation coefficient\\n\")\n",
    "print(\"*\"*65)\n",
    "penalty = np.logspace(-10, -2, 100)\n",
    "k_fold = {i:{j:0 for j in range(1,5)} for i in range(1,6)}\n",
    "valid_overall = []\n",
    "fold_count = 0\n",
    "for train_index, test_index in kf.split(X):\n",
    "    fold_count+=1\n",
    "    X_train = X[train_index]\n",
    "    y_train = y[train_index]\n",
    "    X_test = X[test_index]\n",
    "    y_test = y[test_index]\n",
    "    penalty_wise = []\n",
    "    for i in range(len(penalty)):\n",
    "        validation = []\n",
    "        for valid_train, valid_test in kf_valid.split(X_train):\n",
    "            x_valid_train = X_train[valid_train]\n",
    "            y_valid_train = y_train[valid_train]\n",
    "            x_valid_test = X_train[valid_test]\n",
    "            y_valid_test = y_train[valid_test]\n",
    "            ridge = Ridge(alpha = penalty[i])\n",
    "            ridge.fit(x_valid_train,y_valid_train)\n",
    "            predicted = ridge.predict(x_valid_test)\n",
    "            valid_error = np.sqrt(mean_squared_error(predicted,y_valid_test))\n",
    "            validation.append(valid_error)\n",
    "        penalty_wise.append(np.array(validation).mean())\n",
    "    #print(penalty_wise)\n",
    "    best_regulariser = penalty[np.argmin(np.array(penalty_wise))]\n",
    "    print(\"The best regularising coefficient has value\",best_regulariser)\n",
    "    print(\"The validation error (Mean RMSE) on fold \",fold_count, \"is \",penalty_wise[np.argmin(np.array(penalty_wise))])\n",
    "    ridge = Ridge(alpha = best_regulariser)\n",
    "    ridge.fit(X_train,y_train)\n",
    "    train_error = np.sqrt(mean_squared_error(ridge.predict(X_train),y_train))\n",
    "    print(\"The Error on training set for fold \",fold_count,\" is \",train_error)\n",
    "    test_error = np.sqrt(mean_squared_error(ridge.predict(X_test),y_test))\n",
    "    print(\"The Error on test set for fold \",fold_count, \"is \", test_error)\n",
    "    valid_overall.append(test_error)\n",
    "\n",
    "print(\"*\"*65,\"\\n\")\n",
    "print(\"The overall error on test is,\",np.array(valid_overall).mean())\n",
    "print(\"Regularisation Coefficient\",best_regulariser,\" is the best for this problem\")"
   ]
  },
  {
   "cell_type": "markdown",
   "metadata": {},
   "source": [
    "### 5(b)"
   ]
  },
  {
   "cell_type": "code",
   "execution_count": 7,
   "metadata": {},
   "outputs": [
    {
     "name": "stdout",
     "output_type": "stream",
     "text": [
      "Lasso Regression - 5 Fold CV to estimate regularisation coefficient\n",
      "\n",
      "*****************************************************************\n"
     ]
    },
    {
     "name": "stderr",
     "output_type": "stream",
     "text": [
      "/home/deepak/anaconda3/lib/python3.6/site-packages/sklearn/linear_model/coordinate_descent.py:491: ConvergenceWarning: Objective did not converge. You might want to increase the number of iterations. Fitting data with very small alpha may cause precision problems.\n",
      "  ConvergenceWarning)\n"
     ]
    },
    {
     "name": "stdout",
     "output_type": "stream",
     "text": [
      "The best regularising coefficient has value 1e-10\n",
      "The validation error (Mean RMSE) on fold  1 is  8.805200474333196\n",
      "The Error on training set for fold  1  is  8.396664926387055\n",
      "The Error on test set for fold  1 is  5.862882227672136\n",
      "\n",
      "\n",
      "The best regularising coefficient has value 1e-10\n",
      "The validation error (Mean RMSE) on fold  2 is  8.288344722700298\n",
      "The Error on training set for fold  2  is  7.831535293660918\n",
      "The Error on test set for fold  2 is  8.423006643506872\n",
      "\n",
      "\n",
      "The best regularising coefficient has value 1e-10\n",
      "The validation error (Mean RMSE) on fold  3 is  8.681850888561547\n",
      "The Error on training set for fold  3  is  8.29127682298061\n",
      "The Error on test set for fold  3 is  6.433276059282967\n",
      "\n",
      "\n",
      "The best regularising coefficient has value 1e-10\n",
      "The validation error (Mean RMSE) on fold  4 is  7.6255304767718055\n",
      "The Error on training set for fold  4  is  7.135307281632418\n",
      "The Error on test set for fold  4 is  10.606735356426531\n",
      "\n",
      "\n",
      "The best regularising coefficient has value 1e-10\n",
      "The validation error (Mean RMSE) on fold  5 is  8.570454694560091\n",
      "The Error on training set for fold  5  is  8.050004731494367\n",
      "The Error on test set for fold  5 is  7.550927837328091\n",
      "\n",
      "\n",
      "***************************************************************** \n",
      "\n",
      "The overall error on test is, 7.775365624843319\n",
      "Regularisation Coefficient 1e-10  is the best for this problem\n"
     ]
    }
   ],
   "source": [
    "print(\"Lasso Regression - 5 Fold CV to estimate regularisation coefficient\\n\")\n",
    "print(\"*\"*65)\n",
    "penalty = np.logspace(-10, -2, 100)\n",
    "k_fold = {i:{j:0 for j in range(1,5)} for i in range(1,6)}\n",
    "valid_overall = []\n",
    "fold_count = 0\n",
    "for train_index, test_index in kf.split(X):\n",
    "    fold_count+=1\n",
    "    X_train = X[train_index]\n",
    "    y_train = y[train_index]\n",
    "    X_test = X[test_index]\n",
    "    y_test = y[test_index]\n",
    "    penalty_wise = []\n",
    "    for i in range(len(penalty)):\n",
    "        validation = []\n",
    "        for valid_train, valid_test in kf_valid.split(X_train):\n",
    "            x_valid_train = X_train[valid_train]\n",
    "            y_valid_train = y_train[valid_train]\n",
    "            x_valid_test = X_train[valid_test]\n",
    "            y_valid_test = y_train[valid_test]\n",
    "            lasso = Lasso(alpha = penalty[i],max_iter = 10000)\n",
    "            lasso.fit(x_valid_train,y_valid_train)\n",
    "            predicted = lasso.predict(x_valid_test)\n",
    "            valid_error = np.sqrt(mean_squared_error(predicted,y_valid_test))\n",
    "            validation.append(valid_error)\n",
    "        penalty_wise.append(np.array(validation).mean())\n",
    "    #print(penalty_wise)\n",
    "    best_regulariser = penalty[np.argmin(np.array(penalty_wise))]\n",
    "    print(\"The best regularising coefficient has value\",best_regulariser)\n",
    "    print(\"The validation error (Mean RMSE) on fold \",fold_count, \"is \",penalty_wise[np.argmin(np.array(penalty_wise))])\n",
    "    lasso = Lasso(alpha = best_regulariser,max_iter=10000)\n",
    "    lasso.fit(X_train,y_train)\n",
    "    train_error = np.sqrt(mean_squared_error(ridge.predict(X_train),y_train))\n",
    "    print(\"The Error on training set for fold \",fold_count,\" is \",train_error)\n",
    "    test_error = np.sqrt(mean_squared_error(ridge.predict(X_test),y_test))\n",
    "    print(\"The Error on test set for fold \",fold_count, \"is \", test_error)\n",
    "    valid_overall.append(test_error)\n",
    "    print(\"\\n\")\n",
    "print(\"*\"*65,\"\\n\")\n",
    "print(\"The overall error on test is,\",np.array(valid_overall).mean())\n",
    "print(\"Regularisation Coefficient\",best_regulariser,\" is the best for this problem\")"
   ]
  },
  {
   "cell_type": "markdown",
   "metadata": {},
   "source": [
    "### 5(c)"
   ]
  },
  {
   "cell_type": "code",
   "execution_count": 8,
   "metadata": {},
   "outputs": [
    {
     "data": {
      "image/png": "[encoded data removed]",
      "text/plain": [
       "<Figure size 432x288 with 1 Axes>"
      ]
     },
     "metadata": {
      "needs_background": "light"
     },
     "output_type": "display_data"
    },
    {
     "name": "stdout",
     "output_type": "stream",
     "text": [
      "***************************************************************** \n",
      "\n"
     ]
    },
    {
     "name": "stderr",
     "output_type": "stream",
     "text": [
      "/home/deepak/anaconda3/lib/python3.6/site-packages/sklearn/linear_model/coordinate_descent.py:491: ConvergenceWarning: Objective did not converge. You might want to increase the number of iterations. Fitting data with very small alpha may cause precision problems.\n",
      "  ConvergenceWarning)\n"
     ]
    },
    {
     "data": {
      "image/png": "[encoded data removed]",
      "text/plain": [
       "<Figure size 432x288 with 1 Axes>"
      ]
     },
     "metadata": {
      "needs_background": "light"
     },
     "output_type": "display_data"
    }
   ],
   "source": [
    "penalty = np.logspace(-10, -2, 100)\n",
    "coefficients = []\n",
    "intercept = []\n",
    "for i in penalty:\n",
    "    ridge = Ridge(alpha=i)\n",
    "    ridge.fit(X, y)\n",
    "    coefficients.append(ridge.coef_)\n",
    "    intercept.append(ridge.intercept_)\n",
    "ax = plt.gca()\n",
    "\n",
    "ax.plot(penalty,np.array(intercept),label='Theta0')\n",
    "ax.plot(penalty,np.array(coefficients)[:,0],label='Theta1')\n",
    "ax.plot(penalty,np.array(coefficients)[:,1],label='Theta2')\n",
    "ax.plot(penalty,np.array(coefficients)[:,2],label='Theta3')\n",
    "ax.plot(penalty,np.array(coefficients)[:,3],label='Theta4')\n",
    "ax.plot(penalty,np.array(coefficients)[:,4],label='Theta5')\n",
    "ax.plot(penalty,np.array(coefficients)[:,5],label='Theta6')\n",
    "ax.plot(penalty,np.array(coefficients)[:,6],label='Theta7')\n",
    "ax.set_xscale('log')\n",
    "ax.set_xlim(ax.get_xlim()[::-1])\n",
    "plt.xlabel('Regularisation Coefficient')\n",
    "plt.ylabel('Thetas')\n",
    "plt.legend()\n",
    "plt.title('Ridge coefficients as a function of the regularization')\n",
    "plt.show()\n",
    "print(\"*\"*65,\"\\n\")\n",
    "\n",
    "penalty = np.logspace(-10, -2, 100)\n",
    "coefficients = []\n",
    "intercept = []\n",
    "for i in penalty:\n",
    "    lasso = Lasso(alpha=i)\n",
    "    lasso.fit(X, y)\n",
    "    coefficients.append(lasso.coef_)\n",
    "    intercept.append(lasso.intercept_)\n",
    "ax = plt.gca()\n",
    "\n",
    "ax.plot(penalty,np.array(intercept),label='Theta0')\n",
    "ax.plot(penalty,np.array(coefficients)[:,0],label='Theta1')\n",
    "ax.plot(penalty,np.array(coefficients)[:,1],label='Theta2')\n",
    "ax.plot(penalty,np.array(coefficients)[:,2],label='Theta3')\n",
    "ax.plot(penalty,np.array(coefficients)[:,3],label='Theta4')\n",
    "ax.plot(penalty,np.array(coefficients)[:,4],label='Theta5')\n",
    "ax.plot(penalty,np.array(coefficients)[:,5],label='Theta6')\n",
    "ax.plot(penalty,np.array(coefficients)[:,6],label='Theta7')\n",
    "ax.set_xscale('log')\n",
    "ax.set_xlim(ax.get_xlim()[::-1])\n",
    "plt.xlabel('Regularisation Coefficient')\n",
    "plt.ylabel('Thetas')\n",
    "plt.legend()\n",
    "plt.title('Lasso coefficients as a function of the regularization')\n",
    "plt.tight_layout()\n",
    "plt.show()\n"
   ]
  },
  {
   "cell_type": "markdown",
   "metadata": {},
   "source": [
    "As we can see, L1 regularisation in general causes more sparsity in the solution as it forces a lot many parameters to be close to zero (note the scale), in comparison to the L2 regularisation.\n",
    "* Kuch Aur Likhna Padega*"
   ]
  },
  {
   "cell_type": "markdown",
   "metadata": {},
   "source": [
    "### 5(d)"
   ]
  },
  {
   "cell_type": "code",
   "execution_count": 9,
   "metadata": {},
   "outputs": [
    {
     "name": "stderr",
     "output_type": "stream",
     "text": [
      "/home/deepak/anaconda3/lib/python3.6/site-packages/sklearn/linear_model/coordinate_descent.py:491: ConvergenceWarning: Objective did not converge. You might want to increase the number of iterations. Fitting data with very small alpha may cause precision problems.\n",
      "  ConvergenceWarning)\n"
     ]
    }
   ],
   "source": [
    "X_train, X_test, y_train, y_test = train_test_split(X,y,random_state = 42, test_size=0.2)\n",
    "penalty = np.logspace(-10, 0, 100)\n",
    "l1_test_error = []\n",
    "l1_train_error = []\n",
    "l2_train_error = []\n",
    "l2_test_error  =[]\n",
    "for i in range(len(penalty)):\n",
    "    ridge = Ridge(alpha = penalty[i])\n",
    "    lasso = Lasso(alpha = penalty[i])\n",
    "    ridge.fit(X_train,y_train)\n",
    "    lasso.fit(X_train,y_train)\n",
    "    predicted_l2 = ridge.predict(X_test)\n",
    "    predicted_l1 = lasso.predict(X_test)\n",
    "    l2_test_error.append(np.sqrt(mean_squared_error(predicted_l2,y_test)))\n",
    "    l2_train_error.append(np.sqrt(mean_squared_error(ridge.predict(X_train),y_train)))\n",
    "    l1_test_error.append(np.sqrt(mean_squared_error(predicted_l1,y_test)))\n",
    "    l1_train_error.append(np.sqrt(mean_squared_error(lasso.predict(X_train),y_train)))"
   ]
  },
  {
   "cell_type": "code",
   "execution_count": 10,
   "metadata": {},
   "outputs": [
    {
     "data": {
      "text/plain": [
       "<matplotlib.legend.Legend at 0x7fdece4615c0>"
      ]
     },
     "execution_count": 10,
     "metadata": {},
     "output_type": "execute_result"
    },
    {
     "data": {
      "image/png": "[encoded data removed]",
      "text/plain": [
       "<Figure size 432x288 with 1 Axes>"
      ]
     },
     "metadata": {
      "needs_background": "light"
     },
     "output_type": "display_data"
    }
   ],
   "source": [
    "plt.xscale('log')\n",
    "plt.xlabel('Regularization Coefficient')\n",
    "plt.ylabel('RMSE')\n",
    "plt.title('RMSE v/s Regularisation Coefficient')\n",
    "plt.plot(penalty,l1_test_error,label='L1 Test Error')\n",
    "plt.plot(penalty,l1_train_error,label = 'L1 Train Error')\n",
    "plt.plot(penalty,l2_test_error,label = 'L2 Test Error')\n",
    "plt.plot(penalty, l2_train_error,label = 'L2 Train Error')\n",
    "plt.legend()"
   ]
  }
 ],
 "metadata": {
  "kernelspec": {
   "display_name": "Python 3",
   "language": "python",
   "name": "python3"
  },
  "language_info": {
   "codemirror_mode": {
    "name": "ipython",
    "version": 3
   },
   "file_extension": ".py",
   "mimetype": "text/x-python",
   "name": "python",
   "nbconvert_exporter": "python",
   "pygments_lexer": "ipython3",
   "version": "3.6.8"
  }
 },
 "nbformat": 4,
 "nbformat_minor": 2
}
